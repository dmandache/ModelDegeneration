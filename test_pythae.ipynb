{
 "cells": [
  {
   "attachments": {},
   "cell_type": "markdown",
   "metadata": {},
   "source": [
    "# Technical Test Pythae\n",
    "\n",
    "To run this notebook you will need a Python version >=3.8"
   ]
  },
  {
   "attachments": {},
   "cell_type": "markdown",
   "metadata": {},
   "source": [
    "## Preliminaries: Setup environnement & Data"
   ]
  },
  {
   "cell_type": "code",
   "execution_count": 26,
   "metadata": {},
   "outputs": [],
   "source": [
    "#%pip install pythae torchvision torch torchsummary matplotlib"
   ]
  },
  {
   "cell_type": "code",
   "execution_count": null,
   "metadata": {},
   "outputs": [],
   "source": [
    "import matplotlib.pyplot as plt\n",
    "\n",
    "def plot_grid(mat_data, grid_size=5):\n",
    "\n",
    "    _, ax = plt.subplots(nrows=grid_size, ncols=grid_size, figsize=(8,8))\n",
    "\n",
    "    for i in range(grid_size):\n",
    "        for j in range(grid_size):\n",
    "            ax[i][j].imshow(mat_data[i*grid_size+j].movedim(0, 2), cmap='gray')\n",
    "            ax[i][j].axis('off')\n",
    "    plt.tight_layout()"
   ]
  },
  {
   "cell_type": "code",
   "execution_count": 27,
   "metadata": {},
   "outputs": [],
   "source": [
    "import torch\n",
    "from torch.utils.data import Dataset\n",
    "from pythae.data.datasets import DatasetOutput\n",
    "\n",
    "\n",
    "class MNIST(Dataset):\n",
    "    def __init__(self, data):\n",
    "        self.data = data #.type(torch.float)\n",
    "\n",
    "    def __len__(self):\n",
    "        return len(self.data)\n",
    "\n",
    "    def __getitem__(self, index):\n",
    "        x = self.data[index]\n",
    "        return DatasetOutput(data=x)"
   ]
  },
  {
   "cell_type": "code",
   "execution_count": 28,
   "metadata": {},
   "outputs": [],
   "source": [
    "import torch\n",
    "from torch.utils.data import Dataset, ConcatDataset\n",
    "from pythae.data.datasets import DatasetOutput\n",
    "from torchvision import datasets\n",
    "\n",
    "mnist_trainset = datasets.MNIST(root='./data', train=True, download=True, transform=None)"
   ]
  },
  {
   "cell_type": "code",
   "execution_count": 29,
   "metadata": {},
   "outputs": [],
   "source": [
    "import random\n",
    "\n",
    "def sample_indices(vector, k, seed=None):\n",
    "    # # Example usage:\n",
    "    # vector = torch.tensor([0, 0, 1, 1, 2, 2, 2, 3, 3, 3, 3])  # Example tensor with 4 labels\n",
    "    # k = 3  # Number of points to sample from each label\n",
    "    # seed = 42  # Seed for reproducibility\n",
    "    # sampled_indices = sample_indices(vector, k, seed)\n",
    "    # print(\"Sampled indices:\", sampled_indices)\n",
    "\n",
    "    if seed is not None:\n",
    "        random.seed(seed)\n",
    "\n",
    "    indices = []\n",
    "    label_dict = {}\n",
    "\n",
    "    # Group indices by label\n",
    "    for i, label in enumerate(vector):\n",
    "        label = label.item() if torch.is_tensor(label) else label\n",
    "        if label not in label_dict:\n",
    "            label_dict[label] = [i]\n",
    "        else:\n",
    "            label_dict[label].append(i)\n",
    "\n",
    "    # Sample k points from each label\n",
    "    for label, label_indices in label_dict.items():\n",
    "        sampled_indices = random.sample(label_indices, min(k, len(label_indices)))\n",
    "        indices.extend(sampled_indices)\n",
    "\n",
    "    random.shuffle(indices)\n",
    "\n",
    "    return indices"
   ]
  },
  {
   "cell_type": "code",
   "execution_count": 30,
   "metadata": {},
   "outputs": [],
   "source": [
    "train_indeces = sample_indices(mnist_trainset.targets, k=20, seed=42)\n",
    "\n",
    "remaining_indeces = list(set(range(len(mnist_trainset.targets)))-set(train_indeces))\n",
    "test_indeces = sample_indices(mnist_trainset.targets[remaining_indeces], k=10, seed=42)"
   ]
  },
  {
   "cell_type": "code",
   "execution_count": 31,
   "metadata": {},
   "outputs": [
    {
     "name": "stdout",
     "output_type": "stream",
     "text": [
      "torch.Size([200, 1, 28, 28]) torch.Size([100, 1, 28, 28])\n"
     ]
    }
   ],
   "source": [
    "train_dataset = mnist_trainset.data[train_indeces].reshape(-1, 1, 28, 28) / 255.\n",
    "eval_dataset = mnist_trainset.data[test_indeces].reshape(-1, 1, 28, 28) / 255.\n",
    "print(train_dataset.shape, eval_dataset.shape)"
   ]
  },
  {
   "cell_type": "code",
   "execution_count": 33,
   "metadata": {},
   "outputs": [
    {
     "data": {
      "image/png": "[encoded data removed]",
      "text/plain": [
       "<Figure size 500x500 with 16 Axes>"
      ]
     },
     "metadata": {},
     "output_type": "display_data"
    }
   ],
   "source": [
    "import matplotlib.pyplot as plt\n",
    "\n",
    "\n",
    "_, ax = plt.subplots(nrows=4, ncols=4, figsize=(5,5))\n",
    "\n",
    "for i in range(4):\n",
    "    for j in range(4):\n",
    "        ax[i][j].imshow(train_dataset[i*4+j].movedim(0, 2), cmap='gray')\n",
    "        ax[i][j].axis('off')\n",
    "plt.tight_layout()"
   ]
  },
  {
   "attachments": {},
   "cell_type": "markdown",
   "metadata": {},
   "source": [
    "## Step 1: Training a VAE with Pythae"
   ]
  },
  {
   "cell_type": "code",
   "execution_count": 34,
   "metadata": {},
   "outputs": [],
   "source": [
    "from pythae.models import RHVAEConfig, RHVAE\n",
    "from pythae.models.nn.benchmarks.mnist import *\n",
    "\n",
    "model_config = RHVAEConfig(\n",
    "    input_dim=(1, 28, 28),\n",
    "    latent_dim=8\n",
    ")\n",
    "\n",
    "model = RHVAE(\n",
    "    model_config=model_config,\n",
    "    encoder=Encoder_ResNet_VAE_MNIST(model_config),\n",
    "    decoder=Decoder_ResNet_AE_MNIST(model_config)\n",
    ")"
   ]
  },
  {
   "cell_type": "code",
   "execution_count": 35,
   "metadata": {},
   "outputs": [
    {
     "name": "stderr",
     "output_type": "stream",
     "text": [
      "Preprocessing train data...\n",
      "Checking train dataset...\n",
      "Preprocessing eval data...\n",
      "\n",
      "Checking eval dataset...\n",
      "Using Base Trainer\n",
      "\n",
      "Model passed sanity check !\n",
      "Ready for training.\n",
      "\n",
      "Created experiments/RHVAE_training_2024-04-09_11-58-11. \n",
      "Training config, checkpoints and final model will be saved here.\n",
      "\n",
      "Training params:\n",
      " - max_epochs: 10\n",
      " - per_device_train_batch_size: 100\n",
      " - per_device_eval_batch_size: 100\n",
      " - checkpoint saving every: None\n",
      "Optimizer: Adam (\n",
      "Parameter Group 0\n",
      "    amsgrad: False\n",
      "    betas: (0.9, 0.999)\n",
      "    capturable: False\n",
      "    differentiable: False\n",
      "    eps: 1e-08\n",
      "    foreach: None\n",
      "    fused: None\n",
      "    lr: 0.003\n",
      "    maximize: False\n",
      "    weight_decay: 0\n",
      ")\n",
      "Scheduler: None\n",
      "\n",
      "Successfully launched training !\n",
      "\n"
     ]
    },
    {
     "data": {
      "application/vnd.jupyter.widget-view+json": {
       "model_id": "1e29a82066364fbe950b653dd0045cd0",
       "version_major": 2,
       "version_minor": 0
      },
      "text/plain": [
       "Training of epoch 1/10:   0%|          | 0/2 [00:00<?, ?batch/s]"
      ]
     },
     "metadata": {},
     "output_type": "display_data"
    },
    {
     "data": {
      "application/vnd.jupyter.widget-view+json": {
       "model_id": "6e61b668f7b24d2baa071e4d6eac0f72",
       "version_major": 2,
       "version_minor": 0
      },
      "text/plain": [
       "Eval of epoch 1/10:   0%|          | 0/1 [00:00<?, ?batch/s]"
      ]
     },
     "metadata": {},
     "output_type": "display_data"
    },
    {
     "name": "stderr",
     "output_type": "stream",
     "text": [
      "--------------------------------------------------------------------------\n",
      "Train loss: 125.462\n",
      "Eval loss: 67.4704\n",
      "--------------------------------------------------------------------------\n"
     ]
    },
    {
     "data": {
      "application/vnd.jupyter.widget-view+json": {
       "model_id": "6be0ccab6e1a41ddbed6771cbad8b184",
       "version_major": 2,
       "version_minor": 0
      },
      "text/plain": [
       "Training of epoch 2/10:   0%|          | 0/2 [00:00<?, ?batch/s]"
      ]
     },
     "metadata": {},
     "output_type": "display_data"
    },
    {
     "data": {
      "application/vnd.jupyter.widget-view+json": {
       "model_id": "99848cb842ba4f138622b5b3beb228ee",
       "version_major": 2,
       "version_minor": 0
      },
      "text/plain": [
       "Eval of epoch 2/10:   0%|          | 0/1 [00:00<?, ?batch/s]"
      ]
     },
     "metadata": {},
     "output_type": "display_data"
    },
    {
     "name": "stderr",
     "output_type": "stream",
     "text": [
      "--------------------------------------------------------------------------\n",
      "Train loss: 142.4732\n",
      "Eval loss: 74.4083\n",
      "--------------------------------------------------------------------------\n"
     ]
    },
    {
     "data": {
      "application/vnd.jupyter.widget-view+json": {
       "model_id": "248850f1acac47f39d66b11bd74c1653",
       "version_major": 2,
       "version_minor": 0
      },
      "text/plain": [
       "Training of epoch 3/10:   0%|          | 0/2 [00:00<?, ?batch/s]"
      ]
     },
     "metadata": {},
     "output_type": "display_data"
    },
    {
     "data": {
      "application/vnd.jupyter.widget-view+json": {
       "model_id": "f4dc5e4ed6704868a745fe89f7a5089d",
       "version_major": 2,
       "version_minor": 0
      },
      "text/plain": [
       "Eval of epoch 3/10:   0%|          | 0/1 [00:00<?, ?batch/s]"
      ]
     },
     "metadata": {},
     "output_type": "display_data"
    },
    {
     "name": "stderr",
     "output_type": "stream",
     "text": [
      "--------------------------------------------------------------------------\n",
      "Train loss: 63.4143\n",
      "Eval loss: 55.1775\n",
      "--------------------------------------------------------------------------\n"
     ]
    },
    {
     "data": {
      "application/vnd.jupyter.widget-view+json": {
       "model_id": "5a58a744f4624226b17bf8526946f0ae",
       "version_major": 2,
       "version_minor": 0
      },
      "text/plain": [
       "Training of epoch 4/10:   0%|          | 0/2 [00:00<?, ?batch/s]"
      ]
     },
     "metadata": {},
     "output_type": "display_data"
    },
    {
     "data": {
      "application/vnd.jupyter.widget-view+json": {
       "model_id": "015e5bedb2b247b7ab962d4507df9812",
       "version_major": 2,
       "version_minor": 0
      },
      "text/plain": [
       "Eval of epoch 4/10:   0%|          | 0/1 [00:00<?, ?batch/s]"
      ]
     },
     "metadata": {},
     "output_type": "display_data"
    },
    {
     "name": "stderr",
     "output_type": "stream",
     "text": [
      "--------------------------------------------------------------------------\n",
      "Train loss: 78.9035\n",
      "Eval loss: 93.1562\n",
      "--------------------------------------------------------------------------\n"
     ]
    },
    {
     "data": {
      "application/vnd.jupyter.widget-view+json": {
       "model_id": "4cb617c46b3a40cc88503dff4f7eb265",
       "version_major": 2,
       "version_minor": 0
      },
      "text/plain": [
       "Training of epoch 5/10:   0%|          | 0/2 [00:00<?, ?batch/s]"
      ]
     },
     "metadata": {},
     "output_type": "display_data"
    },
    {
     "data": {
      "application/vnd.jupyter.widget-view+json": {
       "model_id": "dc6c83dd256947b4aba27af65e2286f2",
       "version_major": 2,
       "version_minor": 0
      },
      "text/plain": [
       "Eval of epoch 5/10:   0%|          | 0/1 [00:00<?, ?batch/s]"
      ]
     },
     "metadata": {},
     "output_type": "display_data"
    },
    {
     "name": "stderr",
     "output_type": "stream",
     "text": [
      "--------------------------------------------------------------------------\n",
      "Train loss: 81.0916\n",
      "Eval loss: 73.8212\n",
      "--------------------------------------------------------------------------\n"
     ]
    },
    {
     "data": {
      "application/vnd.jupyter.widget-view+json": {
       "model_id": "93949026ce144070b1b7d52970a5098e",
       "version_major": 2,
       "version_minor": 0
      },
      "text/plain": [
       "Training of epoch 6/10:   0%|          | 0/2 [00:00<?, ?batch/s]"
      ]
     },
     "metadata": {},
     "output_type": "display_data"
    },
    {
     "data": {
      "application/vnd.jupyter.widget-view+json": {
       "model_id": "637259295a394920b69932d0c5ce1492",
       "version_major": 2,
       "version_minor": 0
      },
      "text/plain": [
       "Eval of epoch 6/10:   0%|          | 0/1 [00:00<?, ?batch/s]"
      ]
     },
     "metadata": {},
     "output_type": "display_data"
    },
    {
     "name": "stderr",
     "output_type": "stream",
     "text": [
      "--------------------------------------------------------------------------\n",
      "Train loss: 70.3639\n",
      "Eval loss: 72.1337\n",
      "--------------------------------------------------------------------------\n"
     ]
    },
    {
     "data": {
      "application/vnd.jupyter.widget-view+json": {
       "model_id": "d4b15f7c12a24dcb99030aa933aaaac9",
       "version_major": 2,
       "version_minor": 0
      },
      "text/plain": [
       "Training of epoch 7/10:   0%|          | 0/2 [00:00<?, ?batch/s]"
      ]
     },
     "metadata": {},
     "output_type": "display_data"
    },
    {
     "data": {
      "application/vnd.jupyter.widget-view+json": {
       "model_id": "332690d2faa34fd99bb26ef432b8b40c",
       "version_major": 2,
       "version_minor": 0
      },
      "text/plain": [
       "Eval of epoch 7/10:   0%|          | 0/1 [00:00<?, ?batch/s]"
      ]
     },
     "metadata": {},
     "output_type": "display_data"
    },
    {
     "name": "stderr",
     "output_type": "stream",
     "text": [
      "--------------------------------------------------------------------------\n",
      "Train loss: 68.9536\n",
      "Eval loss: 67.0484\n",
      "--------------------------------------------------------------------------\n"
     ]
    },
    {
     "data": {
      "application/vnd.jupyter.widget-view+json": {
       "model_id": "b3ef838cfca5497081d0b4ec843688b1",
       "version_major": 2,
       "version_minor": 0
      },
      "text/plain": [
       "Training of epoch 8/10:   0%|          | 0/2 [00:00<?, ?batch/s]"
      ]
     },
     "metadata": {},
     "output_type": "display_data"
    },
    {
     "data": {
      "application/vnd.jupyter.widget-view+json": {
       "model_id": "21efddc41f3c492385d1ea4005d71097",
       "version_major": 2,
       "version_minor": 0
      },
      "text/plain": [
       "Eval of epoch 8/10:   0%|          | 0/1 [00:00<?, ?batch/s]"
      ]
     },
     "metadata": {},
     "output_type": "display_data"
    },
    {
     "name": "stderr",
     "output_type": "stream",
     "text": [
      "--------------------------------------------------------------------------\n",
      "Train loss: 63.203\n",
      "Eval loss: 62.1272\n",
      "--------------------------------------------------------------------------\n"
     ]
    },
    {
     "data": {
      "application/vnd.jupyter.widget-view+json": {
       "model_id": "88513a7709524d37b031b98b13b20a2c",
       "version_major": 2,
       "version_minor": 0
      },
      "text/plain": [
       "Training of epoch 9/10:   0%|          | 0/2 [00:00<?, ?batch/s]"
      ]
     },
     "metadata": {},
     "output_type": "display_data"
    },
    {
     "data": {
      "application/vnd.jupyter.widget-view+json": {
       "model_id": "c03ab1f7eae94c4090af5ea3b483f17c",
       "version_major": 2,
       "version_minor": 0
      },
      "text/plain": [
       "Eval of epoch 9/10:   0%|          | 0/1 [00:00<?, ?batch/s]"
      ]
     },
     "metadata": {},
     "output_type": "display_data"
    },
    {
     "name": "stderr",
     "output_type": "stream",
     "text": [
      "--------------------------------------------------------------------------\n",
      "Train loss: 58.2451\n",
      "Eval loss: 57.315\n",
      "--------------------------------------------------------------------------\n"
     ]
    },
    {
     "data": {
      "application/vnd.jupyter.widget-view+json": {
       "model_id": "7f52bb0b610c489cbe7f5ba67bc33858",
       "version_major": 2,
       "version_minor": 0
      },
      "text/plain": [
       "Training of epoch 10/10:   0%|          | 0/2 [00:00<?, ?batch/s]"
      ]
     },
     "metadata": {},
     "output_type": "display_data"
    },
    {
     "data": {
      "application/vnd.jupyter.widget-view+json": {
       "model_id": "33e47ca44c46437faff9a519fa2a8070",
       "version_major": 2,
       "version_minor": 0
      },
      "text/plain": [
       "Eval of epoch 10/10:   0%|          | 0/1 [00:00<?, ?batch/s]"
      ]
     },
     "metadata": {},
     "output_type": "display_data"
    },
    {
     "name": "stderr",
     "output_type": "stream",
     "text": [
      "--------------------------------------------------------------------------\n",
      "Train loss: 56.03\n",
      "Eval loss: 54.2155\n",
      "--------------------------------------------------------------------------\n",
      "Training ended!\n",
      "Saved final model in experiments/RHVAE_training_2024-04-09_11-58-11/final_model\n"
     ]
    }
   ],
   "source": [
    "from pythae.trainers import BaseTrainerConfig, BaseTrainer\n",
    "from pythae.pipelines.training import TrainingPipeline\n",
    "\n",
    "training_config = BaseTrainerConfig(\n",
    "    output_dir='experiments',\n",
    "    num_epochs=35,\n",
    "    learning_rate=1e-3,\n",
    "    per_device_train_batch_size=100,\n",
    "    per_device_eval_batch_size=100,\n",
    ")\n",
    "\n",
    "# trainer = BaseTrainer(\n",
    "#     model=model,\n",
    "#     train_dataset=train_dataset,\n",
    "#     eval_dataset=eval_dataset,\n",
    "#     training_config=training_config\n",
    "# )\n",
    "\n",
    "# trainer.train()\n",
    "\n",
    "pipeline = TrainingPipeline(\n",
    "        training_config=training_config,\n",
    "        model=model\n",
    ")\n",
    "\n",
    "\n",
    "pipeline(\n",
    "    train_data=train_dataset,\n",
    "    eval_data=eval_dataset\n",
    ")\n",
    "    "
   ]
  },
  {
   "attachments": {},
   "cell_type": "markdown",
   "metadata": {},
   "source": [
    "## Step 2: Generating synthetic images with PythAE"
   ]
  },
  {
   "cell_type": "code",
   "execution_count": 36,
   "metadata": {},
   "outputs": [],
   "source": [
    "from pythae.models import AutoModel\n",
    "\n",
    "import glob\n",
    "\n",
    "# trained_model = AutoModel.load_from_folder(\n",
    "#     glob.glob('experiments/*/final_model')[0]\n",
    "# )\n",
    "\n",
    "trained_model = model"
   ]
  },
  {
   "cell_type": "markdown",
   "metadata": {},
   "source": [
    "### Normal Sampler"
   ]
  },
  {
   "cell_type": "code",
   "execution_count": 37,
   "metadata": {},
   "outputs": [],
   "source": [
    "from pythae.samplers import NormalSampler\n",
    "\n",
    "\n",
    "sampler = NormalSampler(\n",
    "    model=trained_model,\n",
    "    sampler_config=None\n",
    ")\n",
    "gen_data = sampler.sample(\n",
    "    num_samples=25,\n",
    ")"
   ]
  },
  {
   "cell_type": "code",
   "execution_count": 38,
   "metadata": {},
   "outputs": [
    {
     "data": {
      "image/png": "[encoded data removed]",
      "text/plain": [
       "<Figure size 500x500 with 16 Axes>"
      ]
     },
     "metadata": {},
     "output_type": "display_data"
    }
   ],
   "source": []
  },
  {
   "cell_type": "markdown",
   "metadata": {},
   "source": [
    "### Gaussian Mixture Model Sampler"
   ]
  },
  {
   "cell_type": "code",
   "execution_count": 39,
   "metadata": {},
   "outputs": [],
   "source": [
    "from pythae.samplers import GaussianMixtureSampler, GaussianMixtureSamplerConfig\n",
    "\n",
    "\n",
    "gmm_sampler_config = GaussianMixtureSamplerConfig(\n",
    "    n_components=10\n",
    ")\n",
    "\n",
    "gmm_sampler = GaussianMixtureSampler(\n",
    "    sampler_config=gmm_sampler_config,\n",
    "    model=trained_model\n",
    ")\n",
    "\n",
    "gmm_sampler.fit(\n",
    "    train_data=train_dataset\n",
    ")\n",
    "\n",
    "gmm_gen_data = gmm_sampler.sample(\n",
    "   num_samples=16\n",
    ")"
   ]
  },
  {
   "cell_type": "code",
   "execution_count": 40,
   "metadata": {},
   "outputs": [
    {
     "data": {
      "image/png": "[encoded data removed]",
      "text/plain": [
       "<Figure size 500x500 with 16 Axes>"
      ]
     },
     "metadata": {},
     "output_type": "display_data"
    }
   ],
   "source": [
    "import matplotlib.pyplot as plt\n",
    "\n",
    "\n",
    "_, ax = plt.subplots(nrows=4, ncols=4, figsize=(5,5))\n",
    "\n",
    "for i in range(4):\n",
    "    for j in range(4):\n",
    "        ax[i][j].imshow(gmm_gen_data[i*4+j].movedim(0, 2), cmap='gray')\n",
    "        ax[i][j].axis('off')\n",
    "plt.tight_layout()"
   ]
  },
  {
   "cell_type": "markdown",
   "metadata": {},
   "source": [
    "### RHVAE Sampler"
   ]
  },
  {
   "cell_type": "code",
   "execution_count": 41,
   "metadata": {},
   "outputs": [],
   "source": [
    "from pythae.samplers import RHVAESampler, RHVAESamplerConfig\n",
    "\n",
    "\n",
    "rh_sampler_config = RHVAESamplerConfig(\n",
    ")\n",
    "\n",
    "rh_sampler = RHVAESampler(\n",
    "    sampler_config=None,\n",
    "    model=trained_model\n",
    ")\n",
    "\n",
    "rh_sampler.fit(\n",
    "    train_data=train_dataset\n",
    ")\n",
    "\n",
    "rh_gen_data = rh_sampler.sample(\n",
    "   num_samples=16\n",
    ")"
   ]
  },
  {
   "cell_type": "code",
   "execution_count": 42,
   "metadata": {},
   "outputs": [
    {
     "data": {
      "image/png": "[encoded data removed]",
      "text/plain": [
       "<Figure size 500x500 with 16 Axes>"
      ]
     },
     "metadata": {},
     "output_type": "display_data"
    }
   ],
   "source": [
    "import matplotlib.pyplot as plt\n",
    "\n",
    "\n",
    "_, ax = plt.subplots(nrows=4, ncols=4, figsize=(5,5))\n",
    "\n",
    "for i in range(4):\n",
    "    for j in range(4):\n",
    "        ax[i][j].imshow(rh_gen_data[i*4+j].movedim(0, 2), cmap='gray')\n",
    "        ax[i][j].axis('off')\n",
    "plt.tight_layout()"
   ]
  },
  {
   "cell_type": "code",
   "execution_count": 43,
   "metadata": {},
   "outputs": [
    {
     "data": {
      "text/plain": [
       "torch.Size([16, 1, 28, 28])"
      ]
     },
     "execution_count": 43,
     "metadata": {},
     "output_type": "execute_result"
    }
   ],
   "source": [
    "rh_gen_data.shape"
   ]
  },
  {
   "cell_type": "code",
   "execution_count": 51,
   "metadata": {},
   "outputs": [
    {
     "data": {
      "text/plain": [
       "torch.Size([216, 1, 28, 28])"
      ]
     },
     "execution_count": 51,
     "metadata": {},
     "output_type": "execute_result"
    }
   ],
   "source": [
    "#combined_dataset = ConcatDataset([train_dataset, rh_gen_data])\n",
    "combined_dataset = torch.cat((train_dataset, rh_gen_data), 0)\n",
    "combined_dataset = combined_dataset[torch.randperm(combined_dataset.size()[0])]\n",
    "combined_dataset.shape"
   ]
  },
  {
   "cell_type": "code",
   "execution_count": null,
   "metadata": {},
   "outputs": [],
   "source": []
  },
  {
   "cell_type": "code",
   "execution_count": null,
   "metadata": {},
   "outputs": [],
   "source": []
  }
 ],
 "metadata": {
  "kernelspec": {
   "display_name": "Python 3 (ipykernel)",
   "language": "python",
   "name": "python3"
  },
  "language_info": {
   "codemirror_mode": {
    "name": "ipython",
    "version": 3
   },
   "file_extension": ".py",
   "mimetype": "text/x-python",
   "name": "python",
   "nbconvert_exporter": "python",
   "pygments_lexer": "ipython3",
   "version": "3.10.12"
  },
  "vscode": {
   "interpreter": {
    "hash": "ce8eda53abee1465fbe210c65d7898904902cb11262939320a138d6c4f1f5b5e"
   }
  }
 },
 "nbformat": 4,
 "nbformat_minor": 4
}
