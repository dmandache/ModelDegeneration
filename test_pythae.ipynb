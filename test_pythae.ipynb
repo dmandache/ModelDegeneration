{
 "cells": [
  {
   "attachments": {},
   "cell_type": "markdown",
   "metadata": {},
   "source": [
    "# Technical Test Pythae\n",
    "\n",
    "To run this notebook you will need a Python version >=3.8"
   ]
  },
  {
   "attachments": {},
   "cell_type": "markdown",
   "metadata": {},
   "source": [
    "## Preliminaries: Setup environnement & Data"
   ]
  },
  {
   "cell_type": "code",
   "execution_count": 1,
   "metadata": {},
   "outputs": [],
   "source": [
    "#%pip install pythae torchvision torch torchsummary matplotlib"
   ]
  },
  {
   "cell_type": "code",
   "execution_count": 2,
   "metadata": {},
   "outputs": [],
   "source": [
    "import torch\n",
    "from torch.utils.data import Dataset\n",
    "from pythae.data.datasets import DatasetOutput\n",
    "\n",
    "\n",
    "class MNIST(Dataset):\n",
    "    def __init__(self, data):\n",
    "        self.data = data.type(torch.float)\n",
    "\n",
    "    def __len__(self):\n",
    "        return len(self.data)\n",
    "\n",
    "    def __getitem__(self, index):\n",
    "        x = self.data[index]\n",
    "        return DatasetOutput(data=x)\n"
   ]
  },
  {
   "cell_type": "code",
   "execution_count": 3,
   "metadata": {},
   "outputs": [],
   "source": [
    "from torchvision import datasets\n",
    "\n",
    "mnist_trainset = datasets.MNIST(root='./data', train=True, download=True, transform=None)"
   ]
  },
  {
   "cell_type": "code",
   "execution_count": 4,
   "metadata": {},
   "outputs": [],
   "source": [
    "import random\n",
    "\n",
    "def sample_indices(vector, k, seed=None):\n",
    "    # # Example usage:\n",
    "    # vector = torch.tensor([0, 0, 1, 1, 2, 2, 2, 3, 3, 3, 3])  # Example tensor with 4 labels\n",
    "    # k = 3  # Number of points to sample from each label\n",
    "    # seed = 42  # Seed for reproducibility\n",
    "    # sampled_indices = sample_indices(vector, k, seed)\n",
    "    # print(\"Sampled indices:\", sampled_indices)\n",
    "\n",
    "    if seed is not None:\n",
    "        random.seed(seed)\n",
    "\n",
    "    indices = []\n",
    "    label_dict = {}\n",
    "\n",
    "    # Group indices by label\n",
    "    for i, label in enumerate(vector):\n",
    "        label = label.item() if torch.is_tensor(label) else label\n",
    "        if label not in label_dict:\n",
    "            label_dict[label] = [i]\n",
    "        else:\n",
    "            label_dict[label].append(i)\n",
    "\n",
    "    # Sample k points from each label\n",
    "    for label, label_indices in label_dict.items():\n",
    "        sampled_indices = random.sample(label_indices, min(k, len(label_indices)))\n",
    "        indices.extend(sampled_indices)\n",
    "\n",
    "    random.shuffle(indices)\n",
    "\n",
    "    return indices"
   ]
  },
  {
   "cell_type": "code",
   "execution_count": 5,
   "metadata": {},
   "outputs": [],
   "source": [
    "train_indeces = sample_indices(mnist_trainset.targets, k=20, seed=42)\n",
    "\n",
    "remaining_indeces = list(set(range(len(mnist_trainset.targets)))-set(train_indeces))\n",
    "test_indeces = sample_indices(mnist_trainset.targets[remaining_indeces], k=10, seed=42)"
   ]
  },
  {
   "cell_type": "code",
   "execution_count": 6,
   "metadata": {},
   "outputs": [
    {
     "name": "stdout",
     "output_type": "stream",
     "text": [
      "torch.Size([200, 1, 28, 28]) torch.Size([100, 1, 28, 28])\n"
     ]
    }
   ],
   "source": [
    "train_dataset = MNIST(mnist_trainset.data[train_indeces].reshape(-1, 1, 28, 28) / 255.)\n",
    "eval_dataset = MNIST(mnist_trainset.data[test_indeces].reshape(-1, 1, 28, 28) / 255.)\n",
    "print(train_dataset.data.shape, eval_dataset.data.shape)"
   ]
  },
  {
   "cell_type": "code",
   "execution_count": 7,
   "metadata": {},
   "outputs": [
    {
     "data": {
      "image/png": "[encoded data removed]",
      "text/plain": [
       "<Figure size 500x500 with 16 Axes>"
      ]
     },
     "metadata": {},
     "output_type": "display_data"
    }
   ],
   "source": [
    "import matplotlib.pyplot as plt\n",
    "\n",
    "\n",
    "_, ax = plt.subplots(nrows=4, ncols=4, figsize=(5,5))\n",
    "\n",
    "for i in range(4):\n",
    "    for j in range(4):\n",
    "        ax[i][j].imshow(train_dataset[i*4+j].data.movedim(0, 2), cmap='gray')\n",
    "        ax[i][j].axis('off')\n",
    "plt.tight_layout()"
   ]
  },
  {
   "attachments": {},
   "cell_type": "markdown",
   "metadata": {},
   "source": [
    "## Step 1: Training a VAE with Pythae\n",
    "\n",
    "To train a VAE with Pythae, the first step is to define the configuration you want to apply to your\n",
    "autoencoder model. This will be used to instantiate the VAE instance. Then, you will need to\n",
    "setup the training configuration and launch a training.\n",
    "\n",
    "**Objective: Complete the following code based so you can launch a training using Pythae's model.**\n",
    "\n",
    "Required training setup:\n",
    "- The model should have a latent dimension of 8\n",
    "- Train the model for 50 epochs, a learning rate of 3e-3 and batch_size of 64\n",
    "- Save the best model on validation set in a folder named `experiments`"
   ]
  },
  {
   "cell_type": "code",
   "execution_count": 8,
   "metadata": {},
   "outputs": [],
   "source": [
    "from pythae.models import RHVAEConfig, RHVAE\n",
    "\n",
    "\n",
    "model_config = RHVAEConfig(\n",
    "    input_dim=(1, 28, 28),\n",
    "    latent_dim=8\n",
    ")\n",
    "\n",
    "model = RHVAE(\n",
    "    model_config=model_config\n",
    ")"
   ]
  },
  {
   "cell_type": "code",
   "execution_count": 9,
   "metadata": {},
   "outputs": [
    {
     "name": "stderr",
     "output_type": "stream",
     "text": [
      "Model passed sanity check !\n",
      "Ready for training.\n",
      "\n",
      "Created experiments/RHVAE_training_2024-04-08_13-57-30. \n",
      "Training config, checkpoints and final model will be saved here.\n",
      "\n",
      "Training params:\n",
      " - max_epochs: 50\n",
      " - per_device_train_batch_size: 64\n",
      " - per_device_eval_batch_size: 64\n",
      " - checkpoint saving every: None\n",
      "Optimizer: Adam (\n",
      "Parameter Group 0\n",
      "    amsgrad: False\n",
      "    betas: (0.9, 0.999)\n",
      "    capturable: False\n",
      "    differentiable: False\n",
      "    eps: 1e-08\n",
      "    foreach: None\n",
      "    fused: None\n",
      "    lr: 0.003\n",
      "    maximize: False\n",
      "    weight_decay: 0\n",
      ")\n",
      "Scheduler: None\n",
      "\n",
      "Successfully launched training !\n",
      "\n"
     ]
    },
    {
     "data": {
      "application/vnd.jupyter.widget-view+json": {
       "model_id": "057d52b7561749bc85132c62f37d4577",
       "version_major": 2,
       "version_minor": 0
      },
      "text/plain": [
       "Training of epoch 1/50:   0%|          | 0/4 [00:00<?, ?batch/s]"
      ]
     },
     "metadata": {},
     "output_type": "display_data"
    },
    {
     "data": {
      "application/vnd.jupyter.widget-view+json": {
       "model_id": "d6b640e9f402490995e3315414cdcf3d",
       "version_major": 2,
       "version_minor": 0
      },
      "text/plain": [
       "Eval of epoch 1/50:   0%|          | 0/2 [00:00<?, ?batch/s]"
      ]
     },
     "metadata": {},
     "output_type": "display_data"
    },
    {
     "name": "stderr",
     "output_type": "stream",
     "text": [
      "--------------------------------------------------------------------------\n",
      "Train loss: 76.5878\n",
      "Eval loss: 47.786\n",
      "--------------------------------------------------------------------------\n"
     ]
    },
    {
     "data": {
      "application/vnd.jupyter.widget-view+json": {
       "model_id": "3f834f9c35c741b3bfc2799021e1597b",
       "version_major": 2,
       "version_minor": 0
      },
      "text/plain": [
       "Training of epoch 2/50:   0%|          | 0/4 [00:00<?, ?batch/s]"
      ]
     },
     "metadata": {},
     "output_type": "display_data"
    },
    {
     "data": {
      "application/vnd.jupyter.widget-view+json": {
       "model_id": "52f88da6db4841a4811875c3b3ac8b88",
       "version_major": 2,
       "version_minor": 0
      },
      "text/plain": [
       "Eval of epoch 2/50:   0%|          | 0/2 [00:00<?, ?batch/s]"
      ]
     },
     "metadata": {},
     "output_type": "display_data"
    },
    {
     "name": "stderr",
     "output_type": "stream",
     "text": [
      "--------------------------------------------------------------------------\n",
      "Train loss: 47.1967\n",
      "Eval loss: 39.4436\n",
      "--------------------------------------------------------------------------\n"
     ]
    },
    {
     "data": {
      "application/vnd.jupyter.widget-view+json": {
       "model_id": "9c5c2c687c8e4bf0bc65c838c5d5edc1",
       "version_major": 2,
       "version_minor": 0
      },
      "text/plain": [
       "Training of epoch 3/50:   0%|          | 0/4 [00:00<?, ?batch/s]"
      ]
     },
     "metadata": {},
     "output_type": "display_data"
    },
    {
     "data": {
      "application/vnd.jupyter.widget-view+json": {
       "model_id": "40bc7701aaf846e7ab9e68a8a30254c7",
       "version_major": 2,
       "version_minor": 0
      },
      "text/plain": [
       "Eval of epoch 3/50:   0%|          | 0/2 [00:00<?, ?batch/s]"
      ]
     },
     "metadata": {},
     "output_type": "display_data"
    },
    {
     "name": "stderr",
     "output_type": "stream",
     "text": [
      "--------------------------------------------------------------------------\n",
      "Train loss: 41.1611\n",
      "Eval loss: 35.5407\n",
      "--------------------------------------------------------------------------\n"
     ]
    },
    {
     "data": {
      "application/vnd.jupyter.widget-view+json": {
       "model_id": "d5ef7619a3c848a1a3480db655dac89f",
       "version_major": 2,
       "version_minor": 0
      },
      "text/plain": [
       "Training of epoch 4/50:   0%|          | 0/4 [00:00<?, ?batch/s]"
      ]
     },
     "metadata": {},
     "output_type": "display_data"
    },
    {
     "data": {
      "application/vnd.jupyter.widget-view+json": {
       "model_id": "6a39729e31bf4c3ea9ffc21670f7767a",
       "version_major": 2,
       "version_minor": 0
      },
      "text/plain": [
       "Eval of epoch 4/50:   0%|          | 0/2 [00:00<?, ?batch/s]"
      ]
     },
     "metadata": {},
     "output_type": "display_data"
    },
    {
     "name": "stderr",
     "output_type": "stream",
     "text": [
      "--------------------------------------------------------------------------\n",
      "Train loss: 35.7827\n",
      "Eval loss: 28.3785\n",
      "--------------------------------------------------------------------------\n"
     ]
    },
    {
     "data": {
      "application/vnd.jupyter.widget-view+json": {
       "model_id": "e50157c9bb2d43619c7bd939b2f66a13",
       "version_major": 2,
       "version_minor": 0
      },
      "text/plain": [
       "Training of epoch 5/50:   0%|          | 0/4 [00:00<?, ?batch/s]"
      ]
     },
     "metadata": {},
     "output_type": "display_data"
    },
    {
     "data": {
      "application/vnd.jupyter.widget-view+json": {
       "model_id": "c4662a0973b74ac0a35cc783e21d325f",
       "version_major": 2,
       "version_minor": 0
      },
      "text/plain": [
       "Eval of epoch 5/50:   0%|          | 0/2 [00:00<?, ?batch/s]"
      ]
     },
     "metadata": {},
     "output_type": "display_data"
    },
    {
     "name": "stderr",
     "output_type": "stream",
     "text": [
      "--------------------------------------------------------------------------\n",
      "Train loss: 32.8948\n",
      "Eval loss: 26.6198\n",
      "--------------------------------------------------------------------------\n"
     ]
    },
    {
     "data": {
      "application/vnd.jupyter.widget-view+json": {
       "model_id": "50ddccc75d794acbb7e351e3a8d22b30",
       "version_major": 2,
       "version_minor": 0
      },
      "text/plain": [
       "Training of epoch 6/50:   0%|          | 0/4 [00:00<?, ?batch/s]"
      ]
     },
     "metadata": {},
     "output_type": "display_data"
    },
    {
     "data": {
      "application/vnd.jupyter.widget-view+json": {
       "model_id": "1f1d3a5c12c54040b24ac77d8749749a",
       "version_major": 2,
       "version_minor": 0
      },
      "text/plain": [
       "Eval of epoch 6/50:   0%|          | 0/2 [00:00<?, ?batch/s]"
      ]
     },
     "metadata": {},
     "output_type": "display_data"
    },
    {
     "name": "stderr",
     "output_type": "stream",
     "text": [
      "--------------------------------------------------------------------------\n",
      "Train loss: 31.0234\n",
      "Eval loss: 25.4597\n",
      "--------------------------------------------------------------------------\n"
     ]
    },
    {
     "data": {
      "application/vnd.jupyter.widget-view+json": {
       "model_id": "ce7a6c0dd05f47018b0bcc130d81e2fe",
       "version_major": 2,
       "version_minor": 0
      },
      "text/plain": [
       "Training of epoch 7/50:   0%|          | 0/4 [00:00<?, ?batch/s]"
      ]
     },
     "metadata": {},
     "output_type": "display_data"
    },
    {
     "data": {
      "application/vnd.jupyter.widget-view+json": {
       "model_id": "2ed9f858a4d04feba6d975184c9eb3e1",
       "version_major": 2,
       "version_minor": 0
      },
      "text/plain": [
       "Eval of epoch 7/50:   0%|          | 0/2 [00:00<?, ?batch/s]"
      ]
     },
     "metadata": {},
     "output_type": "display_data"
    },
    {
     "name": "stderr",
     "output_type": "stream",
     "text": [
      "--------------------------------------------------------------------------\n",
      "Train loss: 29.1836\n",
      "Eval loss: 23.8643\n",
      "--------------------------------------------------------------------------\n"
     ]
    },
    {
     "data": {
      "application/vnd.jupyter.widget-view+json": {
       "model_id": "988395d7af934a7a9a2780f43c11d1d9",
       "version_major": 2,
       "version_minor": 0
      },
      "text/plain": [
       "Training of epoch 8/50:   0%|          | 0/4 [00:00<?, ?batch/s]"
      ]
     },
     "metadata": {},
     "output_type": "display_data"
    },
    {
     "data": {
      "application/vnd.jupyter.widget-view+json": {
       "model_id": "a596f6553b4b498abc91a7a6f36e1350",
       "version_major": 2,
       "version_minor": 0
      },
      "text/plain": [
       "Eval of epoch 8/50:   0%|          | 0/2 [00:00<?, ?batch/s]"
      ]
     },
     "metadata": {},
     "output_type": "display_data"
    },
    {
     "name": "stderr",
     "output_type": "stream",
     "text": [
      "--------------------------------------------------------------------------\n",
      "Train loss: 28.2567\n",
      "Eval loss: 23.2612\n",
      "--------------------------------------------------------------------------\n"
     ]
    },
    {
     "data": {
      "application/vnd.jupyter.widget-view+json": {
       "model_id": "2a4c8c72cbc94b6a8515c820533f2b67",
       "version_major": 2,
       "version_minor": 0
      },
      "text/plain": [
       "Training of epoch 9/50:   0%|          | 0/4 [00:00<?, ?batch/s]"
      ]
     },
     "metadata": {},
     "output_type": "display_data"
    },
    {
     "data": {
      "application/vnd.jupyter.widget-view+json": {
       "model_id": "7dac8337bbb748a2a273d8fa18b5a784",
       "version_major": 2,
       "version_minor": 0
      },
      "text/plain": [
       "Eval of epoch 9/50:   0%|          | 0/2 [00:00<?, ?batch/s]"
      ]
     },
     "metadata": {},
     "output_type": "display_data"
    },
    {
     "name": "stderr",
     "output_type": "stream",
     "text": [
      "--------------------------------------------------------------------------\n",
      "Train loss: 28.4582\n",
      "Eval loss: 25.0873\n",
      "--------------------------------------------------------------------------\n"
     ]
    },
    {
     "data": {
      "application/vnd.jupyter.widget-view+json": {
       "model_id": "83d9a11c4b354c1fa928235d5c7c507c",
       "version_major": 2,
       "version_minor": 0
      },
      "text/plain": [
       "Training of epoch 10/50:   0%|          | 0/4 [00:00<?, ?batch/s]"
      ]
     },
     "metadata": {},
     "output_type": "display_data"
    },
    {
     "data": {
      "application/vnd.jupyter.widget-view+json": {
       "model_id": "10dddcdeb29f40899038e40bcddd47f6",
       "version_major": 2,
       "version_minor": 0
      },
      "text/plain": [
       "Eval of epoch 10/50:   0%|          | 0/2 [00:00<?, ?batch/s]"
      ]
     },
     "metadata": {},
     "output_type": "display_data"
    },
    {
     "name": "stderr",
     "output_type": "stream",
     "text": [
      "--------------------------------------------------------------------------\n",
      "Train loss: 28.5549\n",
      "Eval loss: 24.0816\n",
      "--------------------------------------------------------------------------\n"
     ]
    },
    {
     "data": {
      "application/vnd.jupyter.widget-view+json": {
       "model_id": "6307a2b1e55d45309f678aeb958942a8",
       "version_major": 2,
       "version_minor": 0
      },
      "text/plain": [
       "Training of epoch 11/50:   0%|          | 0/4 [00:00<?, ?batch/s]"
      ]
     },
     "metadata": {},
     "output_type": "display_data"
    },
    {
     "data": {
      "application/vnd.jupyter.widget-view+json": {
       "model_id": "ada460aa83604445b6d45449bbd265e6",
       "version_major": 2,
       "version_minor": 0
      },
      "text/plain": [
       "Eval of epoch 11/50:   0%|          | 0/2 [00:00<?, ?batch/s]"
      ]
     },
     "metadata": {},
     "output_type": "display_data"
    },
    {
     "name": "stderr",
     "output_type": "stream",
     "text": [
      "--------------------------------------------------------------------------\n",
      "Train loss: 27.3146\n",
      "Eval loss: 24.3677\n",
      "--------------------------------------------------------------------------\n"
     ]
    },
    {
     "data": {
      "application/vnd.jupyter.widget-view+json": {
       "model_id": "8f642119c5f94c4f9ae55d9736916c01",
       "version_major": 2,
       "version_minor": 0
      },
      "text/plain": [
       "Training of epoch 12/50:   0%|          | 0/4 [00:00<?, ?batch/s]"
      ]
     },
     "metadata": {},
     "output_type": "display_data"
    },
    {
     "data": {
      "application/vnd.jupyter.widget-view+json": {
       "model_id": "ac073e5916044bff899741f320a4993b",
       "version_major": 2,
       "version_minor": 0
      },
      "text/plain": [
       "Eval of epoch 12/50:   0%|          | 0/2 [00:00<?, ?batch/s]"
      ]
     },
     "metadata": {},
     "output_type": "display_data"
    },
    {
     "name": "stderr",
     "output_type": "stream",
     "text": [
      "--------------------------------------------------------------------------\n",
      "Train loss: 27.6701\n",
      "Eval loss: 23.7407\n",
      "--------------------------------------------------------------------------\n"
     ]
    },
    {
     "data": {
      "application/vnd.jupyter.widget-view+json": {
       "model_id": "cd77b0c6ace045778d95e2b88f8584e1",
       "version_major": 2,
       "version_minor": 0
      },
      "text/plain": [
       "Training of epoch 13/50:   0%|          | 0/4 [00:00<?, ?batch/s]"
      ]
     },
     "metadata": {},
     "output_type": "display_data"
    },
    {
     "data": {
      "application/vnd.jupyter.widget-view+json": {
       "model_id": "55be20d5d5d8483299eeeb04f9f4f3bd",
       "version_major": 2,
       "version_minor": 0
      },
      "text/plain": [
       "Eval of epoch 13/50:   0%|          | 0/2 [00:00<?, ?batch/s]"
      ]
     },
     "metadata": {},
     "output_type": "display_data"
    },
    {
     "name": "stderr",
     "output_type": "stream",
     "text": [
      "--------------------------------------------------------------------------\n",
      "Train loss: 27.4508\n",
      "Eval loss: 23.5222\n",
      "--------------------------------------------------------------------------\n"
     ]
    },
    {
     "data": {
      "application/vnd.jupyter.widget-view+json": {
       "model_id": "c579d57a12934c29a3f04fa78e8eeab6",
       "version_major": 2,
       "version_minor": 0
      },
      "text/plain": [
       "Training of epoch 14/50:   0%|          | 0/4 [00:00<?, ?batch/s]"
      ]
     },
     "metadata": {},
     "output_type": "display_data"
    },
    {
     "data": {
      "application/vnd.jupyter.widget-view+json": {
       "model_id": "1fd7aeb8ab374a32b8b4c87db43823d0",
       "version_major": 2,
       "version_minor": 0
      },
      "text/plain": [
       "Eval of epoch 14/50:   0%|          | 0/2 [00:00<?, ?batch/s]"
      ]
     },
     "metadata": {},
     "output_type": "display_data"
    },
    {
     "name": "stderr",
     "output_type": "stream",
     "text": [
      "--------------------------------------------------------------------------\n",
      "Train loss: 26.9361\n",
      "Eval loss: 23.432\n",
      "--------------------------------------------------------------------------\n"
     ]
    },
    {
     "data": {
      "application/vnd.jupyter.widget-view+json": {
       "model_id": "c70aa90a388e45219ef2fbab8905d8a7",
       "version_major": 2,
       "version_minor": 0
      },
      "text/plain": [
       "Training of epoch 15/50:   0%|          | 0/4 [00:00<?, ?batch/s]"
      ]
     },
     "metadata": {},
     "output_type": "display_data"
    },
    {
     "data": {
      "application/vnd.jupyter.widget-view+json": {
       "model_id": "60fdec6cde9949a0ac177e20b1049fc4",
       "version_major": 2,
       "version_minor": 0
      },
      "text/plain": [
       "Eval of epoch 15/50:   0%|          | 0/2 [00:00<?, ?batch/s]"
      ]
     },
     "metadata": {},
     "output_type": "display_data"
    },
    {
     "name": "stderr",
     "output_type": "stream",
     "text": [
      "--------------------------------------------------------------------------\n",
      "Train loss: 26.971\n",
      "Eval loss: 23.314\n",
      "--------------------------------------------------------------------------\n"
     ]
    },
    {
     "data": {
      "application/vnd.jupyter.widget-view+json": {
       "model_id": "63ae4282644f44efa9222bc6caf76ba6",
       "version_major": 2,
       "version_minor": 0
      },
      "text/plain": [
       "Training of epoch 16/50:   0%|          | 0/4 [00:00<?, ?batch/s]"
      ]
     },
     "metadata": {},
     "output_type": "display_data"
    },
    {
     "data": {
      "application/vnd.jupyter.widget-view+json": {
       "model_id": "706b85b363e5417b9d8faac18227a5c6",
       "version_major": 2,
       "version_minor": 0
      },
      "text/plain": [
       "Eval of epoch 16/50:   0%|          | 0/2 [00:00<?, ?batch/s]"
      ]
     },
     "metadata": {},
     "output_type": "display_data"
    },
    {
     "name": "stderr",
     "output_type": "stream",
     "text": [
      "--------------------------------------------------------------------------\n",
      "Train loss: 26.8314\n",
      "Eval loss: 23.6195\n",
      "--------------------------------------------------------------------------\n"
     ]
    },
    {
     "data": {
      "application/vnd.jupyter.widget-view+json": {
       "model_id": "c411157b41094fbf8349c245e8595c2a",
       "version_major": 2,
       "version_minor": 0
      },
      "text/plain": [
       "Training of epoch 17/50:   0%|          | 0/4 [00:00<?, ?batch/s]"
      ]
     },
     "metadata": {},
     "output_type": "display_data"
    },
    {
     "data": {
      "application/vnd.jupyter.widget-view+json": {
       "model_id": "89172f9beec945039be9851e98660848",
       "version_major": 2,
       "version_minor": 0
      },
      "text/plain": [
       "Eval of epoch 17/50:   0%|          | 0/2 [00:00<?, ?batch/s]"
      ]
     },
     "metadata": {},
     "output_type": "display_data"
    },
    {
     "name": "stderr",
     "output_type": "stream",
     "text": [
      "--------------------------------------------------------------------------\n",
      "Train loss: 26.4223\n",
      "Eval loss: 23.3892\n",
      "--------------------------------------------------------------------------\n"
     ]
    },
    {
     "data": {
      "application/vnd.jupyter.widget-view+json": {
       "model_id": "71366a7e22a64e66899e72a33b67a2c7",
       "version_major": 2,
       "version_minor": 0
      },
      "text/plain": [
       "Training of epoch 18/50:   0%|          | 0/4 [00:00<?, ?batch/s]"
      ]
     },
     "metadata": {},
     "output_type": "display_data"
    },
    {
     "data": {
      "application/vnd.jupyter.widget-view+json": {
       "model_id": "abdfc7a4fd664689a8cc21a899dc7d53",
       "version_major": 2,
       "version_minor": 0
      },
      "text/plain": [
       "Eval of epoch 18/50:   0%|          | 0/2 [00:00<?, ?batch/s]"
      ]
     },
     "metadata": {},
     "output_type": "display_data"
    },
    {
     "name": "stderr",
     "output_type": "stream",
     "text": [
      "--------------------------------------------------------------------------\n",
      "Train loss: 27.0021\n",
      "Eval loss: 23.4689\n",
      "--------------------------------------------------------------------------\n"
     ]
    },
    {
     "data": {
      "application/vnd.jupyter.widget-view+json": {
       "model_id": "f0624e7263644c4981e51e986aac991b",
       "version_major": 2,
       "version_minor": 0
      },
      "text/plain": [
       "Training of epoch 19/50:   0%|          | 0/4 [00:00<?, ?batch/s]"
      ]
     },
     "metadata": {},
     "output_type": "display_data"
    },
    {
     "data": {
      "application/vnd.jupyter.widget-view+json": {
       "model_id": "7576f6b526d8441e84c220a2388b96d3",
       "version_major": 2,
       "version_minor": 0
      },
      "text/plain": [
       "Eval of epoch 19/50:   0%|          | 0/2 [00:00<?, ?batch/s]"
      ]
     },
     "metadata": {},
     "output_type": "display_data"
    },
    {
     "name": "stderr",
     "output_type": "stream",
     "text": [
      "--------------------------------------------------------------------------\n",
      "Train loss: 26.8771\n",
      "Eval loss: 23.0572\n",
      "--------------------------------------------------------------------------\n"
     ]
    },
    {
     "data": {
      "application/vnd.jupyter.widget-view+json": {
       "model_id": "17e6925b7ec742a6a312bcf0364089b5",
       "version_major": 2,
       "version_minor": 0
      },
      "text/plain": [
       "Training of epoch 20/50:   0%|          | 0/4 [00:00<?, ?batch/s]"
      ]
     },
     "metadata": {},
     "output_type": "display_data"
    },
    {
     "data": {
      "application/vnd.jupyter.widget-view+json": {
       "model_id": "5654ec0974ce45d680cc86a1c0483587",
       "version_major": 2,
       "version_minor": 0
      },
      "text/plain": [
       "Eval of epoch 20/50:   0%|          | 0/2 [00:00<?, ?batch/s]"
      ]
     },
     "metadata": {},
     "output_type": "display_data"
    },
    {
     "name": "stderr",
     "output_type": "stream",
     "text": [
      "--------------------------------------------------------------------------\n",
      "Train loss: 26.5083\n",
      "Eval loss: 23.8259\n",
      "--------------------------------------------------------------------------\n"
     ]
    },
    {
     "data": {
      "application/vnd.jupyter.widget-view+json": {
       "model_id": "787766f004a24cf38706975410e3e584",
       "version_major": 2,
       "version_minor": 0
      },
      "text/plain": [
       "Training of epoch 21/50:   0%|          | 0/4 [00:00<?, ?batch/s]"
      ]
     },
     "metadata": {},
     "output_type": "display_data"
    },
    {
     "data": {
      "application/vnd.jupyter.widget-view+json": {
       "model_id": "a3bbcafd5d044ffb9537b9cf8e2c21cb",
       "version_major": 2,
       "version_minor": 0
      },
      "text/plain": [
       "Eval of epoch 21/50:   0%|          | 0/2 [00:00<?, ?batch/s]"
      ]
     },
     "metadata": {},
     "output_type": "display_data"
    },
    {
     "name": "stderr",
     "output_type": "stream",
     "text": [
      "--------------------------------------------------------------------------\n",
      "Train loss: 26.8212\n",
      "Eval loss: 23.4257\n",
      "--------------------------------------------------------------------------\n"
     ]
    },
    {
     "data": {
      "application/vnd.jupyter.widget-view+json": {
       "model_id": "4a64af0fc7dc43919957a0380d0572a3",
       "version_major": 2,
       "version_minor": 0
      },
      "text/plain": [
       "Training of epoch 22/50:   0%|          | 0/4 [00:00<?, ?batch/s]"
      ]
     },
     "metadata": {},
     "output_type": "display_data"
    },
    {
     "data": {
      "application/vnd.jupyter.widget-view+json": {
       "model_id": "b4342e2af4e6412f90c8affec443b03f",
       "version_major": 2,
       "version_minor": 0
      },
      "text/plain": [
       "Eval of epoch 22/50:   0%|          | 0/2 [00:00<?, ?batch/s]"
      ]
     },
     "metadata": {},
     "output_type": "display_data"
    },
    {
     "name": "stderr",
     "output_type": "stream",
     "text": [
      "--------------------------------------------------------------------------\n",
      "Train loss: 27.7495\n",
      "Eval loss: 22.7573\n",
      "--------------------------------------------------------------------------\n"
     ]
    },
    {
     "data": {
      "application/vnd.jupyter.widget-view+json": {
       "model_id": "f674ab2bff144b3daf29fbe601bced3c",
       "version_major": 2,
       "version_minor": 0
      },
      "text/plain": [
       "Training of epoch 23/50:   0%|          | 0/4 [00:00<?, ?batch/s]"
      ]
     },
     "metadata": {},
     "output_type": "display_data"
    },
    {
     "data": {
      "application/vnd.jupyter.widget-view+json": {
       "model_id": "690d970ba62f45b3a1ec838fa79f555c",
       "version_major": 2,
       "version_minor": 0
      },
      "text/plain": [
       "Eval of epoch 23/50:   0%|          | 0/2 [00:00<?, ?batch/s]"
      ]
     },
     "metadata": {},
     "output_type": "display_data"
    },
    {
     "name": "stderr",
     "output_type": "stream",
     "text": [
      "--------------------------------------------------------------------------\n",
      "Train loss: 25.9063\n",
      "Eval loss: 23.7878\n",
      "--------------------------------------------------------------------------\n"
     ]
    },
    {
     "data": {
      "application/vnd.jupyter.widget-view+json": {
       "model_id": "d28e0d2dab64405d93097578935601f1",
       "version_major": 2,
       "version_minor": 0
      },
      "text/plain": [
       "Training of epoch 24/50:   0%|          | 0/4 [00:00<?, ?batch/s]"
      ]
     },
     "metadata": {},
     "output_type": "display_data"
    },
    {
     "data": {
      "application/vnd.jupyter.widget-view+json": {
       "model_id": "3abd9eb3e9204f4f8a7ca2c6dc230d2a",
       "version_major": 2,
       "version_minor": 0
      },
      "text/plain": [
       "Eval of epoch 24/50:   0%|          | 0/2 [00:00<?, ?batch/s]"
      ]
     },
     "metadata": {},
     "output_type": "display_data"
    },
    {
     "name": "stderr",
     "output_type": "stream",
     "text": [
      "--------------------------------------------------------------------------\n",
      "Train loss: 26.9015\n",
      "Eval loss: 22.7542\n",
      "--------------------------------------------------------------------------\n"
     ]
    },
    {
     "data": {
      "application/vnd.jupyter.widget-view+json": {
       "model_id": "23d8b31b9b70494195fa9a7431a729de",
       "version_major": 2,
       "version_minor": 0
      },
      "text/plain": [
       "Training of epoch 25/50:   0%|          | 0/4 [00:00<?, ?batch/s]"
      ]
     },
     "metadata": {},
     "output_type": "display_data"
    },
    {
     "data": {
      "application/vnd.jupyter.widget-view+json": {
       "model_id": "05f18d81e0784249b507accb8e594f81",
       "version_major": 2,
       "version_minor": 0
      },
      "text/plain": [
       "Eval of epoch 25/50:   0%|          | 0/2 [00:00<?, ?batch/s]"
      ]
     },
     "metadata": {},
     "output_type": "display_data"
    },
    {
     "name": "stderr",
     "output_type": "stream",
     "text": [
      "--------------------------------------------------------------------------\n",
      "Train loss: 25.3511\n",
      "Eval loss: 22.2321\n",
      "--------------------------------------------------------------------------\n"
     ]
    },
    {
     "data": {
      "application/vnd.jupyter.widget-view+json": {
       "model_id": "9b5bcfe010e84df6a199855de3707276",
       "version_major": 2,
       "version_minor": 0
      },
      "text/plain": [
       "Training of epoch 26/50:   0%|          | 0/4 [00:00<?, ?batch/s]"
      ]
     },
     "metadata": {},
     "output_type": "display_data"
    },
    {
     "data": {
      "application/vnd.jupyter.widget-view+json": {
       "model_id": "ad6937ad388743a8ad7dea1684598eb1",
       "version_major": 2,
       "version_minor": 0
      },
      "text/plain": [
       "Eval of epoch 26/50:   0%|          | 0/2 [00:00<?, ?batch/s]"
      ]
     },
     "metadata": {},
     "output_type": "display_data"
    },
    {
     "name": "stderr",
     "output_type": "stream",
     "text": [
      "--------------------------------------------------------------------------\n",
      "Train loss: 25.6872\n",
      "Eval loss: 22.0242\n",
      "--------------------------------------------------------------------------\n"
     ]
    },
    {
     "data": {
      "application/vnd.jupyter.widget-view+json": {
       "model_id": "d8680eb4d6e240eca3cdb12470be4dbf",
       "version_major": 2,
       "version_minor": 0
      },
      "text/plain": [
       "Training of epoch 27/50:   0%|          | 0/4 [00:00<?, ?batch/s]"
      ]
     },
     "metadata": {},
     "output_type": "display_data"
    },
    {
     "data": {
      "application/vnd.jupyter.widget-view+json": {
       "model_id": "0c2064eb01064438b7b75a60bbfee8dc",
       "version_major": 2,
       "version_minor": 0
      },
      "text/plain": [
       "Eval of epoch 27/50:   0%|          | 0/2 [00:00<?, ?batch/s]"
      ]
     },
     "metadata": {},
     "output_type": "display_data"
    },
    {
     "name": "stderr",
     "output_type": "stream",
     "text": [
      "--------------------------------------------------------------------------\n",
      "Train loss: 25.4551\n",
      "Eval loss: 22.867\n",
      "--------------------------------------------------------------------------\n"
     ]
    },
    {
     "data": {
      "application/vnd.jupyter.widget-view+json": {
       "model_id": "9da368d708b5422698335f177a62995c",
       "version_major": 2,
       "version_minor": 0
      },
      "text/plain": [
       "Training of epoch 28/50:   0%|          | 0/4 [00:00<?, ?batch/s]"
      ]
     },
     "metadata": {},
     "output_type": "display_data"
    },
    {
     "data": {
      "application/vnd.jupyter.widget-view+json": {
       "model_id": "05dc765c696e49e090f53b21fe64576b",
       "version_major": 2,
       "version_minor": 0
      },
      "text/plain": [
       "Eval of epoch 28/50:   0%|          | 0/2 [00:00<?, ?batch/s]"
      ]
     },
     "metadata": {},
     "output_type": "display_data"
    },
    {
     "name": "stderr",
     "output_type": "stream",
     "text": [
      "--------------------------------------------------------------------------\n",
      "Train loss: 25.5202\n",
      "Eval loss: 22.2725\n",
      "--------------------------------------------------------------------------\n"
     ]
    },
    {
     "data": {
      "application/vnd.jupyter.widget-view+json": {
       "model_id": "75e6a8a1ed90432f8f140fcf369e4304",
       "version_major": 2,
       "version_minor": 0
      },
      "text/plain": [
       "Training of epoch 29/50:   0%|          | 0/4 [00:00<?, ?batch/s]"
      ]
     },
     "metadata": {},
     "output_type": "display_data"
    },
    {
     "data": {
      "application/vnd.jupyter.widget-view+json": {
       "model_id": "d1d67ea3c861462dafbad803b195ee52",
       "version_major": 2,
       "version_minor": 0
      },
      "text/plain": [
       "Eval of epoch 29/50:   0%|          | 0/2 [00:00<?, ?batch/s]"
      ]
     },
     "metadata": {},
     "output_type": "display_data"
    },
    {
     "name": "stderr",
     "output_type": "stream",
     "text": [
      "--------------------------------------------------------------------------\n",
      "Train loss: 26.8713\n",
      "Eval loss: 22.6806\n",
      "--------------------------------------------------------------------------\n"
     ]
    },
    {
     "data": {
      "application/vnd.jupyter.widget-view+json": {
       "model_id": "837ab4d0980743f1a1f670e5f8f35b12",
       "version_major": 2,
       "version_minor": 0
      },
      "text/plain": [
       "Training of epoch 30/50:   0%|          | 0/4 [00:00<?, ?batch/s]"
      ]
     },
     "metadata": {},
     "output_type": "display_data"
    },
    {
     "data": {
      "application/vnd.jupyter.widget-view+json": {
       "model_id": "b1bb2607cb544fb6ae19fc1d0b6b7274",
       "version_major": 2,
       "version_minor": 0
      },
      "text/plain": [
       "Eval of epoch 30/50:   0%|          | 0/2 [00:00<?, ?batch/s]"
      ]
     },
     "metadata": {},
     "output_type": "display_data"
    },
    {
     "name": "stderr",
     "output_type": "stream",
     "text": [
      "--------------------------------------------------------------------------\n",
      "Train loss: 25.6304\n",
      "Eval loss: 22.242\n",
      "--------------------------------------------------------------------------\n"
     ]
    },
    {
     "data": {
      "application/vnd.jupyter.widget-view+json": {
       "model_id": "1e414502f29a4e9f8b1b873934130736",
       "version_major": 2,
       "version_minor": 0
      },
      "text/plain": [
       "Training of epoch 31/50:   0%|          | 0/4 [00:00<?, ?batch/s]"
      ]
     },
     "metadata": {},
     "output_type": "display_data"
    },
    {
     "data": {
      "application/vnd.jupyter.widget-view+json": {
       "model_id": "f8001c754aec4ee7ba22a6e34dfcb56f",
       "version_major": 2,
       "version_minor": 0
      },
      "text/plain": [
       "Eval of epoch 31/50:   0%|          | 0/2 [00:00<?, ?batch/s]"
      ]
     },
     "metadata": {},
     "output_type": "display_data"
    },
    {
     "name": "stderr",
     "output_type": "stream",
     "text": [
      "--------------------------------------------------------------------------\n",
      "Train loss: 25.5074\n",
      "Eval loss: 22.3016\n",
      "--------------------------------------------------------------------------\n"
     ]
    },
    {
     "data": {
      "application/vnd.jupyter.widget-view+json": {
       "model_id": "527894f855e8451f82ad2472d57a5825",
       "version_major": 2,
       "version_minor": 0
      },
      "text/plain": [
       "Training of epoch 32/50:   0%|          | 0/4 [00:00<?, ?batch/s]"
      ]
     },
     "metadata": {},
     "output_type": "display_data"
    },
    {
     "data": {
      "application/vnd.jupyter.widget-view+json": {
       "model_id": "a92991a49e3e4ea79fc226418659e84b",
       "version_major": 2,
       "version_minor": 0
      },
      "text/plain": [
       "Eval of epoch 32/50:   0%|          | 0/2 [00:00<?, ?batch/s]"
      ]
     },
     "metadata": {},
     "output_type": "display_data"
    },
    {
     "name": "stderr",
     "output_type": "stream",
     "text": [
      "--------------------------------------------------------------------------\n",
      "Train loss: 24.7867\n",
      "Eval loss: 22.8323\n",
      "--------------------------------------------------------------------------\n"
     ]
    },
    {
     "data": {
      "application/vnd.jupyter.widget-view+json": {
       "model_id": "1702801e962d42e081c45e497a6d4120",
       "version_major": 2,
       "version_minor": 0
      },
      "text/plain": [
       "Training of epoch 33/50:   0%|          | 0/4 [00:00<?, ?batch/s]"
      ]
     },
     "metadata": {},
     "output_type": "display_data"
    },
    {
     "data": {
      "application/vnd.jupyter.widget-view+json": {
       "model_id": "f27dd78eb06c407491c388a0a75d7c54",
       "version_major": 2,
       "version_minor": 0
      },
      "text/plain": [
       "Eval of epoch 33/50:   0%|          | 0/2 [00:00<?, ?batch/s]"
      ]
     },
     "metadata": {},
     "output_type": "display_data"
    },
    {
     "name": "stderr",
     "output_type": "stream",
     "text": [
      "--------------------------------------------------------------------------\n",
      "Train loss: 25.7174\n",
      "Eval loss: 21.8754\n",
      "--------------------------------------------------------------------------\n"
     ]
    },
    {
     "data": {
      "application/vnd.jupyter.widget-view+json": {
       "model_id": "8c266533fbcc4db49a139df1a049f03d",
       "version_major": 2,
       "version_minor": 0
      },
      "text/plain": [
       "Training of epoch 34/50:   0%|          | 0/4 [00:00<?, ?batch/s]"
      ]
     },
     "metadata": {},
     "output_type": "display_data"
    },
    {
     "data": {
      "application/vnd.jupyter.widget-view+json": {
       "model_id": "2d5463f82c1043288367d9fc846a52bd",
       "version_major": 2,
       "version_minor": 0
      },
      "text/plain": [
       "Eval of epoch 34/50:   0%|          | 0/2 [00:00<?, ?batch/s]"
      ]
     },
     "metadata": {},
     "output_type": "display_data"
    },
    {
     "name": "stderr",
     "output_type": "stream",
     "text": [
      "--------------------------------------------------------------------------\n",
      "Train loss: 24.5098\n",
      "Eval loss: 22.2174\n",
      "--------------------------------------------------------------------------\n"
     ]
    },
    {
     "data": {
      "application/vnd.jupyter.widget-view+json": {
       "model_id": "bb16defe6f214be8b8427eaaec7d21dd",
       "version_major": 2,
       "version_minor": 0
      },
      "text/plain": [
       "Training of epoch 35/50:   0%|          | 0/4 [00:00<?, ?batch/s]"
      ]
     },
     "metadata": {},
     "output_type": "display_data"
    },
    {
     "data": {
      "application/vnd.jupyter.widget-view+json": {
       "model_id": "7997965b6972413182e2b2274d2da2ac",
       "version_major": 2,
       "version_minor": 0
      },
      "text/plain": [
       "Eval of epoch 35/50:   0%|          | 0/2 [00:00<?, ?batch/s]"
      ]
     },
     "metadata": {},
     "output_type": "display_data"
    },
    {
     "name": "stderr",
     "output_type": "stream",
     "text": [
      "--------------------------------------------------------------------------\n",
      "Train loss: 24.4269\n",
      "Eval loss: 22.0054\n",
      "--------------------------------------------------------------------------\n"
     ]
    },
    {
     "data": {
      "application/vnd.jupyter.widget-view+json": {
       "model_id": "e7d3b2cae17642779ab88ca80c88fccb",
       "version_major": 2,
       "version_minor": 0
      },
      "text/plain": [
       "Training of epoch 36/50:   0%|          | 0/4 [00:00<?, ?batch/s]"
      ]
     },
     "metadata": {},
     "output_type": "display_data"
    },
    {
     "data": {
      "application/vnd.jupyter.widget-view+json": {
       "model_id": "f996800d7cb849c189e3c6aa97642bfb",
       "version_major": 2,
       "version_minor": 0
      },
      "text/plain": [
       "Eval of epoch 36/50:   0%|          | 0/2 [00:00<?, ?batch/s]"
      ]
     },
     "metadata": {},
     "output_type": "display_data"
    },
    {
     "name": "stderr",
     "output_type": "stream",
     "text": [
      "--------------------------------------------------------------------------\n",
      "Train loss: 26.0052\n",
      "Eval loss: 22.5175\n",
      "--------------------------------------------------------------------------\n"
     ]
    },
    {
     "data": {
      "application/vnd.jupyter.widget-view+json": {
       "model_id": "df6c471409594c47bd3d79f14384c784",
       "version_major": 2,
       "version_minor": 0
      },
      "text/plain": [
       "Training of epoch 37/50:   0%|          | 0/4 [00:00<?, ?batch/s]"
      ]
     },
     "metadata": {},
     "output_type": "display_data"
    },
    {
     "data": {
      "application/vnd.jupyter.widget-view+json": {
       "model_id": "7d774106927e4cfc8aace45bf2d54d5c",
       "version_major": 2,
       "version_minor": 0
      },
      "text/plain": [
       "Eval of epoch 37/50:   0%|          | 0/2 [00:00<?, ?batch/s]"
      ]
     },
     "metadata": {},
     "output_type": "display_data"
    },
    {
     "name": "stderr",
     "output_type": "stream",
     "text": [
      "--------------------------------------------------------------------------\n",
      "Train loss: 25.9997\n",
      "Eval loss: 22.0841\n",
      "--------------------------------------------------------------------------\n"
     ]
    },
    {
     "data": {
      "application/vnd.jupyter.widget-view+json": {
       "model_id": "7ebdca42ee5742ce83eb4103a96da36d",
       "version_major": 2,
       "version_minor": 0
      },
      "text/plain": [
       "Training of epoch 38/50:   0%|          | 0/4 [00:00<?, ?batch/s]"
      ]
     },
     "metadata": {},
     "output_type": "display_data"
    },
    {
     "data": {
      "application/vnd.jupyter.widget-view+json": {
       "model_id": "c8b18de7f8ec4193b150d8f38f405862",
       "version_major": 2,
       "version_minor": 0
      },
      "text/plain": [
       "Eval of epoch 38/50:   0%|          | 0/2 [00:00<?, ?batch/s]"
      ]
     },
     "metadata": {},
     "output_type": "display_data"
    },
    {
     "name": "stderr",
     "output_type": "stream",
     "text": [
      "--------------------------------------------------------------------------\n",
      "Train loss: 24.8569\n",
      "Eval loss: 21.3914\n",
      "--------------------------------------------------------------------------\n"
     ]
    },
    {
     "data": {
      "application/vnd.jupyter.widget-view+json": {
       "model_id": "b1a605680d1e4ceea80b4f4610276541",
       "version_major": 2,
       "version_minor": 0
      },
      "text/plain": [
       "Training of epoch 39/50:   0%|          | 0/4 [00:00<?, ?batch/s]"
      ]
     },
     "metadata": {},
     "output_type": "display_data"
    },
    {
     "data": {
      "application/vnd.jupyter.widget-view+json": {
       "model_id": "beeed46a3fe344a7a7485891df3f7eb5",
       "version_major": 2,
       "version_minor": 0
      },
      "text/plain": [
       "Eval of epoch 39/50:   0%|          | 0/2 [00:00<?, ?batch/s]"
      ]
     },
     "metadata": {},
     "output_type": "display_data"
    },
    {
     "name": "stderr",
     "output_type": "stream",
     "text": [
      "--------------------------------------------------------------------------\n",
      "Train loss: 23.9238\n",
      "Eval loss: 22.6482\n",
      "--------------------------------------------------------------------------\n"
     ]
    },
    {
     "data": {
      "application/vnd.jupyter.widget-view+json": {
       "model_id": "57b7f1d688eb4d21a561589703530502",
       "version_major": 2,
       "version_minor": 0
      },
      "text/plain": [
       "Training of epoch 40/50:   0%|          | 0/4 [00:00<?, ?batch/s]"
      ]
     },
     "metadata": {},
     "output_type": "display_data"
    },
    {
     "data": {
      "application/vnd.jupyter.widget-view+json": {
       "model_id": "9d6737d7c8d94df5a811ad7e9aeccac2",
       "version_major": 2,
       "version_minor": 0
      },
      "text/plain": [
       "Eval of epoch 40/50:   0%|          | 0/2 [00:00<?, ?batch/s]"
      ]
     },
     "metadata": {},
     "output_type": "display_data"
    },
    {
     "name": "stderr",
     "output_type": "stream",
     "text": [
      "--------------------------------------------------------------------------\n",
      "Train loss: 25.5222\n",
      "Eval loss: 22.1895\n",
      "--------------------------------------------------------------------------\n"
     ]
    },
    {
     "data": {
      "application/vnd.jupyter.widget-view+json": {
       "model_id": "6b1334b17eb648a3bdf0bf2199222713",
       "version_major": 2,
       "version_minor": 0
      },
      "text/plain": [
       "Training of epoch 41/50:   0%|          | 0/4 [00:00<?, ?batch/s]"
      ]
     },
     "metadata": {},
     "output_type": "display_data"
    },
    {
     "data": {
      "application/vnd.jupyter.widget-view+json": {
       "model_id": "2f09927e395549898efbaec16bdc71d7",
       "version_major": 2,
       "version_minor": 0
      },
      "text/plain": [
       "Eval of epoch 41/50:   0%|          | 0/2 [00:00<?, ?batch/s]"
      ]
     },
     "metadata": {},
     "output_type": "display_data"
    },
    {
     "name": "stderr",
     "output_type": "stream",
     "text": [
      "--------------------------------------------------------------------------\n",
      "Train loss: 25.9395\n",
      "Eval loss: 23.103\n",
      "--------------------------------------------------------------------------\n"
     ]
    },
    {
     "data": {
      "application/vnd.jupyter.widget-view+json": {
       "model_id": "2274ce44cfcb471ba96963771123107d",
       "version_major": 2,
       "version_minor": 0
      },
      "text/plain": [
       "Training of epoch 42/50:   0%|          | 0/4 [00:00<?, ?batch/s]"
      ]
     },
     "metadata": {},
     "output_type": "display_data"
    },
    {
     "data": {
      "application/vnd.jupyter.widget-view+json": {
       "model_id": "3483aa92405942589d474041830eb8c3",
       "version_major": 2,
       "version_minor": 0
      },
      "text/plain": [
       "Eval of epoch 42/50:   0%|          | 0/2 [00:00<?, ?batch/s]"
      ]
     },
     "metadata": {},
     "output_type": "display_data"
    },
    {
     "name": "stderr",
     "output_type": "stream",
     "text": [
      "--------------------------------------------------------------------------\n",
      "Train loss: 25.4333\n",
      "Eval loss: 22.2278\n",
      "--------------------------------------------------------------------------\n"
     ]
    },
    {
     "data": {
      "application/vnd.jupyter.widget-view+json": {
       "model_id": "fdfb2fd054b5435483e138249f5f0203",
       "version_major": 2,
       "version_minor": 0
      },
      "text/plain": [
       "Training of epoch 43/50:   0%|          | 0/4 [00:00<?, ?batch/s]"
      ]
     },
     "metadata": {},
     "output_type": "display_data"
    },
    {
     "data": {
      "application/vnd.jupyter.widget-view+json": {
       "model_id": "de25e9a18ae64e8e8d304de3363cec2c",
       "version_major": 2,
       "version_minor": 0
      },
      "text/plain": [
       "Eval of epoch 43/50:   0%|          | 0/2 [00:00<?, ?batch/s]"
      ]
     },
     "metadata": {},
     "output_type": "display_data"
    },
    {
     "name": "stderr",
     "output_type": "stream",
     "text": [
      "--------------------------------------------------------------------------\n",
      "Train loss: 25.0664\n",
      "Eval loss: 21.829\n",
      "--------------------------------------------------------------------------\n"
     ]
    },
    {
     "data": {
      "application/vnd.jupyter.widget-view+json": {
       "model_id": "f3aa077b6212408abda6ae8898adee10",
       "version_major": 2,
       "version_minor": 0
      },
      "text/plain": [
       "Training of epoch 44/50:   0%|          | 0/4 [00:00<?, ?batch/s]"
      ]
     },
     "metadata": {},
     "output_type": "display_data"
    },
    {
     "data": {
      "application/vnd.jupyter.widget-view+json": {
       "model_id": "217024ac34c24e8f948dbbbdda63a2e5",
       "version_major": 2,
       "version_minor": 0
      },
      "text/plain": [
       "Eval of epoch 44/50:   0%|          | 0/2 [00:00<?, ?batch/s]"
      ]
     },
     "metadata": {},
     "output_type": "display_data"
    },
    {
     "name": "stderr",
     "output_type": "stream",
     "text": [
      "--------------------------------------------------------------------------\n",
      "Train loss: 24.4047\n",
      "Eval loss: 22.0312\n",
      "--------------------------------------------------------------------------\n"
     ]
    },
    {
     "data": {
      "application/vnd.jupyter.widget-view+json": {
       "model_id": "941417072e6f4b18b9285180baff9944",
       "version_major": 2,
       "version_minor": 0
      },
      "text/plain": [
       "Training of epoch 45/50:   0%|          | 0/4 [00:00<?, ?batch/s]"
      ]
     },
     "metadata": {},
     "output_type": "display_data"
    },
    {
     "data": {
      "application/vnd.jupyter.widget-view+json": {
       "model_id": "feb40e91c0d04b699bba2251b2f0b154",
       "version_major": 2,
       "version_minor": 0
      },
      "text/plain": [
       "Eval of epoch 45/50:   0%|          | 0/2 [00:00<?, ?batch/s]"
      ]
     },
     "metadata": {},
     "output_type": "display_data"
    },
    {
     "name": "stderr",
     "output_type": "stream",
     "text": [
      "--------------------------------------------------------------------------\n",
      "Train loss: 24.152\n",
      "Eval loss: 22.253\n",
      "--------------------------------------------------------------------------\n"
     ]
    },
    {
     "data": {
      "application/vnd.jupyter.widget-view+json": {
       "model_id": "e976c8436c6949e884ae3bf1de12a268",
       "version_major": 2,
       "version_minor": 0
      },
      "text/plain": [
       "Training of epoch 46/50:   0%|          | 0/4 [00:00<?, ?batch/s]"
      ]
     },
     "metadata": {},
     "output_type": "display_data"
    },
    {
     "data": {
      "application/vnd.jupyter.widget-view+json": {
       "model_id": "62319c57a0a24859bf95c4da23ab2e26",
       "version_major": 2,
       "version_minor": 0
      },
      "text/plain": [
       "Eval of epoch 46/50:   0%|          | 0/2 [00:00<?, ?batch/s]"
      ]
     },
     "metadata": {},
     "output_type": "display_data"
    },
    {
     "name": "stderr",
     "output_type": "stream",
     "text": [
      "--------------------------------------------------------------------------\n",
      "Train loss: 24.646\n",
      "Eval loss: 23.1396\n",
      "--------------------------------------------------------------------------\n"
     ]
    },
    {
     "data": {
      "application/vnd.jupyter.widget-view+json": {
       "model_id": "a2971de48dac449c9a8cc72099304933",
       "version_major": 2,
       "version_minor": 0
      },
      "text/plain": [
       "Training of epoch 47/50:   0%|          | 0/4 [00:00<?, ?batch/s]"
      ]
     },
     "metadata": {},
     "output_type": "display_data"
    },
    {
     "data": {
      "application/vnd.jupyter.widget-view+json": {
       "model_id": "10a34c64bdc345f1a2bddf5557e344ce",
       "version_major": 2,
       "version_minor": 0
      },
      "text/plain": [
       "Eval of epoch 47/50:   0%|          | 0/2 [00:00<?, ?batch/s]"
      ]
     },
     "metadata": {},
     "output_type": "display_data"
    },
    {
     "name": "stderr",
     "output_type": "stream",
     "text": [
      "--------------------------------------------------------------------------\n",
      "Train loss: 23.7095\n",
      "Eval loss: 22.8896\n",
      "--------------------------------------------------------------------------\n"
     ]
    },
    {
     "data": {
      "application/vnd.jupyter.widget-view+json": {
       "model_id": "e739899a29d44b2ab9288f231daefe42",
       "version_major": 2,
       "version_minor": 0
      },
      "text/plain": [
       "Training of epoch 48/50:   0%|          | 0/4 [00:00<?, ?batch/s]"
      ]
     },
     "metadata": {},
     "output_type": "display_data"
    },
    {
     "data": {
      "application/vnd.jupyter.widget-view+json": {
       "model_id": "9334103671d4462e8d8511e134603103",
       "version_major": 2,
       "version_minor": 0
      },
      "text/plain": [
       "Eval of epoch 48/50:   0%|          | 0/2 [00:00<?, ?batch/s]"
      ]
     },
     "metadata": {},
     "output_type": "display_data"
    },
    {
     "name": "stderr",
     "output_type": "stream",
     "text": [
      "--------------------------------------------------------------------------\n",
      "Train loss: 24.4028\n",
      "Eval loss: 21.9504\n",
      "--------------------------------------------------------------------------\n"
     ]
    },
    {
     "data": {
      "application/vnd.jupyter.widget-view+json": {
       "model_id": "591469a12b0c4af48a40816eac50ab78",
       "version_major": 2,
       "version_minor": 0
      },
      "text/plain": [
       "Training of epoch 49/50:   0%|          | 0/4 [00:00<?, ?batch/s]"
      ]
     },
     "metadata": {},
     "output_type": "display_data"
    },
    {
     "data": {
      "application/vnd.jupyter.widget-view+json": {
       "model_id": "a408545252794c299390dee6ce2b7f7c",
       "version_major": 2,
       "version_minor": 0
      },
      "text/plain": [
       "Eval of epoch 49/50:   0%|          | 0/2 [00:00<?, ?batch/s]"
      ]
     },
     "metadata": {},
     "output_type": "display_data"
    },
    {
     "name": "stderr",
     "output_type": "stream",
     "text": [
      "--------------------------------------------------------------------------\n",
      "Train loss: 24.7156\n",
      "Eval loss: 22.2591\n",
      "--------------------------------------------------------------------------\n"
     ]
    },
    {
     "data": {
      "application/vnd.jupyter.widget-view+json": {
       "model_id": "e286296cb2d84f0c8049b49e262bdf1b",
       "version_major": 2,
       "version_minor": 0
      },
      "text/plain": [
       "Training of epoch 50/50:   0%|          | 0/4 [00:00<?, ?batch/s]"
      ]
     },
     "metadata": {},
     "output_type": "display_data"
    },
    {
     "data": {
      "application/vnd.jupyter.widget-view+json": {
       "model_id": "31bbcdacb19243239da7d156423cfe95",
       "version_major": 2,
       "version_minor": 0
      },
      "text/plain": [
       "Eval of epoch 50/50:   0%|          | 0/2 [00:00<?, ?batch/s]"
      ]
     },
     "metadata": {},
     "output_type": "display_data"
    },
    {
     "name": "stderr",
     "output_type": "stream",
     "text": [
      "--------------------------------------------------------------------------\n",
      "Train loss: 24.3237\n",
      "Eval loss: 22.4976\n",
      "--------------------------------------------------------------------------\n",
      "Training ended!\n",
      "Saved final model in experiments/RHVAE_training_2024-04-08_13-57-30/final_model\n"
     ]
    }
   ],
   "source": [
    "from pythae.trainers import BaseTrainerConfig, BaseTrainer\n",
    "\n",
    "\n",
    "training_config = BaseTrainerConfig(\n",
    "    output_dir='experiments',\n",
    "    num_epochs=50,\n",
    "    learning_rate=3e-3,\n",
    "    per_device_train_batch_size=64,\n",
    "    per_device_eval_batch_size=64,\n",
    ")\n",
    "\n",
    "trainer = BaseTrainer(\n",
    "    model=model,\n",
    "    train_dataset=train_dataset,\n",
    "    eval_dataset=eval_dataset,\n",
    "    training_config=training_config\n",
    ")\n",
    "\n",
    "trainer.train()"
   ]
  },
  {
   "attachments": {},
   "cell_type": "markdown",
   "metadata": {},
   "source": [
    "## Step 2: Generating synthetic images with PythAE"
   ]
  },
  {
   "cell_type": "code",
   "execution_count": 31,
   "metadata": {},
   "outputs": [],
   "source": [
    "from pythae.models import AutoModel\n",
    "\n",
    "import glob\n",
    "\n",
    "# trained_model = AutoModel.load_from_folder(\n",
    "#     glob.glob('experiments/*/final_model')[0]\n",
    "# )\n",
    "\n",
    "trained_model = model"
   ]
  },
  {
   "cell_type": "markdown",
   "metadata": {},
   "source": [
    "### Normal Sampler"
   ]
  },
  {
   "cell_type": "code",
   "execution_count": 32,
   "metadata": {},
   "outputs": [],
   "source": [
    "from pythae.samplers import NormalSampler\n",
    "\n",
    "\n",
    "sampler = NormalSampler(\n",
    "    model=trained_model,\n",
    "    sampler_config=None\n",
    ")\n",
    "gen_data = sampler.sample(\n",
    "    num_samples=16,\n",
    ")"
   ]
  },
  {
   "cell_type": "code",
   "execution_count": 33,
   "metadata": {},
   "outputs": [
    {
     "data": {
      "image/png": "[encoded data removed]",
      "text/plain": [
       "<Figure size 500x500 with 16 Axes>"
      ]
     },
     "metadata": {},
     "output_type": "display_data"
    }
   ],
   "source": [
    "import matplotlib.pyplot as plt\n",
    "\n",
    "\n",
    "_, ax = plt.subplots(nrows=4, ncols=4, figsize=(5,5))\n",
    "\n",
    "for i in range(4):\n",
    "    for j in range(4):\n",
    "        ax[i][j].imshow(gen_data[i*4+j].data.movedim(0, 2), cmap='gray')\n",
    "        ax[i][j].axis('off')\n",
    "plt.tight_layout()"
   ]
  },
  {
   "cell_type": "markdown",
   "metadata": {},
   "source": [
    "### Gaussian Mixture Model Sampler"
   ]
  },
  {
   "cell_type": "code",
   "execution_count": 34,
   "metadata": {},
   "outputs": [],
   "source": [
    "from pythae.samplers import GaussianMixtureSampler, GaussianMixtureSamplerConfig\n",
    "\n",
    "\n",
    "gmm_sampler_config = GaussianMixtureSamplerConfig(\n",
    "    n_components=10\n",
    ")\n",
    "\n",
    "gmm_sampler = GaussianMixtureSampler(\n",
    "    sampler_config=gmm_sampler_config,\n",
    "    model=trained_model\n",
    ")\n",
    "\n",
    "gmm_sampler.fit(\n",
    "    train_data=train_dataset.data\n",
    ")\n",
    "\n",
    "gmm_gen_data = gmm_sampler.sample(\n",
    "   num_samples=16\n",
    ")"
   ]
  },
  {
   "cell_type": "code",
   "execution_count": 35,
   "metadata": {},
   "outputs": [
    {
     "data": {
      "image/png": "[encoded data removed]",
      "text/plain": [
       "<Figure size 500x500 with 16 Axes>"
      ]
     },
     "metadata": {},
     "output_type": "display_data"
    }
   ],
   "source": [
    "import matplotlib.pyplot as plt\n",
    "\n",
    "\n",
    "_, ax = plt.subplots(nrows=4, ncols=4, figsize=(5,5))\n",
    "\n",
    "for i in range(4):\n",
    "    for j in range(4):\n",
    "        ax[i][j].imshow(gmm_gen_data[i*4+j].data.movedim(0, 2), cmap='gray')\n",
    "        ax[i][j].axis('off')\n",
    "plt.tight_layout()"
   ]
  },
  {
   "cell_type": "markdown",
   "metadata": {},
   "source": [
    "### RHVAE Sampler"
   ]
  },
  {
   "cell_type": "code",
   "execution_count": 36,
   "metadata": {},
   "outputs": [],
   "source": [
    "from pythae.samplers import RHVAESampler, RHVAESamplerConfig\n",
    "\n",
    "\n",
    "rh_sampler_config = RHVAESamplerConfig(\n",
    ")\n",
    "\n",
    "rh_sampler = RHVAESampler(\n",
    "    sampler_config=None,\n",
    "    model=trained_model\n",
    ")\n",
    "\n",
    "rh_sampler.fit(\n",
    "    train_data=train_dataset.data\n",
    ")\n",
    "\n",
    "rh_gen_data = rh_sampler.sample(\n",
    "   num_samples=16\n",
    ")"
   ]
  },
  {
   "cell_type": "code",
   "execution_count": 37,
   "metadata": {},
   "outputs": [
    {
     "data": {
      "image/png": "[encoded data removed]",
      "text/plain": [
       "<Figure size 500x500 with 16 Axes>"
      ]
     },
     "metadata": {},
     "output_type": "display_data"
    }
   ],
   "source": [
    "import matplotlib.pyplot as plt\n",
    "\n",
    "\n",
    "_, ax = plt.subplots(nrows=4, ncols=4, figsize=(5,5))\n",
    "\n",
    "for i in range(4):\n",
    "    for j in range(4):\n",
    "        ax[i][j].imshow(rh_gen_data[i*4+j].data.movedim(0, 2), cmap='gray')\n",
    "        ax[i][j].axis('off')\n",
    "plt.tight_layout()"
   ]
  },
  {
   "cell_type": "code",
   "execution_count": null,
   "metadata": {},
   "outputs": [],
   "source": []
  },
  {
   "cell_type": "code",
   "execution_count": null,
   "metadata": {},
   "outputs": [],
   "source": []
  },
  {
   "cell_type": "code",
   "execution_count": null,
   "metadata": {},
   "outputs": [],
   "source": []
  }
 ],
 "metadata": {
  "kernelspec": {
   "display_name": "Python 3 (ipykernel)",
   "language": "python",
   "name": "python3"
  },
  "language_info": {
   "codemirror_mode": {
    "name": "ipython",
    "version": 3
   },
   "file_extension": ".py",
   "mimetype": "text/x-python",
   "name": "python",
   "nbconvert_exporter": "python",
   "pygments_lexer": "ipython3",
   "version": "3.10.12"
  },
  "vscode": {
   "interpreter": {
    "hash": "ce8eda53abee1465fbe210c65d7898904902cb11262939320a138d6c4f1f5b5e"
   }
  }
 },
 "nbformat": 4,
 "nbformat_minor": 4
}
