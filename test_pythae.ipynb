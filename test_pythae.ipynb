{
 "cells": [
  {
   "cell_type": "code",
   "execution_count": 1,
   "metadata": {},
   "outputs": [
    {
     "name": "stdout",
     "output_type": "stream",
     "text": [
      "cuda\n"
     ]
    }
   ],
   "source": [
    "import torch\n",
    "from torch.utils.data import Dataset\n",
    "from torchvision import datasets\n",
    "\n",
    "from utils.data import *\n",
    "\n",
    "device = \"cuda\" if torch.cuda.is_available() else \"cpu\"\n",
    "print(device)\n",
    "\n",
    "%load_ext autoreload\n",
    "%autoreload 2"
   ]
  },
  {
   "attachments": {},
   "cell_type": "markdown",
   "metadata": {},
   "source": [
    "# DATA"
   ]
  },
  {
   "cell_type": "code",
   "execution_count": 2,
   "metadata": {},
   "outputs": [],
   "source": [
    "TRAIN_FLAG = True\n",
    "#DATA_SET = 'Shapes'\n",
    "DATA_SET = 'Circles'\n",
    "#DATA_SET = 'MNIST'"
   ]
  },
  {
   "cell_type": "code",
   "execution_count": 3,
   "metadata": {},
   "outputs": [],
   "source": [
    "import matplotlib.pyplot as plt\n",
    "\n",
    "def plot_grid(data, grid_size=4):\n",
    "    mat_data = data.data if hasattr(data, 'data') else data\n",
    "\n",
    "    _, ax = plt.subplots(nrows=grid_size, ncols=grid_size, figsize=(8,8))\n",
    "\n",
    "    for i in range(grid_size):\n",
    "        for j in range(grid_size):\n",
    "            ax[i][j].imshow(mat_data[i*grid_size+j].movedim(0, 2), cmap='gray')\n",
    "            ax[i][j].axis('off')\n",
    "    plt.tight_layout(pad=0.5)"
   ]
  },
  {
   "cell_type": "code",
   "execution_count": 4,
   "metadata": {},
   "outputs": [
    {
     "name": "stdout",
     "output_type": "stream",
     "text": [
      "[[  0  97]\n",
      " [  1 103]]\n",
      "(200, 1, 28, 28)\n",
      "torch.Size([157, 1, 28, 28]) torch.Size([40, 1, 28, 28])\n",
      "tensor(0.) tensor(1.)\n",
      "CPU times: user 423 ms, sys: 99.6 ms, total: 522 ms\n",
      "Wall time: 411 ms\n"
     ]
    },
    {
     "data": {
      "image/png": "[encoded data removed]",
      "text/plain": [
       "<Figure size 800x800 with 16 Axes>"
      ]
     },
     "metadata": {},
     "output_type": "display_data"
    },
    {
     "data": {
      "image/png": "[encoded data removed]",
      "text/plain": [
       "<Figure size 800x800 with 16 Axes>"
      ]
     },
     "metadata": {},
     "output_type": "display_data"
    }
   ],
   "source": [
    "%%time\n",
    "\n",
    "if DATA_SET == 'Circles' :\n",
    "    shapes, targets = gen_circles_dataset(num_images=200, seed=42)\n",
    "    print(np.array(np.unique(targets, return_counts=True)).T)\n",
    "    \n",
    "    shapes = shapes.reshape(-1, 1, 28, 28) / 255.\n",
    "    print(shapes.shape)\n",
    "\n",
    "    subsampled_indeces = sample_indices(targets, k=100, max_classes=None, seed=42)\n",
    "    train_indeces = random.sample(subsampled_indeces, int(0.8*len(subsampled_indeces)))\n",
    "    test_indeces = list(set(subsampled_indeces)-set(train_indeces))\n",
    "        \n",
    "    train_dataset = torch.from_numpy(shapes[train_indeces].astype(np.float32))\n",
    "    eval_dataset = torch.from_numpy(shapes[test_indeces].astype(np.float32))\n",
    "\n",
    "    train_labels = targets[train_indeces]\n",
    "    eval_labels = targets[test_indeces]\n",
    "\n",
    "elif DATA_SET == 'Shapes' :\n",
    "    shapes, targets = load_shapes_dataset()\n",
    "    shapes = 1 - shapes.reshape(-1, 1, 28, 28) / 255.\n",
    "    print(shapes.shape)\n",
    "\n",
    "    # train_indeces = sample_indices(targets, k=90, seed=42)\n",
    "    # remaining_indeces = list(set(range(len(targets)))-set(train_indeces))\n",
    "    # test_indeces = sample_indices(targets[remaining_indeces], k=10, seed=42)\n",
    "    subsampled_indeces = sample_indices(targets, k=100, max_classes=2, seed=42)\n",
    "    train_indeces = random.sample(subsampled_indeces, int(0.8*len(subsampled_indeces)))\n",
    "    test_indeces = list(set(subsampled_indeces)-set(train_indeces))\n",
    "        \n",
    "    train_dataset = torch.from_numpy(shapes[train_indeces].astype(np.float32))\n",
    "    eval_dataset = torch.from_numpy(shapes[test_indeces].astype(np.float32))\n",
    "\n",
    "    train_labels = targets[train_indeces]\n",
    "    eval_labels = targets[test_indeces]\n",
    "\n",
    "elif DATA_SET == 'MNIST' :\n",
    "    mnist_trainset = datasets.MNIST(root='./data', train=True, download=True, transform=None)\n",
    "\n",
    "    # train_indeces = sample_indices(mnist_trainset.targets, k=500, max_classes=2, seed=42)\n",
    "    # remaining_indeces = list(set(range(len(mnist_trainset.targets)))-set(train_indeces))\n",
    "    # test_indeces = sample_indices(mnist_trainset.targets[remaining_indeces], k=50, seed=42)\n",
    "\n",
    "    subsampled_indeces = sample_indices(mnist_trainset.targets, k=1000, max_classes=2, seed=42)\n",
    "    train_indeces = random.sample(subsampled_indeces, int(0.8*len(subsampled_indeces)))\n",
    "    test_indeces = list(set(subsampled_indeces)-set(train_indeces))\n",
    "\n",
    "    train_dataset = mnist_trainset.data[train_indeces].reshape(-1, 1, 28, 28) / 255.\n",
    "    eval_dataset = mnist_trainset.data[test_indeces].reshape(-1, 1, 28, 28) / 255.\n",
    "\n",
    "    train_labels = mnist_trainset.targets[train_indeces]\n",
    "    eval_labels = mnist_trainset.targets[test_indeces]\n",
    "\n",
    "print(train_dataset.shape, eval_dataset.shape)\n",
    "print(train_dataset.min(), train_dataset.max())\n",
    "\n",
    "plot_grid(train_dataset)\n",
    "plot_grid(eval_dataset)"
   ]
  },
  {
   "cell_type": "code",
   "execution_count": 5,
   "metadata": {},
   "outputs": [
    {
     "name": "stdout",
     "output_type": "stream",
     "text": [
      "torch.Size([157, 1, 28, 28]) tensor(0.) tensor(1.) tensor(0.2111) tensor(0.4081)\n",
      "torch.Size([40, 1, 28, 28]) tensor(0.) tensor(1.) tensor(0.2741) tensor(0.4461)\n"
     ]
    }
   ],
   "source": [
    "print(train_dataset.shape, train_dataset.min(), train_dataset.max(), train_dataset.mean(), train_dataset.std())\n",
    "print(eval_dataset.shape, eval_dataset.min(), eval_dataset.max(), eval_dataset.mean(), eval_dataset.std())"
   ]
  },
  {
   "cell_type": "code",
   "execution_count": 6,
   "metadata": {},
   "outputs": [],
   "source": [
    "# train_mean, train_std = train_dataset.mean(), train_dataset.std()\n",
    "# train_dataset -= train_mean / train_std\n",
    "# eval_dataset -= train_mean / train_std"
   ]
  },
  {
   "attachments": {},
   "cell_type": "markdown",
   "metadata": {},
   "source": [
    "# TRAIN"
   ]
  },
  {
   "cell_type": "markdown",
   "metadata": {},
   "source": [
    "## Configure Training"
   ]
  },
  {
   "cell_type": "code",
   "execution_count": 7,
   "metadata": {},
   "outputs": [],
   "source": [
    "from pythae.models import *\n",
    "from pythae.models.nn.benchmarks.mnist import *\n",
    "from pythae.models.nn.default_architectures import *\n",
    "from pythae.models.base.base_utils import ModelOutput\n",
    "from utils.models import Encoder_VAE_TinyMLP, Decoder_AE_TinyMLP\n",
    "\n",
    "architecture_dict = {\n",
    "    'tiny':\n",
    "        {\n",
    "        'encoder': Encoder_VAE_TinyMLP,\n",
    "        'decoder': Decoder_AE_TinyMLP,\n",
    "        },\n",
    "    'mlp':\n",
    "        {\n",
    "        'encoder': Encoder_VAE_MLP,\n",
    "        'decoder': Decoder_AE_MLP,\n",
    "        },\n",
    "    'convnet':\n",
    "        {\n",
    "        'encoder': Encoder_Conv_VAE_MNIST,\n",
    "        'decoder': Decoder_Conv_AE_MNIST,\n",
    "        },\n",
    "    'resnet':\n",
    "        {\n",
    "        'encoder': Encoder_ResNet_VAE_MNIST,\n",
    "        'decoder': Decoder_ResNet_AE_MNIST,\n",
    "        },\n",
    "    }"
   ]
  },
  {
   "cell_type": "code",
   "execution_count": 8,
   "metadata": {
    "editable": true,
    "slideshow": {
     "slide_type": ""
    },
    "tags": []
   },
   "outputs": [],
   "source": [
    "model_config = RHVAEConfig(\n",
    "    input_dim=(1, 28, 28),\n",
    "    latent_dim=2,\n",
    "    reconstruction_loss=\"bce\",\n",
    "    n_lf=3,\n",
    "    eps_lf=1e-3,\n",
    "    beta_zero=0.3,\n",
    "    temperature=0.8,\n",
    "    regularization=1e-3\n",
    ")\n",
    "\n",
    "model = RHVAE(\n",
    "    model_config=model_config,\n",
    "    encoder=architecture_dict['tiny']['encoder'](model_config),\n",
    "    decoder=architecture_dict['tiny']['decoder'](model_config),\n",
    ")\n",
    "\n",
    "# model_config = VAEConfig(\n",
    "#     input_dim=(1, 28, 28),\n",
    "#     latent_dim=2,\n",
    "#     reconstruction_loss=\"bce\",\n",
    "# )\n",
    "\n",
    "# model = VAE(\n",
    "#     model_config=model_config,\n",
    "#     encoder=architecture_dict['tiny']['encoder'](model_config),\n",
    "#     decoder=architecture_dict['tiny']['decoder'](model_config),\n",
    "# )"
   ]
  },
  {
   "cell_type": "code",
   "execution_count": 9,
   "metadata": {},
   "outputs": [
    {
     "name": "stdout",
     "output_type": "stream",
     "text": [
      "CPU times: user 70 µs, sys: 23 µs, total: 93 µs\n",
      "Wall time: 95.8 µs\n"
     ]
    },
    {
     "data": {
      "text/plain": [
       "946391"
      ]
     },
     "execution_count": 9,
     "metadata": {},
     "output_type": "execute_result"
    }
   ],
   "source": [
    "def count_parameters(model):\n",
    "    return sum(p.numel() for p in model.parameters() if p.requires_grad)\n",
    "\n",
    "%time count_parameters(model)"
   ]
  },
  {
   "cell_type": "code",
   "execution_count": 10,
   "metadata": {},
   "outputs": [
    {
     "name": "stdout",
     "output_type": "stream",
     "text": [
      "RHVAE(\n",
      "  (decoder): Decoder_AE_TinyMLP(\n",
      "    (layers): Sequential(\n",
      "      (0): Linear(in_features=2, out_features=400, bias=True)\n",
      "      (1): ReLU()\n",
      "      (2): Linear(in_features=400, out_features=784, bias=True)\n",
      "      (3): Sigmoid()\n",
      "    )\n",
      "  )\n",
      "  (encoder): Encoder_VAE_TinyMLP(\n",
      "    (layers): Sequential(\n",
      "      (0): Flatten(start_dim=1, end_dim=-1)\n",
      "      (1): Linear(in_features=784, out_features=400, bias=True)\n",
      "      (2): ReLU()\n",
      "    )\n",
      "    (embedding): Linear(in_features=400, out_features=2, bias=True)\n",
      "    (log_var): Linear(in_features=400, out_features=2, bias=True)\n",
      "  )\n",
      "  (metric): Metric_MLP(\n",
      "    (layers): Sequential(\n",
      "      (0): Linear(in_features=784, out_features=400, bias=True)\n",
      "      (1): ReLU()\n",
      "    )\n",
      "    (diag): Linear(in_features=400, out_features=2, bias=True)\n",
      "    (lower): Linear(in_features=400, out_features=1, bias=True)\n",
      "  )\n",
      ")\n"
     ]
    }
   ],
   "source": [
    "print(model)"
   ]
  },
  {
   "cell_type": "markdown",
   "metadata": {},
   "source": [
    "## Train"
   ]
  },
  {
   "cell_type": "code",
   "execution_count": 11,
   "metadata": {},
   "outputs": [
    {
     "name": "stderr",
     "output_type": "stream",
     "text": [
      "Preprocessing train data...\n",
      "Checking train dataset...\n",
      "Preprocessing eval data...\n",
      "\n",
      "Checking eval dataset...\n",
      "Using Base Trainer\n",
      "\n",
      "Model passed sanity check !\n",
      "Ready for training.\n",
      "\n",
      "Created experiments/RHVAE_training_2024-06-10_13-46-11. \n",
      "Training config, checkpoints and final model will be saved here.\n",
      "\n",
      "Training params:\n",
      " - max_epochs: 200\n",
      " - per_device_train_batch_size: 157\n",
      " - per_device_eval_batch_size: 40\n",
      " - checkpoint saving every: None\n",
      "Optimizer: Adam (\n",
      "Parameter Group 0\n",
      "    amsgrad: False\n",
      "    betas: (0.9, 0.999)\n",
      "    capturable: False\n",
      "    differentiable: False\n",
      "    eps: 1e-08\n",
      "    foreach: None\n",
      "    fused: None\n",
      "    lr: 0.001\n",
      "    maximize: False\n",
      "    weight_decay: 0\n",
      ")\n",
      "Scheduler: <torch.optim.lr_scheduler.ReduceLROnPlateau object at 0x7f4d711c0c40>\n",
      "\n",
      "Successfully launched training !\n",
      "\n"
     ]
    },
    {
     "data": {
      "application/vnd.jupyter.widget-view+json": {
       "model_id": "4de388892178481580ababfd5875eea1",
       "version_major": 2,
       "version_minor": 0
      },
      "text/plain": [
       "Training of epoch 1/200:   0%|          | 0/1 [00:00<?, ?batch/s]"
      ]
     },
     "metadata": {},
     "output_type": "display_data"
    },
    {
     "data": {
      "application/vnd.jupyter.widget-view+json": {
       "model_id": "a128d55ad35947abadcd459eaed30714",
       "version_major": 2,
       "version_minor": 0
      },
      "text/plain": [
       "Eval of epoch 1/200:   0%|          | 0/1 [00:00<?, ?batch/s]"
      ]
     },
     "metadata": {},
     "output_type": "display_data"
    },
    {
     "name": "stderr",
     "output_type": "stream",
     "text": [
      "--------------------------------------------------------------------------\n",
      "Train loss: 566.8508\n",
      "Eval loss: 527.7197\n",
      "--------------------------------------------------------------------------\n"
     ]
    },
    {
     "data": {
      "application/vnd.jupyter.widget-view+json": {
       "model_id": "05e76d319f934206b9a85e2b6f796e1d",
       "version_major": 2,
       "version_minor": 0
      },
      "text/plain": [
       "Training of epoch 2/200:   0%|          | 0/1 [00:00<?, ?batch/s]"
      ]
     },
     "metadata": {},
     "output_type": "display_data"
    },
    {
     "data": {
      "application/vnd.jupyter.widget-view+json": {
       "model_id": "57f3a7c7d8ff45178139b15493fcd7c9",
       "version_major": 2,
       "version_minor": 0
      },
      "text/plain": [
       "Eval of epoch 2/200:   0%|          | 0/1 [00:00<?, ?batch/s]"
      ]
     },
     "metadata": {},
     "output_type": "display_data"
    },
    {
     "name": "stderr",
     "output_type": "stream",
     "text": [
      "--------------------------------------------------------------------------\n",
      "Train loss: 529.5619\n",
      "Eval loss: 503.6047\n",
      "--------------------------------------------------------------------------\n"
     ]
    },
    {
     "data": {
      "application/vnd.jupyter.widget-view+json": {
       "model_id": "7214b74f01ac4c5d8734f8c4033fa1ff",
       "version_major": 2,
       "version_minor": 0
      },
      "text/plain": [
       "Training of epoch 3/200:   0%|          | 0/1 [00:00<?, ?batch/s]"
      ]
     },
     "metadata": {},
     "output_type": "display_data"
    },
    {
     "data": {
      "application/vnd.jupyter.widget-view+json": {
       "model_id": "a48995db968e47fa93da4c00abbad5e6",
       "version_major": 2,
       "version_minor": 0
      },
      "text/plain": [
       "Eval of epoch 3/200:   0%|          | 0/1 [00:00<?, ?batch/s]"
      ]
     },
     "metadata": {},
     "output_type": "display_data"
    },
    {
     "name": "stderr",
     "output_type": "stream",
     "text": [
      "--------------------------------------------------------------------------\n",
      "Train loss: 503.4205\n",
      "Eval loss: 466.7623\n",
      "--------------------------------------------------------------------------\n"
     ]
    },
    {
     "data": {
      "application/vnd.jupyter.widget-view+json": {
       "model_id": "4128ccaf686f4d6caf2d7928e983018f",
       "version_major": 2,
       "version_minor": 0
      },
      "text/plain": [
       "Training of epoch 4/200:   0%|          | 0/1 [00:00<?, ?batch/s]"
      ]
     },
     "metadata": {},
     "output_type": "display_data"
    },
    {
     "data": {
      "application/vnd.jupyter.widget-view+json": {
       "model_id": "6ee6d8cf59364c7c8899b279361443d4",
       "version_major": 2,
       "version_minor": 0
      },
      "text/plain": [
       "Eval of epoch 4/200:   0%|          | 0/1 [00:00<?, ?batch/s]"
      ]
     },
     "metadata": {},
     "output_type": "display_data"
    },
    {
     "name": "stderr",
     "output_type": "stream",
     "text": [
      "--------------------------------------------------------------------------\n",
      "Train loss: 474.543\n",
      "Eval loss: 445.8443\n",
      "--------------------------------------------------------------------------\n"
     ]
    },
    {
     "data": {
      "application/vnd.jupyter.widget-view+json": {
       "model_id": "c789d2f843c4430baafe3c4aaba0cc2f",
       "version_major": 2,
       "version_minor": 0
      },
      "text/plain": [
       "Training of epoch 5/200:   0%|          | 0/1 [00:00<?, ?batch/s]"
      ]
     },
     "metadata": {},
     "output_type": "display_data"
    },
    {
     "data": {
      "application/vnd.jupyter.widget-view+json": {
       "model_id": "6b84e469cb834911b04a9e4ee75c6cdb",
       "version_major": 2,
       "version_minor": 0
      },
      "text/plain": [
       "Eval of epoch 5/200:   0%|          | 0/1 [00:00<?, ?batch/s]"
      ]
     },
     "metadata": {},
     "output_type": "display_data"
    },
    {
     "name": "stderr",
     "output_type": "stream",
     "text": [
      "--------------------------------------------------------------------------\n",
      "Train loss: 446.4027\n",
      "Eval loss: 420.9009\n",
      "--------------------------------------------------------------------------\n"
     ]
    },
    {
     "data": {
      "application/vnd.jupyter.widget-view+json": {
       "model_id": "80ae0abf6c484355b9984e976d41d77b",
       "version_major": 2,
       "version_minor": 0
      },
      "text/plain": [
       "Training of epoch 6/200:   0%|          | 0/1 [00:00<?, ?batch/s]"
      ]
     },
     "metadata": {},
     "output_type": "display_data"
    },
    {
     "data": {
      "application/vnd.jupyter.widget-view+json": {
       "model_id": "d489b48929de4b2e828a86f272a17378",
       "version_major": 2,
       "version_minor": 0
      },
      "text/plain": [
       "Eval of epoch 6/200:   0%|          | 0/1 [00:00<?, ?batch/s]"
      ]
     },
     "metadata": {},
     "output_type": "display_data"
    },
    {
     "name": "stderr",
     "output_type": "stream",
     "text": [
      "--------------------------------------------------------------------------\n",
      "Train loss: 419.9319\n",
      "Eval loss: 393.9825\n",
      "--------------------------------------------------------------------------\n"
     ]
    },
    {
     "data": {
      "application/vnd.jupyter.widget-view+json": {
       "model_id": "c243450eca6446699d492a3604a91708",
       "version_major": 2,
       "version_minor": 0
      },
      "text/plain": [
       "Training of epoch 7/200:   0%|          | 0/1 [00:00<?, ?batch/s]"
      ]
     },
     "metadata": {},
     "output_type": "display_data"
    },
    {
     "data": {
      "application/vnd.jupyter.widget-view+json": {
       "model_id": "1b1eeecf20624ec4b44c291f6a3f39c5",
       "version_major": 2,
       "version_minor": 0
      },
      "text/plain": [
       "Eval of epoch 7/200:   0%|          | 0/1 [00:00<?, ?batch/s]"
      ]
     },
     "metadata": {},
     "output_type": "display_data"
    },
    {
     "name": "stderr",
     "output_type": "stream",
     "text": [
      "--------------------------------------------------------------------------\n",
      "Train loss: 384.6265\n",
      "Eval loss: 353.8532\n",
      "--------------------------------------------------------------------------\n"
     ]
    },
    {
     "data": {
      "application/vnd.jupyter.widget-view+json": {
       "model_id": "08c1170c5c8c41e6815cfda3d2e1a9b5",
       "version_major": 2,
       "version_minor": 0
      },
      "text/plain": [
       "Training of epoch 8/200:   0%|          | 0/1 [00:00<?, ?batch/s]"
      ]
     },
     "metadata": {},
     "output_type": "display_data"
    },
    {
     "data": {
      "application/vnd.jupyter.widget-view+json": {
       "model_id": "a094ecc4a5854941bddfbd3b921b7514",
       "version_major": 2,
       "version_minor": 0
      },
      "text/plain": [
       "Eval of epoch 8/200:   0%|          | 0/1 [00:00<?, ?batch/s]"
      ]
     },
     "metadata": {},
     "output_type": "display_data"
    },
    {
     "name": "stderr",
     "output_type": "stream",
     "text": [
      "--------------------------------------------------------------------------\n",
      "Train loss: 359.9302\n",
      "Eval loss: 328.1369\n",
      "--------------------------------------------------------------------------\n"
     ]
    },
    {
     "data": {
      "application/vnd.jupyter.widget-view+json": {
       "model_id": "cf5b6cf731c243e48bf656fbb0dc381a",
       "version_major": 2,
       "version_minor": 0
      },
      "text/plain": [
       "Training of epoch 9/200:   0%|          | 0/1 [00:00<?, ?batch/s]"
      ]
     },
     "metadata": {},
     "output_type": "display_data"
    },
    {
     "data": {
      "application/vnd.jupyter.widget-view+json": {
       "model_id": "7e1f79983f6049e5b832391a26920d0f",
       "version_major": 2,
       "version_minor": 0
      },
      "text/plain": [
       "Eval of epoch 9/200:   0%|          | 0/1 [00:00<?, ?batch/s]"
      ]
     },
     "metadata": {},
     "output_type": "display_data"
    },
    {
     "name": "stderr",
     "output_type": "stream",
     "text": [
      "--------------------------------------------------------------------------\n",
      "Train loss: 340.0553\n",
      "Eval loss: 332.1028\n",
      "--------------------------------------------------------------------------\n"
     ]
    },
    {
     "data": {
      "application/vnd.jupyter.widget-view+json": {
       "model_id": "3bc414b3632945dab85a22be010c8c6f",
       "version_major": 2,
       "version_minor": 0
      },
      "text/plain": [
       "Training of epoch 10/200:   0%|          | 0/1 [00:00<?, ?batch/s]"
      ]
     },
     "metadata": {},
     "output_type": "display_data"
    },
    {
     "data": {
      "application/vnd.jupyter.widget-view+json": {
       "model_id": "8f264e2eaa274b108aab5dee8c6e3609",
       "version_major": 2,
       "version_minor": 0
      },
      "text/plain": [
       "Eval of epoch 10/200:   0%|          | 0/1 [00:00<?, ?batch/s]"
      ]
     },
     "metadata": {},
     "output_type": "display_data"
    },
    {
     "name": "stderr",
     "output_type": "stream",
     "text": [
      "--------------------------------------------------------------------------\n",
      "Train loss: 307.8402\n",
      "Eval loss: 314.2326\n",
      "--------------------------------------------------------------------------\n"
     ]
    },
    {
     "data": {
      "application/vnd.jupyter.widget-view+json": {
       "model_id": "e526488632614153995bc9a57907634a",
       "version_major": 2,
       "version_minor": 0
      },
      "text/plain": [
       "Training of epoch 11/200:   0%|          | 0/1 [00:00<?, ?batch/s]"
      ]
     },
     "metadata": {},
     "output_type": "display_data"
    },
    {
     "data": {
      "application/vnd.jupyter.widget-view+json": {
       "model_id": "8b65928b142041188b6c0a73ea55cfa8",
       "version_major": 2,
       "version_minor": 0
      },
      "text/plain": [
       "Eval of epoch 11/200:   0%|          | 0/1 [00:00<?, ?batch/s]"
      ]
     },
     "metadata": {},
     "output_type": "display_data"
    },
    {
     "name": "stderr",
     "output_type": "stream",
     "text": [
      "--------------------------------------------------------------------------\n",
      "Train loss: 297.7176\n",
      "Eval loss: 267.1555\n",
      "--------------------------------------------------------------------------\n"
     ]
    },
    {
     "data": {
      "application/vnd.jupyter.widget-view+json": {
       "model_id": "17238459e73049878c3848ec8e8cc877",
       "version_major": 2,
       "version_minor": 0
      },
      "text/plain": [
       "Training of epoch 12/200:   0%|          | 0/1 [00:00<?, ?batch/s]"
      ]
     },
     "metadata": {},
     "output_type": "display_data"
    },
    {
     "data": {
      "application/vnd.jupyter.widget-view+json": {
       "model_id": "a2ece30bb90f43ccbd958306a98311e8",
       "version_major": 2,
       "version_minor": 0
      },
      "text/plain": [
       "Eval of epoch 12/200:   0%|          | 0/1 [00:00<?, ?batch/s]"
      ]
     },
     "metadata": {},
     "output_type": "display_data"
    },
    {
     "name": "stderr",
     "output_type": "stream",
     "text": [
      "--------------------------------------------------------------------------\n",
      "Train loss: 280.7177\n",
      "Eval loss: 251.4522\n",
      "--------------------------------------------------------------------------\n"
     ]
    },
    {
     "data": {
      "application/vnd.jupyter.widget-view+json": {
       "model_id": "a40c1bf8b41b402592b3d61dfcaae3e4",
       "version_major": 2,
       "version_minor": 0
      },
      "text/plain": [
       "Training of epoch 13/200:   0%|          | 0/1 [00:00<?, ?batch/s]"
      ]
     },
     "metadata": {},
     "output_type": "display_data"
    },
    {
     "data": {
      "application/vnd.jupyter.widget-view+json": {
       "model_id": "92401aa9fa4f46658b75ff57490d5e4a",
       "version_major": 2,
       "version_minor": 0
      },
      "text/plain": [
       "Eval of epoch 13/200:   0%|          | 0/1 [00:00<?, ?batch/s]"
      ]
     },
     "metadata": {},
     "output_type": "display_data"
    },
    {
     "name": "stderr",
     "output_type": "stream",
     "text": [
      "--------------------------------------------------------------------------\n",
      "Train loss: 262.1419\n",
      "Eval loss: 264.3276\n",
      "--------------------------------------------------------------------------\n"
     ]
    },
    {
     "data": {
      "application/vnd.jupyter.widget-view+json": {
       "model_id": "a04b1f5a482d42da8ebde699aceef9ba",
       "version_major": 2,
       "version_minor": 0
      },
      "text/plain": [
       "Training of epoch 14/200:   0%|          | 0/1 [00:00<?, ?batch/s]"
      ]
     },
     "metadata": {},
     "output_type": "display_data"
    },
    {
     "data": {
      "application/vnd.jupyter.widget-view+json": {
       "model_id": "97643e4149c441caa2a9ebe4eead3a87",
       "version_major": 2,
       "version_minor": 0
      },
      "text/plain": [
       "Eval of epoch 14/200:   0%|          | 0/1 [00:00<?, ?batch/s]"
      ]
     },
     "metadata": {},
     "output_type": "display_data"
    },
    {
     "name": "stderr",
     "output_type": "stream",
     "text": [
      "--------------------------------------------------------------------------\n",
      "Train loss: 248.8216\n",
      "Eval loss: 240.0178\n",
      "--------------------------------------------------------------------------\n"
     ]
    },
    {
     "data": {
      "application/vnd.jupyter.widget-view+json": {
       "model_id": "0b0c032c41534e5880ee77f331bb38c6",
       "version_major": 2,
       "version_minor": 0
      },
      "text/plain": [
       "Training of epoch 15/200:   0%|          | 0/1 [00:00<?, ?batch/s]"
      ]
     },
     "metadata": {},
     "output_type": "display_data"
    },
    {
     "data": {
      "application/vnd.jupyter.widget-view+json": {
       "model_id": "994795b4859f40018caca4fa29826946",
       "version_major": 2,
       "version_minor": 0
      },
      "text/plain": [
       "Eval of epoch 15/200:   0%|          | 0/1 [00:00<?, ?batch/s]"
      ]
     },
     "metadata": {},
     "output_type": "display_data"
    },
    {
     "name": "stderr",
     "output_type": "stream",
     "text": [
      "--------------------------------------------------------------------------\n",
      "Train loss: 244.5333\n",
      "Eval loss: 239.2096\n",
      "--------------------------------------------------------------------------\n"
     ]
    },
    {
     "data": {
      "application/vnd.jupyter.widget-view+json": {
       "model_id": "d541ad1980b1492daefd0af5ea259bdd",
       "version_major": 2,
       "version_minor": 0
      },
      "text/plain": [
       "Training of epoch 16/200:   0%|          | 0/1 [00:00<?, ?batch/s]"
      ]
     },
     "metadata": {},
     "output_type": "display_data"
    },
    {
     "data": {
      "application/vnd.jupyter.widget-view+json": {
       "model_id": "8e86d7367dc843b6a5262f3eed95d040",
       "version_major": 2,
       "version_minor": 0
      },
      "text/plain": [
       "Eval of epoch 16/200:   0%|          | 0/1 [00:00<?, ?batch/s]"
      ]
     },
     "metadata": {},
     "output_type": "display_data"
    },
    {
     "name": "stderr",
     "output_type": "stream",
     "text": [
      "--------------------------------------------------------------------------\n",
      "Train loss: 235.4694\n",
      "Eval loss: 232.933\n",
      "--------------------------------------------------------------------------\n"
     ]
    },
    {
     "data": {
      "application/vnd.jupyter.widget-view+json": {
       "model_id": "4ade9087169c4fec93647eee064607f3",
       "version_major": 2,
       "version_minor": 0
      },
      "text/plain": [
       "Training of epoch 17/200:   0%|          | 0/1 [00:00<?, ?batch/s]"
      ]
     },
     "metadata": {},
     "output_type": "display_data"
    },
    {
     "data": {
      "application/vnd.jupyter.widget-view+json": {
       "model_id": "6b27261087c644e2a2becf4436daaaba",
       "version_major": 2,
       "version_minor": 0
      },
      "text/plain": [
       "Eval of epoch 17/200:   0%|          | 0/1 [00:00<?, ?batch/s]"
      ]
     },
     "metadata": {},
     "output_type": "display_data"
    },
    {
     "name": "stderr",
     "output_type": "stream",
     "text": [
      "--------------------------------------------------------------------------\n",
      "Train loss: 222.4133\n",
      "Eval loss: 232.3347\n",
      "--------------------------------------------------------------------------\n"
     ]
    },
    {
     "data": {
      "application/vnd.jupyter.widget-view+json": {
       "model_id": "26438cdc59fb4d3ca188b6dc70acba42",
       "version_major": 2,
       "version_minor": 0
      },
      "text/plain": [
       "Training of epoch 18/200:   0%|          | 0/1 [00:00<?, ?batch/s]"
      ]
     },
     "metadata": {},
     "output_type": "display_data"
    },
    {
     "data": {
      "application/vnd.jupyter.widget-view+json": {
       "model_id": "97716641b1944964b9226bb52a8a09be",
       "version_major": 2,
       "version_minor": 0
      },
      "text/plain": [
       "Eval of epoch 18/200:   0%|          | 0/1 [00:00<?, ?batch/s]"
      ]
     },
     "metadata": {},
     "output_type": "display_data"
    },
    {
     "name": "stderr",
     "output_type": "stream",
     "text": [
      "--------------------------------------------------------------------------\n",
      "Train loss: 208.9341\n",
      "Eval loss: 233.8203\n",
      "--------------------------------------------------------------------------\n"
     ]
    },
    {
     "data": {
      "application/vnd.jupyter.widget-view+json": {
       "model_id": "e9dcda1fb9b54174aa52a2cfc01b8b21",
       "version_major": 2,
       "version_minor": 0
      },
      "text/plain": [
       "Training of epoch 19/200:   0%|          | 0/1 [00:00<?, ?batch/s]"
      ]
     },
     "metadata": {},
     "output_type": "display_data"
    },
    {
     "data": {
      "application/vnd.jupyter.widget-view+json": {
       "model_id": "358cb3fe4846415e9da045dd4f0560e9",
       "version_major": 2,
       "version_minor": 0
      },
      "text/plain": [
       "Eval of epoch 19/200:   0%|          | 0/1 [00:00<?, ?batch/s]"
      ]
     },
     "metadata": {},
     "output_type": "display_data"
    },
    {
     "name": "stderr",
     "output_type": "stream",
     "text": [
      "--------------------------------------------------------------------------\n",
      "Train loss: 198.8445\n",
      "Eval loss: 229.2963\n",
      "--------------------------------------------------------------------------\n"
     ]
    },
    {
     "data": {
      "application/vnd.jupyter.widget-view+json": {
       "model_id": "40663f311f814f43a8d749cf24daaae8",
       "version_major": 2,
       "version_minor": 0
      },
      "text/plain": [
       "Training of epoch 20/200:   0%|          | 0/1 [00:00<?, ?batch/s]"
      ]
     },
     "metadata": {},
     "output_type": "display_data"
    },
    {
     "data": {
      "application/vnd.jupyter.widget-view+json": {
       "model_id": "7a79c1a866254a7db4303c428eef29ab",
       "version_major": 2,
       "version_minor": 0
      },
      "text/plain": [
       "Eval of epoch 20/200:   0%|          | 0/1 [00:00<?, ?batch/s]"
      ]
     },
     "metadata": {},
     "output_type": "display_data"
    },
    {
     "name": "stderr",
     "output_type": "stream",
     "text": [
      "--------------------------------------------------------------------------\n",
      "Train loss: 198.0956\n",
      "Eval loss: 231.7349\n",
      "--------------------------------------------------------------------------\n"
     ]
    },
    {
     "data": {
      "application/vnd.jupyter.widget-view+json": {
       "model_id": "d598fb7bc05c4bcca9be7480ae9660e2",
       "version_major": 2,
       "version_minor": 0
      },
      "text/plain": [
       "Training of epoch 21/200:   0%|          | 0/1 [00:00<?, ?batch/s]"
      ]
     },
     "metadata": {},
     "output_type": "display_data"
    },
    {
     "data": {
      "application/vnd.jupyter.widget-view+json": {
       "model_id": "e1f1526ada49413cace109401808769d",
       "version_major": 2,
       "version_minor": 0
      },
      "text/plain": [
       "Eval of epoch 21/200:   0%|          | 0/1 [00:00<?, ?batch/s]"
      ]
     },
     "metadata": {},
     "output_type": "display_data"
    },
    {
     "name": "stderr",
     "output_type": "stream",
     "text": [
      "--------------------------------------------------------------------------\n",
      "Train loss: 191.8095\n",
      "Eval loss: 218.7739\n",
      "--------------------------------------------------------------------------\n"
     ]
    },
    {
     "data": {
      "application/vnd.jupyter.widget-view+json": {
       "model_id": "c1fda5859acc459fb362c46f14e823d4",
       "version_major": 2,
       "version_minor": 0
      },
      "text/plain": [
       "Training of epoch 22/200:   0%|          | 0/1 [00:00<?, ?batch/s]"
      ]
     },
     "metadata": {},
     "output_type": "display_data"
    },
    {
     "data": {
      "application/vnd.jupyter.widget-view+json": {
       "model_id": "275928aa759a46dcaa2192a95798dc84",
       "version_major": 2,
       "version_minor": 0
      },
      "text/plain": [
       "Eval of epoch 22/200:   0%|          | 0/1 [00:00<?, ?batch/s]"
      ]
     },
     "metadata": {},
     "output_type": "display_data"
    },
    {
     "name": "stderr",
     "output_type": "stream",
     "text": [
      "--------------------------------------------------------------------------\n",
      "Train loss: 190.4984\n",
      "Eval loss: 205.1227\n",
      "--------------------------------------------------------------------------\n"
     ]
    },
    {
     "data": {
      "application/vnd.jupyter.widget-view+json": {
       "model_id": "d35a95c986d041a1bd79da069f4fcda8",
       "version_major": 2,
       "version_minor": 0
      },
      "text/plain": [
       "Training of epoch 23/200:   0%|          | 0/1 [00:00<?, ?batch/s]"
      ]
     },
     "metadata": {},
     "output_type": "display_data"
    },
    {
     "data": {
      "application/vnd.jupyter.widget-view+json": {
       "model_id": "48a7e171247a4bb98b513a198f60d667",
       "version_major": 2,
       "version_minor": 0
      },
      "text/plain": [
       "Eval of epoch 23/200:   0%|          | 0/1 [00:00<?, ?batch/s]"
      ]
     },
     "metadata": {},
     "output_type": "display_data"
    },
    {
     "name": "stderr",
     "output_type": "stream",
     "text": [
      "--------------------------------------------------------------------------\n",
      "Train loss: 189.113\n",
      "Eval loss: 207.7328\n",
      "--------------------------------------------------------------------------\n"
     ]
    },
    {
     "data": {
      "application/vnd.jupyter.widget-view+json": {
       "model_id": "f29d19af445b450fb8b8365b41d4a277",
       "version_major": 2,
       "version_minor": 0
      },
      "text/plain": [
       "Training of epoch 24/200:   0%|          | 0/1 [00:00<?, ?batch/s]"
      ]
     },
     "metadata": {},
     "output_type": "display_data"
    },
    {
     "data": {
      "application/vnd.jupyter.widget-view+json": {
       "model_id": "15be189256994d03992e365eb7fb863a",
       "version_major": 2,
       "version_minor": 0
      },
      "text/plain": [
       "Eval of epoch 24/200:   0%|          | 0/1 [00:00<?, ?batch/s]"
      ]
     },
     "metadata": {},
     "output_type": "display_data"
    },
    {
     "name": "stderr",
     "output_type": "stream",
     "text": [
      "--------------------------------------------------------------------------\n",
      "Train loss: 178.6756\n",
      "Eval loss: 189.0928\n",
      "--------------------------------------------------------------------------\n"
     ]
    },
    {
     "data": {
      "application/vnd.jupyter.widget-view+json": {
       "model_id": "2bde1f529de2497a96f5fca0c94c2424",
       "version_major": 2,
       "version_minor": 0
      },
      "text/plain": [
       "Training of epoch 25/200:   0%|          | 0/1 [00:00<?, ?batch/s]"
      ]
     },
     "metadata": {},
     "output_type": "display_data"
    },
    {
     "data": {
      "application/vnd.jupyter.widget-view+json": {
       "model_id": "7a3174f37b8142cf94b1db4f22ef985d",
       "version_major": 2,
       "version_minor": 0
      },
      "text/plain": [
       "Eval of epoch 25/200:   0%|          | 0/1 [00:00<?, ?batch/s]"
      ]
     },
     "metadata": {},
     "output_type": "display_data"
    },
    {
     "name": "stderr",
     "output_type": "stream",
     "text": [
      "--------------------------------------------------------------------------\n",
      "Train loss: 184.332\n",
      "Eval loss: 190.694\n",
      "--------------------------------------------------------------------------\n"
     ]
    },
    {
     "data": {
      "application/vnd.jupyter.widget-view+json": {
       "model_id": "0e09a6c2000b45058d8ce4d1edf5c490",
       "version_major": 2,
       "version_minor": 0
      },
      "text/plain": [
       "Training of epoch 26/200:   0%|          | 0/1 [00:00<?, ?batch/s]"
      ]
     },
     "metadata": {},
     "output_type": "display_data"
    },
    {
     "data": {
      "application/vnd.jupyter.widget-view+json": {
       "model_id": "9997dc7e660d44d8a26f79bd5ffd3ae5",
       "version_major": 2,
       "version_minor": 0
      },
      "text/plain": [
       "Eval of epoch 26/200:   0%|          | 0/1 [00:00<?, ?batch/s]"
      ]
     },
     "metadata": {},
     "output_type": "display_data"
    },
    {
     "name": "stderr",
     "output_type": "stream",
     "text": [
      "--------------------------------------------------------------------------\n",
      "Train loss: 173.8583\n",
      "Eval loss: 169.3046\n",
      "--------------------------------------------------------------------------\n"
     ]
    },
    {
     "data": {
      "application/vnd.jupyter.widget-view+json": {
       "model_id": "b8b672d194cd4c7b96bfcb2d70faa2e4",
       "version_major": 2,
       "version_minor": 0
      },
      "text/plain": [
       "Training of epoch 27/200:   0%|          | 0/1 [00:00<?, ?batch/s]"
      ]
     },
     "metadata": {},
     "output_type": "display_data"
    },
    {
     "data": {
      "application/vnd.jupyter.widget-view+json": {
       "model_id": "c25c2312db8d43b1977289364c6b03d1",
       "version_major": 2,
       "version_minor": 0
      },
      "text/plain": [
       "Eval of epoch 27/200:   0%|          | 0/1 [00:00<?, ?batch/s]"
      ]
     },
     "metadata": {},
     "output_type": "display_data"
    },
    {
     "name": "stderr",
     "output_type": "stream",
     "text": [
      "--------------------------------------------------------------------------\n",
      "Train loss: 165.9293\n",
      "Eval loss: 157.1049\n",
      "--------------------------------------------------------------------------\n"
     ]
    },
    {
     "data": {
      "application/vnd.jupyter.widget-view+json": {
       "model_id": "a54884e3ba504ea48c7d89943d3b2fec",
       "version_major": 2,
       "version_minor": 0
      },
      "text/plain": [
       "Training of epoch 28/200:   0%|          | 0/1 [00:00<?, ?batch/s]"
      ]
     },
     "metadata": {},
     "output_type": "display_data"
    },
    {
     "data": {
      "application/vnd.jupyter.widget-view+json": {
       "model_id": "57b07d0254be4fb79e8bd4446b381375",
       "version_major": 2,
       "version_minor": 0
      },
      "text/plain": [
       "Eval of epoch 28/200:   0%|          | 0/1 [00:00<?, ?batch/s]"
      ]
     },
     "metadata": {},
     "output_type": "display_data"
    },
    {
     "name": "stderr",
     "output_type": "stream",
     "text": [
      "--------------------------------------------------------------------------\n",
      "Train loss: 159.3499\n",
      "Eval loss: 155.4522\n",
      "--------------------------------------------------------------------------\n"
     ]
    },
    {
     "data": {
      "application/vnd.jupyter.widget-view+json": {
       "model_id": "25f5f8d643a042d99d062225da8dd075",
       "version_major": 2,
       "version_minor": 0
      },
      "text/plain": [
       "Training of epoch 29/200:   0%|          | 0/1 [00:00<?, ?batch/s]"
      ]
     },
     "metadata": {},
     "output_type": "display_data"
    },
    {
     "data": {
      "application/vnd.jupyter.widget-view+json": {
       "model_id": "ce198a4ebe204a109007647d029a3172",
       "version_major": 2,
       "version_minor": 0
      },
      "text/plain": [
       "Eval of epoch 29/200:   0%|          | 0/1 [00:00<?, ?batch/s]"
      ]
     },
     "metadata": {},
     "output_type": "display_data"
    },
    {
     "name": "stderr",
     "output_type": "stream",
     "text": [
      "--------------------------------------------------------------------------\n",
      "Train loss: 156.4303\n",
      "Eval loss: 141.5592\n",
      "--------------------------------------------------------------------------\n"
     ]
    },
    {
     "data": {
      "application/vnd.jupyter.widget-view+json": {
       "model_id": "63be462d37ad4892babd6cd5459b05e3",
       "version_major": 2,
       "version_minor": 0
      },
      "text/plain": [
       "Training of epoch 30/200:   0%|          | 0/1 [00:00<?, ?batch/s]"
      ]
     },
     "metadata": {},
     "output_type": "display_data"
    },
    {
     "data": {
      "application/vnd.jupyter.widget-view+json": {
       "model_id": "fecb26967bc5427ea22603b524371121",
       "version_major": 2,
       "version_minor": 0
      },
      "text/plain": [
       "Eval of epoch 30/200:   0%|          | 0/1 [00:00<?, ?batch/s]"
      ]
     },
     "metadata": {},
     "output_type": "display_data"
    },
    {
     "name": "stderr",
     "output_type": "stream",
     "text": [
      "--------------------------------------------------------------------------\n",
      "Train loss: 151.5991\n",
      "Eval loss: 131.7668\n",
      "--------------------------------------------------------------------------\n"
     ]
    },
    {
     "data": {
      "application/vnd.jupyter.widget-view+json": {
       "model_id": "b243078349e2428eba9d1110b6ea625e",
       "version_major": 2,
       "version_minor": 0
      },
      "text/plain": [
       "Training of epoch 31/200:   0%|          | 0/1 [00:00<?, ?batch/s]"
      ]
     },
     "metadata": {},
     "output_type": "display_data"
    },
    {
     "data": {
      "application/vnd.jupyter.widget-view+json": {
       "model_id": "ad1117eeba29429caf8ae91ac66cbd8b",
       "version_major": 2,
       "version_minor": 0
      },
      "text/plain": [
       "Eval of epoch 31/200:   0%|          | 0/1 [00:00<?, ?batch/s]"
      ]
     },
     "metadata": {},
     "output_type": "display_data"
    },
    {
     "name": "stderr",
     "output_type": "stream",
     "text": [
      "--------------------------------------------------------------------------\n",
      "Train loss: 144.1564\n",
      "Eval loss: 128.3119\n",
      "--------------------------------------------------------------------------\n"
     ]
    },
    {
     "data": {
      "application/vnd.jupyter.widget-view+json": {
       "model_id": "b9e90b4ebf2d4b0ca33579f12ed45593",
       "version_major": 2,
       "version_minor": 0
      },
      "text/plain": [
       "Training of epoch 32/200:   0%|          | 0/1 [00:00<?, ?batch/s]"
      ]
     },
     "metadata": {},
     "output_type": "display_data"
    },
    {
     "data": {
      "application/vnd.jupyter.widget-view+json": {
       "model_id": "3c6e7266f2164ed3b250b73cfb502fe4",
       "version_major": 2,
       "version_minor": 0
      },
      "text/plain": [
       "Eval of epoch 32/200:   0%|          | 0/1 [00:00<?, ?batch/s]"
      ]
     },
     "metadata": {},
     "output_type": "display_data"
    },
    {
     "name": "stderr",
     "output_type": "stream",
     "text": [
      "--------------------------------------------------------------------------\n",
      "Train loss: 139.4398\n",
      "Eval loss: 129.3123\n",
      "--------------------------------------------------------------------------\n"
     ]
    },
    {
     "data": {
      "application/vnd.jupyter.widget-view+json": {
       "model_id": "24cd4d5c4bb84847a3537cdf8a4f6c31",
       "version_major": 2,
       "version_minor": 0
      },
      "text/plain": [
       "Training of epoch 33/200:   0%|          | 0/1 [00:00<?, ?batch/s]"
      ]
     },
     "metadata": {},
     "output_type": "display_data"
    },
    {
     "data": {
      "application/vnd.jupyter.widget-view+json": {
       "model_id": "d42b41a260fe4a1e8167499e16b5a5ae",
       "version_major": 2,
       "version_minor": 0
      },
      "text/plain": [
       "Eval of epoch 33/200:   0%|          | 0/1 [00:00<?, ?batch/s]"
      ]
     },
     "metadata": {},
     "output_type": "display_data"
    },
    {
     "name": "stderr",
     "output_type": "stream",
     "text": [
      "--------------------------------------------------------------------------\n",
      "Train loss: 136.1575\n",
      "Eval loss: 125.389\n",
      "--------------------------------------------------------------------------\n"
     ]
    },
    {
     "data": {
      "application/vnd.jupyter.widget-view+json": {
       "model_id": "21c077a753cb4aa59e7681ce176f5e41",
       "version_major": 2,
       "version_minor": 0
      },
      "text/plain": [
       "Training of epoch 34/200:   0%|          | 0/1 [00:00<?, ?batch/s]"
      ]
     },
     "metadata": {},
     "output_type": "display_data"
    },
    {
     "data": {
      "application/vnd.jupyter.widget-view+json": {
       "model_id": "518103654fe3478fb61ddad6d50328e2",
       "version_major": 2,
       "version_minor": 0
      },
      "text/plain": [
       "Eval of epoch 34/200:   0%|          | 0/1 [00:00<?, ?batch/s]"
      ]
     },
     "metadata": {},
     "output_type": "display_data"
    },
    {
     "name": "stderr",
     "output_type": "stream",
     "text": [
      "--------------------------------------------------------------------------\n",
      "Train loss: 132.2924\n",
      "Eval loss: 117.4351\n",
      "--------------------------------------------------------------------------\n"
     ]
    },
    {
     "data": {
      "application/vnd.jupyter.widget-view+json": {
       "model_id": "7e5b3d696e904d708658dc17da23b7d3",
       "version_major": 2,
       "version_minor": 0
      },
      "text/plain": [
       "Training of epoch 35/200:   0%|          | 0/1 [00:00<?, ?batch/s]"
      ]
     },
     "metadata": {},
     "output_type": "display_data"
    },
    {
     "data": {
      "application/vnd.jupyter.widget-view+json": {
       "model_id": "0733c7803b65469e9a4e0f2064d1a674",
       "version_major": 2,
       "version_minor": 0
      },
      "text/plain": [
       "Eval of epoch 35/200:   0%|          | 0/1 [00:00<?, ?batch/s]"
      ]
     },
     "metadata": {},
     "output_type": "display_data"
    },
    {
     "name": "stderr",
     "output_type": "stream",
     "text": [
      "--------------------------------------------------------------------------\n",
      "Train loss: 128.961\n",
      "Eval loss: 118.7711\n",
      "--------------------------------------------------------------------------\n"
     ]
    },
    {
     "data": {
      "application/vnd.jupyter.widget-view+json": {
       "model_id": "6d0bb21cf210432ca21a0a031efd968a",
       "version_major": 2,
       "version_minor": 0
      },
      "text/plain": [
       "Training of epoch 36/200:   0%|          | 0/1 [00:00<?, ?batch/s]"
      ]
     },
     "metadata": {},
     "output_type": "display_data"
    },
    {
     "data": {
      "application/vnd.jupyter.widget-view+json": {
       "model_id": "1d576cb0683c42e3acba800cb2106b55",
       "version_major": 2,
       "version_minor": 0
      },
      "text/plain": [
       "Eval of epoch 36/200:   0%|          | 0/1 [00:00<?, ?batch/s]"
      ]
     },
     "metadata": {},
     "output_type": "display_data"
    },
    {
     "name": "stderr",
     "output_type": "stream",
     "text": [
      "--------------------------------------------------------------------------\n",
      "Train loss: 127.599\n",
      "Eval loss: 114.2946\n",
      "--------------------------------------------------------------------------\n"
     ]
    },
    {
     "data": {
      "application/vnd.jupyter.widget-view+json": {
       "model_id": "126498082d5b4d8794c3ed3bd68358fa",
       "version_major": 2,
       "version_minor": 0
      },
      "text/plain": [
       "Training of epoch 37/200:   0%|          | 0/1 [00:00<?, ?batch/s]"
      ]
     },
     "metadata": {},
     "output_type": "display_data"
    },
    {
     "data": {
      "application/vnd.jupyter.widget-view+json": {
       "model_id": "93c61afe88d346e9b2193608c95a46a4",
       "version_major": 2,
       "version_minor": 0
      },
      "text/plain": [
       "Eval of epoch 37/200:   0%|          | 0/1 [00:00<?, ?batch/s]"
      ]
     },
     "metadata": {},
     "output_type": "display_data"
    },
    {
     "name": "stderr",
     "output_type": "stream",
     "text": [
      "--------------------------------------------------------------------------\n",
      "Train loss: 122.914\n",
      "Eval loss: 112.4779\n",
      "--------------------------------------------------------------------------\n"
     ]
    },
    {
     "data": {
      "application/vnd.jupyter.widget-view+json": {
       "model_id": "b0f463add9934bc5a3a52291e28d4143",
       "version_major": 2,
       "version_minor": 0
      },
      "text/plain": [
       "Training of epoch 38/200:   0%|          | 0/1 [00:00<?, ?batch/s]"
      ]
     },
     "metadata": {},
     "output_type": "display_data"
    },
    {
     "data": {
      "application/vnd.jupyter.widget-view+json": {
       "model_id": "71723590147f4db98d8ee926c5420899",
       "version_major": 2,
       "version_minor": 0
      },
      "text/plain": [
       "Eval of epoch 38/200:   0%|          | 0/1 [00:00<?, ?batch/s]"
      ]
     },
     "metadata": {},
     "output_type": "display_data"
    },
    {
     "name": "stderr",
     "output_type": "stream",
     "text": [
      "--------------------------------------------------------------------------\n",
      "Train loss: 121.2969\n",
      "Eval loss: 110.9739\n",
      "--------------------------------------------------------------------------\n"
     ]
    },
    {
     "data": {
      "application/vnd.jupyter.widget-view+json": {
       "model_id": "1055ff75a0dc4302bf228de47b55dff4",
       "version_major": 2,
       "version_minor": 0
      },
      "text/plain": [
       "Training of epoch 39/200:   0%|          | 0/1 [00:00<?, ?batch/s]"
      ]
     },
     "metadata": {},
     "output_type": "display_data"
    },
    {
     "data": {
      "application/vnd.jupyter.widget-view+json": {
       "model_id": "2e77afe8600542ce84345989330ae211",
       "version_major": 2,
       "version_minor": 0
      },
      "text/plain": [
       "Eval of epoch 39/200:   0%|          | 0/1 [00:00<?, ?batch/s]"
      ]
     },
     "metadata": {},
     "output_type": "display_data"
    },
    {
     "name": "stderr",
     "output_type": "stream",
     "text": [
      "--------------------------------------------------------------------------\n",
      "Train loss: 118.1708\n",
      "Eval loss: 107.1952\n",
      "--------------------------------------------------------------------------\n"
     ]
    },
    {
     "data": {
      "application/vnd.jupyter.widget-view+json": {
       "model_id": "2b3e14623aef4319b6fbe4c051d61b44",
       "version_major": 2,
       "version_minor": 0
      },
      "text/plain": [
       "Training of epoch 40/200:   0%|          | 0/1 [00:00<?, ?batch/s]"
      ]
     },
     "metadata": {},
     "output_type": "display_data"
    },
    {
     "data": {
      "application/vnd.jupyter.widget-view+json": {
       "model_id": "78005365afc648b09b87f44b765db894",
       "version_major": 2,
       "version_minor": 0
      },
      "text/plain": [
       "Eval of epoch 40/200:   0%|          | 0/1 [00:00<?, ?batch/s]"
      ]
     },
     "metadata": {},
     "output_type": "display_data"
    },
    {
     "name": "stderr",
     "output_type": "stream",
     "text": [
      "--------------------------------------------------------------------------\n",
      "Train loss: 113.0461\n",
      "Eval loss: 106.315\n",
      "--------------------------------------------------------------------------\n"
     ]
    },
    {
     "data": {
      "application/vnd.jupyter.widget-view+json": {
       "model_id": "df162f3b25ec490eadc0ef259319f3fc",
       "version_major": 2,
       "version_minor": 0
      },
      "text/plain": [
       "Training of epoch 41/200:   0%|          | 0/1 [00:00<?, ?batch/s]"
      ]
     },
     "metadata": {},
     "output_type": "display_data"
    },
    {
     "data": {
      "application/vnd.jupyter.widget-view+json": {
       "model_id": "b8ac99591bd34c389db7f5324247dead",
       "version_major": 2,
       "version_minor": 0
      },
      "text/plain": [
       "Eval of epoch 41/200:   0%|          | 0/1 [00:00<?, ?batch/s]"
      ]
     },
     "metadata": {},
     "output_type": "display_data"
    },
    {
     "name": "stderr",
     "output_type": "stream",
     "text": [
      "--------------------------------------------------------------------------\n",
      "Train loss: 113.895\n",
      "Eval loss: 104.4023\n",
      "--------------------------------------------------------------------------\n"
     ]
    },
    {
     "data": {
      "application/vnd.jupyter.widget-view+json": {
       "model_id": "5a61749de2b240688122473c66d9dc0d",
       "version_major": 2,
       "version_minor": 0
      },
      "text/plain": [
       "Training of epoch 42/200:   0%|          | 0/1 [00:00<?, ?batch/s]"
      ]
     },
     "metadata": {},
     "output_type": "display_data"
    },
    {
     "data": {
      "application/vnd.jupyter.widget-view+json": {
       "model_id": "ff88c31eac464838b1b9e2976ec685d1",
       "version_major": 2,
       "version_minor": 0
      },
      "text/plain": [
       "Eval of epoch 42/200:   0%|          | 0/1 [00:00<?, ?batch/s]"
      ]
     },
     "metadata": {},
     "output_type": "display_data"
    },
    {
     "name": "stderr",
     "output_type": "stream",
     "text": [
      "--------------------------------------------------------------------------\n",
      "Train loss: 110.8077\n",
      "Eval loss: 105.6754\n",
      "--------------------------------------------------------------------------\n"
     ]
    },
    {
     "data": {
      "application/vnd.jupyter.widget-view+json": {
       "model_id": "0b92727ee6c74abf9c5f2684e82455be",
       "version_major": 2,
       "version_minor": 0
      },
      "text/plain": [
       "Training of epoch 43/200:   0%|          | 0/1 [00:00<?, ?batch/s]"
      ]
     },
     "metadata": {},
     "output_type": "display_data"
    },
    {
     "data": {
      "application/vnd.jupyter.widget-view+json": {
       "model_id": "c1f8ebd130284d5383d67b6adadfb5e9",
       "version_major": 2,
       "version_minor": 0
      },
      "text/plain": [
       "Eval of epoch 43/200:   0%|          | 0/1 [00:00<?, ?batch/s]"
      ]
     },
     "metadata": {},
     "output_type": "display_data"
    },
    {
     "name": "stderr",
     "output_type": "stream",
     "text": [
      "--------------------------------------------------------------------------\n",
      "Train loss: 107.2737\n",
      "Eval loss: 102.3333\n",
      "--------------------------------------------------------------------------\n"
     ]
    },
    {
     "data": {
      "application/vnd.jupyter.widget-view+json": {
       "model_id": "e3f84b7057914e4580674f7b6e35ff3c",
       "version_major": 2,
       "version_minor": 0
      },
      "text/plain": [
       "Training of epoch 44/200:   0%|          | 0/1 [00:00<?, ?batch/s]"
      ]
     },
     "metadata": {},
     "output_type": "display_data"
    },
    {
     "data": {
      "application/vnd.jupyter.widget-view+json": {
       "model_id": "37d5fae003d0494981ba1b29b528b192",
       "version_major": 2,
       "version_minor": 0
      },
      "text/plain": [
       "Eval of epoch 44/200:   0%|          | 0/1 [00:00<?, ?batch/s]"
      ]
     },
     "metadata": {},
     "output_type": "display_data"
    },
    {
     "name": "stderr",
     "output_type": "stream",
     "text": [
      "--------------------------------------------------------------------------\n",
      "Train loss: 104.7502\n",
      "Eval loss: 100.1601\n",
      "--------------------------------------------------------------------------\n"
     ]
    },
    {
     "data": {
      "application/vnd.jupyter.widget-view+json": {
       "model_id": "c7e9f0af0ced4e4d97536b574a1ee0ab",
       "version_major": 2,
       "version_minor": 0
      },
      "text/plain": [
       "Training of epoch 45/200:   0%|          | 0/1 [00:00<?, ?batch/s]"
      ]
     },
     "metadata": {},
     "output_type": "display_data"
    },
    {
     "data": {
      "application/vnd.jupyter.widget-view+json": {
       "model_id": "c45674bbcbbf44d9931f556aee6cdff6",
       "version_major": 2,
       "version_minor": 0
      },
      "text/plain": [
       "Eval of epoch 45/200:   0%|          | 0/1 [00:00<?, ?batch/s]"
      ]
     },
     "metadata": {},
     "output_type": "display_data"
    },
    {
     "name": "stderr",
     "output_type": "stream",
     "text": [
      "--------------------------------------------------------------------------\n",
      "Train loss: 103.451\n",
      "Eval loss: 100.0267\n",
      "--------------------------------------------------------------------------\n"
     ]
    },
    {
     "data": {
      "application/vnd.jupyter.widget-view+json": {
       "model_id": "8cf8880c63664d6789fb8d9dcc5e68d7",
       "version_major": 2,
       "version_minor": 0
      },
      "text/plain": [
       "Training of epoch 46/200:   0%|          | 0/1 [00:00<?, ?batch/s]"
      ]
     },
     "metadata": {},
     "output_type": "display_data"
    },
    {
     "data": {
      "application/vnd.jupyter.widget-view+json": {
       "model_id": "ad8d081ba6c941338abd64cd637f297a",
       "version_major": 2,
       "version_minor": 0
      },
      "text/plain": [
       "Eval of epoch 46/200:   0%|          | 0/1 [00:00<?, ?batch/s]"
      ]
     },
     "metadata": {},
     "output_type": "display_data"
    },
    {
     "name": "stderr",
     "output_type": "stream",
     "text": [
      "--------------------------------------------------------------------------\n",
      "Train loss: 101.1861\n",
      "Eval loss: 96.4433\n",
      "--------------------------------------------------------------------------\n"
     ]
    },
    {
     "data": {
      "application/vnd.jupyter.widget-view+json": {
       "model_id": "9cd7b893e8744ba7aa10cac8e4b741c6",
       "version_major": 2,
       "version_minor": 0
      },
      "text/plain": [
       "Training of epoch 47/200:   0%|          | 0/1 [00:00<?, ?batch/s]"
      ]
     },
     "metadata": {},
     "output_type": "display_data"
    },
    {
     "data": {
      "application/vnd.jupyter.widget-view+json": {
       "model_id": "3b22e7017ca948398373fd15caf03e4e",
       "version_major": 2,
       "version_minor": 0
      },
      "text/plain": [
       "Eval of epoch 47/200:   0%|          | 0/1 [00:00<?, ?batch/s]"
      ]
     },
     "metadata": {},
     "output_type": "display_data"
    },
    {
     "name": "stderr",
     "output_type": "stream",
     "text": [
      "--------------------------------------------------------------------------\n",
      "Train loss: 98.7765\n",
      "Eval loss: 96.1233\n",
      "--------------------------------------------------------------------------\n"
     ]
    },
    {
     "data": {
      "application/vnd.jupyter.widget-view+json": {
       "model_id": "0ae207eb22c7420fa2c53e164bbb6d81",
       "version_major": 2,
       "version_minor": 0
      },
      "text/plain": [
       "Training of epoch 48/200:   0%|          | 0/1 [00:00<?, ?batch/s]"
      ]
     },
     "metadata": {},
     "output_type": "display_data"
    },
    {
     "data": {
      "application/vnd.jupyter.widget-view+json": {
       "model_id": "9ddad326df894bb8a203067adff65f01",
       "version_major": 2,
       "version_minor": 0
      },
      "text/plain": [
       "Eval of epoch 48/200:   0%|          | 0/1 [00:00<?, ?batch/s]"
      ]
     },
     "metadata": {},
     "output_type": "display_data"
    },
    {
     "name": "stderr",
     "output_type": "stream",
     "text": [
      "--------------------------------------------------------------------------\n",
      "Train loss: 97.791\n",
      "Eval loss: 93.3402\n",
      "--------------------------------------------------------------------------\n"
     ]
    },
    {
     "data": {
      "application/vnd.jupyter.widget-view+json": {
       "model_id": "069ae9e6f86c4deaae1caea158d5bffa",
       "version_major": 2,
       "version_minor": 0
      },
      "text/plain": [
       "Training of epoch 49/200:   0%|          | 0/1 [00:00<?, ?batch/s]"
      ]
     },
     "metadata": {},
     "output_type": "display_data"
    },
    {
     "data": {
      "application/vnd.jupyter.widget-view+json": {
       "model_id": "73c23c79f58b493cb88e1621779503de",
       "version_major": 2,
       "version_minor": 0
      },
      "text/plain": [
       "Eval of epoch 49/200:   0%|          | 0/1 [00:00<?, ?batch/s]"
      ]
     },
     "metadata": {},
     "output_type": "display_data"
    },
    {
     "name": "stderr",
     "output_type": "stream",
     "text": [
      "--------------------------------------------------------------------------\n",
      "Train loss: 95.9171\n",
      "Eval loss: 92.122\n",
      "--------------------------------------------------------------------------\n"
     ]
    },
    {
     "data": {
      "application/vnd.jupyter.widget-view+json": {
       "model_id": "336c359ee8e04d198269fb721e297255",
       "version_major": 2,
       "version_minor": 0
      },
      "text/plain": [
       "Training of epoch 50/200:   0%|          | 0/1 [00:00<?, ?batch/s]"
      ]
     },
     "metadata": {},
     "output_type": "display_data"
    },
    {
     "data": {
      "application/vnd.jupyter.widget-view+json": {
       "model_id": "e3e269b9640040cc991fb37f29327efc",
       "version_major": 2,
       "version_minor": 0
      },
      "text/plain": [
       "Eval of epoch 50/200:   0%|          | 0/1 [00:00<?, ?batch/s]"
      ]
     },
     "metadata": {},
     "output_type": "display_data"
    },
    {
     "name": "stderr",
     "output_type": "stream",
     "text": [
      "--------------------------------------------------------------------------\n",
      "Train loss: 93.4736\n",
      "Eval loss: 90.0179\n",
      "--------------------------------------------------------------------------\n"
     ]
    },
    {
     "data": {
      "application/vnd.jupyter.widget-view+json": {
       "model_id": "954fc02f72e646ef9862a0e09171126b",
       "version_major": 2,
       "version_minor": 0
      },
      "text/plain": [
       "Training of epoch 51/200:   0%|          | 0/1 [00:00<?, ?batch/s]"
      ]
     },
     "metadata": {},
     "output_type": "display_data"
    },
    {
     "data": {
      "application/vnd.jupyter.widget-view+json": {
       "model_id": "981bd048011f41a59140b65335d57f1e",
       "version_major": 2,
       "version_minor": 0
      },
      "text/plain": [
       "Eval of epoch 51/200:   0%|          | 0/1 [00:00<?, ?batch/s]"
      ]
     },
     "metadata": {},
     "output_type": "display_data"
    },
    {
     "name": "stderr",
     "output_type": "stream",
     "text": [
      "--------------------------------------------------------------------------\n",
      "Train loss: 91.4393\n",
      "Eval loss: 88.8966\n",
      "--------------------------------------------------------------------------\n"
     ]
    },
    {
     "data": {
      "application/vnd.jupyter.widget-view+json": {
       "model_id": "6eec48607f6e436193af1e9508ef6170",
       "version_major": 2,
       "version_minor": 0
      },
      "text/plain": [
       "Training of epoch 52/200:   0%|          | 0/1 [00:00<?, ?batch/s]"
      ]
     },
     "metadata": {},
     "output_type": "display_data"
    },
    {
     "data": {
      "application/vnd.jupyter.widget-view+json": {
       "model_id": "b0e7ddeaa97f4d1380934bab00252df1",
       "version_major": 2,
       "version_minor": 0
      },
      "text/plain": [
       "Eval of epoch 52/200:   0%|          | 0/1 [00:00<?, ?batch/s]"
      ]
     },
     "metadata": {},
     "output_type": "display_data"
    },
    {
     "name": "stderr",
     "output_type": "stream",
     "text": [
      "--------------------------------------------------------------------------\n",
      "Train loss: 89.4778\n",
      "Eval loss: 85.9469\n",
      "--------------------------------------------------------------------------\n"
     ]
    },
    {
     "data": {
      "application/vnd.jupyter.widget-view+json": {
       "model_id": "0ad9f43b6bb946fd898133a3ac2950ef",
       "version_major": 2,
       "version_minor": 0
      },
      "text/plain": [
       "Training of epoch 53/200:   0%|          | 0/1 [00:00<?, ?batch/s]"
      ]
     },
     "metadata": {},
     "output_type": "display_data"
    },
    {
     "data": {
      "application/vnd.jupyter.widget-view+json": {
       "model_id": "08dd24a74eca4d018cae6488fa88d425",
       "version_major": 2,
       "version_minor": 0
      },
      "text/plain": [
       "Eval of epoch 53/200:   0%|          | 0/1 [00:00<?, ?batch/s]"
      ]
     },
     "metadata": {},
     "output_type": "display_data"
    },
    {
     "name": "stderr",
     "output_type": "stream",
     "text": [
      "--------------------------------------------------------------------------\n",
      "Train loss: 86.7409\n",
      "Eval loss: 85.2403\n",
      "--------------------------------------------------------------------------\n"
     ]
    },
    {
     "data": {
      "application/vnd.jupyter.widget-view+json": {
       "model_id": "0a1b2b7155b74b5e8fac4ece42e4dea0",
       "version_major": 2,
       "version_minor": 0
      },
      "text/plain": [
       "Training of epoch 54/200:   0%|          | 0/1 [00:00<?, ?batch/s]"
      ]
     },
     "metadata": {},
     "output_type": "display_data"
    },
    {
     "data": {
      "application/vnd.jupyter.widget-view+json": {
       "model_id": "6b3abe4641ff45cdbbfe64701f797d32",
       "version_major": 2,
       "version_minor": 0
      },
      "text/plain": [
       "Eval of epoch 54/200:   0%|          | 0/1 [00:00<?, ?batch/s]"
      ]
     },
     "metadata": {},
     "output_type": "display_data"
    },
    {
     "name": "stderr",
     "output_type": "stream",
     "text": [
      "--------------------------------------------------------------------------\n",
      "Train loss: 85.6634\n",
      "Eval loss: 84.5627\n",
      "--------------------------------------------------------------------------\n"
     ]
    },
    {
     "data": {
      "application/vnd.jupyter.widget-view+json": {
       "model_id": "5ee5e1233e8c4817b735e61324004228",
       "version_major": 2,
       "version_minor": 0
      },
      "text/plain": [
       "Training of epoch 55/200:   0%|          | 0/1 [00:00<?, ?batch/s]"
      ]
     },
     "metadata": {},
     "output_type": "display_data"
    },
    {
     "data": {
      "application/vnd.jupyter.widget-view+json": {
       "model_id": "6361eaadde6349e580aeaff8fa5d05bd",
       "version_major": 2,
       "version_minor": 0
      },
      "text/plain": [
       "Eval of epoch 55/200:   0%|          | 0/1 [00:00<?, ?batch/s]"
      ]
     },
     "metadata": {},
     "output_type": "display_data"
    },
    {
     "name": "stderr",
     "output_type": "stream",
     "text": [
      "--------------------------------------------------------------------------\n",
      "Train loss: 83.4006\n",
      "Eval loss: 84.1393\n",
      "--------------------------------------------------------------------------\n"
     ]
    },
    {
     "data": {
      "application/vnd.jupyter.widget-view+json": {
       "model_id": "340bb08ceecd4ceebcd86d0713031c34",
       "version_major": 2,
       "version_minor": 0
      },
      "text/plain": [
       "Training of epoch 56/200:   0%|          | 0/1 [00:00<?, ?batch/s]"
      ]
     },
     "metadata": {},
     "output_type": "display_data"
    },
    {
     "data": {
      "application/vnd.jupyter.widget-view+json": {
       "model_id": "6e9d6783f4b04efa8fe57a4e4b8f9260",
       "version_major": 2,
       "version_minor": 0
      },
      "text/plain": [
       "Eval of epoch 56/200:   0%|          | 0/1 [00:00<?, ?batch/s]"
      ]
     },
     "metadata": {},
     "output_type": "display_data"
    },
    {
     "name": "stderr",
     "output_type": "stream",
     "text": [
      "--------------------------------------------------------------------------\n",
      "Train loss: 83.1851\n",
      "Eval loss: 81.0786\n",
      "--------------------------------------------------------------------------\n"
     ]
    },
    {
     "data": {
      "application/vnd.jupyter.widget-view+json": {
       "model_id": "21ce543420fd4075bf004df147256fe1",
       "version_major": 2,
       "version_minor": 0
      },
      "text/plain": [
       "Training of epoch 57/200:   0%|          | 0/1 [00:00<?, ?batch/s]"
      ]
     },
     "metadata": {},
     "output_type": "display_data"
    },
    {
     "data": {
      "application/vnd.jupyter.widget-view+json": {
       "model_id": "55781892961f4585bbc2e79b40dfe9ef",
       "version_major": 2,
       "version_minor": 0
      },
      "text/plain": [
       "Eval of epoch 57/200:   0%|          | 0/1 [00:00<?, ?batch/s]"
      ]
     },
     "metadata": {},
     "output_type": "display_data"
    },
    {
     "name": "stderr",
     "output_type": "stream",
     "text": [
      "--------------------------------------------------------------------------\n",
      "Train loss: 81.1132\n",
      "Eval loss: 81.1477\n",
      "--------------------------------------------------------------------------\n"
     ]
    },
    {
     "data": {
      "application/vnd.jupyter.widget-view+json": {
       "model_id": "6be213158b444718bb7c98f06757619d",
       "version_major": 2,
       "version_minor": 0
      },
      "text/plain": [
       "Training of epoch 58/200:   0%|          | 0/1 [00:00<?, ?batch/s]"
      ]
     },
     "metadata": {},
     "output_type": "display_data"
    },
    {
     "data": {
      "application/vnd.jupyter.widget-view+json": {
       "model_id": "f2868800e6894b5886253b77ea842a64",
       "version_major": 2,
       "version_minor": 0
      },
      "text/plain": [
       "Eval of epoch 58/200:   0%|          | 0/1 [00:00<?, ?batch/s]"
      ]
     },
     "metadata": {},
     "output_type": "display_data"
    },
    {
     "name": "stderr",
     "output_type": "stream",
     "text": [
      "--------------------------------------------------------------------------\n",
      "Train loss: 79.4873\n",
      "Eval loss: 80.0996\n",
      "--------------------------------------------------------------------------\n"
     ]
    },
    {
     "data": {
      "application/vnd.jupyter.widget-view+json": {
       "model_id": "fb3ab792ac3c45c0b56b1728b319c308",
       "version_major": 2,
       "version_minor": 0
      },
      "text/plain": [
       "Training of epoch 59/200:   0%|          | 0/1 [00:00<?, ?batch/s]"
      ]
     },
     "metadata": {},
     "output_type": "display_data"
    },
    {
     "data": {
      "application/vnd.jupyter.widget-view+json": {
       "model_id": "1f9af9850e1946fb9cd712f9e4530270",
       "version_major": 2,
       "version_minor": 0
      },
      "text/plain": [
       "Eval of epoch 59/200:   0%|          | 0/1 [00:00<?, ?batch/s]"
      ]
     },
     "metadata": {},
     "output_type": "display_data"
    },
    {
     "name": "stderr",
     "output_type": "stream",
     "text": [
      "--------------------------------------------------------------------------\n",
      "Train loss: 78.3234\n",
      "Eval loss: 77.8074\n",
      "--------------------------------------------------------------------------\n"
     ]
    },
    {
     "data": {
      "application/vnd.jupyter.widget-view+json": {
       "model_id": "b6db88fc1b034ca9aeae37dcf9b4e929",
       "version_major": 2,
       "version_minor": 0
      },
      "text/plain": [
       "Training of epoch 60/200:   0%|          | 0/1 [00:00<?, ?batch/s]"
      ]
     },
     "metadata": {},
     "output_type": "display_data"
    },
    {
     "data": {
      "application/vnd.jupyter.widget-view+json": {
       "model_id": "0d2bba3adb6c4312a063db5b5e6a5976",
       "version_major": 2,
       "version_minor": 0
      },
      "text/plain": [
       "Eval of epoch 60/200:   0%|          | 0/1 [00:00<?, ?batch/s]"
      ]
     },
     "metadata": {},
     "output_type": "display_data"
    },
    {
     "name": "stderr",
     "output_type": "stream",
     "text": [
      "--------------------------------------------------------------------------\n",
      "Train loss: 77.7874\n",
      "Eval loss: 77.3417\n",
      "--------------------------------------------------------------------------\n"
     ]
    },
    {
     "data": {
      "application/vnd.jupyter.widget-view+json": {
       "model_id": "c97c1539757f4e8394161fcce87f645f",
       "version_major": 2,
       "version_minor": 0
      },
      "text/plain": [
       "Training of epoch 61/200:   0%|          | 0/1 [00:00<?, ?batch/s]"
      ]
     },
     "metadata": {},
     "output_type": "display_data"
    },
    {
     "data": {
      "application/vnd.jupyter.widget-view+json": {
       "model_id": "89e8ad372da443088b424bcf49a40819",
       "version_major": 2,
       "version_minor": 0
      },
      "text/plain": [
       "Eval of epoch 61/200:   0%|          | 0/1 [00:00<?, ?batch/s]"
      ]
     },
     "metadata": {},
     "output_type": "display_data"
    },
    {
     "name": "stderr",
     "output_type": "stream",
     "text": [
      "--------------------------------------------------------------------------\n",
      "Train loss: 76.421\n",
      "Eval loss: 77.0664\n",
      "--------------------------------------------------------------------------\n"
     ]
    },
    {
     "data": {
      "application/vnd.jupyter.widget-view+json": {
       "model_id": "191dc47a67b9494e86cab639f9c3e339",
       "version_major": 2,
       "version_minor": 0
      },
      "text/plain": [
       "Training of epoch 62/200:   0%|          | 0/1 [00:00<?, ?batch/s]"
      ]
     },
     "metadata": {},
     "output_type": "display_data"
    },
    {
     "data": {
      "application/vnd.jupyter.widget-view+json": {
       "model_id": "9a9a7403e4f74dcbb0e6706ecb747160",
       "version_major": 2,
       "version_minor": 0
      },
      "text/plain": [
       "Eval of epoch 62/200:   0%|          | 0/1 [00:00<?, ?batch/s]"
      ]
     },
     "metadata": {},
     "output_type": "display_data"
    },
    {
     "name": "stderr",
     "output_type": "stream",
     "text": [
      "--------------------------------------------------------------------------\n",
      "Train loss: 75.8388\n",
      "Eval loss: 76.7873\n",
      "--------------------------------------------------------------------------\n"
     ]
    },
    {
     "data": {
      "application/vnd.jupyter.widget-view+json": {
       "model_id": "1e35fa89324f4767815179a49f16677a",
       "version_major": 2,
       "version_minor": 0
      },
      "text/plain": [
       "Training of epoch 63/200:   0%|          | 0/1 [00:00<?, ?batch/s]"
      ]
     },
     "metadata": {},
     "output_type": "display_data"
    },
    {
     "data": {
      "application/vnd.jupyter.widget-view+json": {
       "model_id": "bb5b0ebf962f492e94e81be715b53b28",
       "version_major": 2,
       "version_minor": 0
      },
      "text/plain": [
       "Eval of epoch 63/200:   0%|          | 0/1 [00:00<?, ?batch/s]"
      ]
     },
     "metadata": {},
     "output_type": "display_data"
    },
    {
     "name": "stderr",
     "output_type": "stream",
     "text": [
      "--------------------------------------------------------------------------\n",
      "Train loss: 74.421\n",
      "Eval loss: 77.6786\n",
      "--------------------------------------------------------------------------\n"
     ]
    },
    {
     "data": {
      "application/vnd.jupyter.widget-view+json": {
       "model_id": "c0089f5d075a421aa6b711a812fae204",
       "version_major": 2,
       "version_minor": 0
      },
      "text/plain": [
       "Training of epoch 64/200:   0%|          | 0/1 [00:00<?, ?batch/s]"
      ]
     },
     "metadata": {},
     "output_type": "display_data"
    },
    {
     "data": {
      "application/vnd.jupyter.widget-view+json": {
       "model_id": "a51f093bf9ce47cb8e5ffd2f712d07fe",
       "version_major": 2,
       "version_minor": 0
      },
      "text/plain": [
       "Eval of epoch 64/200:   0%|          | 0/1 [00:00<?, ?batch/s]"
      ]
     },
     "metadata": {},
     "output_type": "display_data"
    },
    {
     "name": "stderr",
     "output_type": "stream",
     "text": [
      "--------------------------------------------------------------------------\n",
      "Train loss: 73.7749\n",
      "Eval loss: 75.3277\n",
      "--------------------------------------------------------------------------\n"
     ]
    },
    {
     "data": {
      "application/vnd.jupyter.widget-view+json": {
       "model_id": "9614230917b24a8b96677a897c873c5d",
       "version_major": 2,
       "version_minor": 0
      },
      "text/plain": [
       "Training of epoch 65/200:   0%|          | 0/1 [00:00<?, ?batch/s]"
      ]
     },
     "metadata": {},
     "output_type": "display_data"
    },
    {
     "data": {
      "application/vnd.jupyter.widget-view+json": {
       "model_id": "0d6d9efa02d0457cb9684b8bc8e4b741",
       "version_major": 2,
       "version_minor": 0
      },
      "text/plain": [
       "Eval of epoch 65/200:   0%|          | 0/1 [00:00<?, ?batch/s]"
      ]
     },
     "metadata": {},
     "output_type": "display_data"
    },
    {
     "name": "stderr",
     "output_type": "stream",
     "text": [
      "--------------------------------------------------------------------------\n",
      "Train loss: 73.0239\n",
      "Eval loss: 74.1352\n",
      "--------------------------------------------------------------------------\n"
     ]
    },
    {
     "data": {
      "application/vnd.jupyter.widget-view+json": {
       "model_id": "877183a56fed457396d49559b6f37840",
       "version_major": 2,
       "version_minor": 0
      },
      "text/plain": [
       "Training of epoch 66/200:   0%|          | 0/1 [00:00<?, ?batch/s]"
      ]
     },
     "metadata": {},
     "output_type": "display_data"
    },
    {
     "data": {
      "application/vnd.jupyter.widget-view+json": {
       "model_id": "7c73aa9980a84d8c9ce3ad2e992718d2",
       "version_major": 2,
       "version_minor": 0
      },
      "text/plain": [
       "Eval of epoch 66/200:   0%|          | 0/1 [00:00<?, ?batch/s]"
      ]
     },
     "metadata": {},
     "output_type": "display_data"
    },
    {
     "name": "stderr",
     "output_type": "stream",
     "text": [
      "--------------------------------------------------------------------------\n",
      "Train loss: 72.2481\n",
      "Eval loss: 74.3358\n",
      "--------------------------------------------------------------------------\n"
     ]
    },
    {
     "data": {
      "application/vnd.jupyter.widget-view+json": {
       "model_id": "fca31b5d220745528eb19773d5db63ca",
       "version_major": 2,
       "version_minor": 0
      },
      "text/plain": [
       "Training of epoch 67/200:   0%|          | 0/1 [00:00<?, ?batch/s]"
      ]
     },
     "metadata": {},
     "output_type": "display_data"
    },
    {
     "data": {
      "application/vnd.jupyter.widget-view+json": {
       "model_id": "d27eaaf879784d9abe89d728403c91d0",
       "version_major": 2,
       "version_minor": 0
      },
      "text/plain": [
       "Eval of epoch 67/200:   0%|          | 0/1 [00:00<?, ?batch/s]"
      ]
     },
     "metadata": {},
     "output_type": "display_data"
    },
    {
     "name": "stderr",
     "output_type": "stream",
     "text": [
      "--------------------------------------------------------------------------\n",
      "Train loss: 71.5143\n",
      "Eval loss: 72.6851\n",
      "--------------------------------------------------------------------------\n"
     ]
    },
    {
     "data": {
      "application/vnd.jupyter.widget-view+json": {
       "model_id": "caa206203e5f4f52807a73771743dc27",
       "version_major": 2,
       "version_minor": 0
      },
      "text/plain": [
       "Training of epoch 68/200:   0%|          | 0/1 [00:00<?, ?batch/s]"
      ]
     },
     "metadata": {},
     "output_type": "display_data"
    },
    {
     "data": {
      "application/vnd.jupyter.widget-view+json": {
       "model_id": "aaa0814ebfd943998f2fab2914056297",
       "version_major": 2,
       "version_minor": 0
      },
      "text/plain": [
       "Eval of epoch 68/200:   0%|          | 0/1 [00:00<?, ?batch/s]"
      ]
     },
     "metadata": {},
     "output_type": "display_data"
    },
    {
     "name": "stderr",
     "output_type": "stream",
     "text": [
      "--------------------------------------------------------------------------\n",
      "Train loss: 69.8322\n",
      "Eval loss: 72.4566\n",
      "--------------------------------------------------------------------------\n"
     ]
    },
    {
     "data": {
      "application/vnd.jupyter.widget-view+json": {
       "model_id": "f41fa2eb10064fc3becc437513643a11",
       "version_major": 2,
       "version_minor": 0
      },
      "text/plain": [
       "Training of epoch 69/200:   0%|          | 0/1 [00:00<?, ?batch/s]"
      ]
     },
     "metadata": {},
     "output_type": "display_data"
    },
    {
     "data": {
      "application/vnd.jupyter.widget-view+json": {
       "model_id": "4c1fdb5e648347b5b76df96130a2b627",
       "version_major": 2,
       "version_minor": 0
      },
      "text/plain": [
       "Eval of epoch 69/200:   0%|          | 0/1 [00:00<?, ?batch/s]"
      ]
     },
     "metadata": {},
     "output_type": "display_data"
    },
    {
     "name": "stderr",
     "output_type": "stream",
     "text": [
      "--------------------------------------------------------------------------\n",
      "Train loss: 70.1229\n",
      "Eval loss: 72.0175\n",
      "--------------------------------------------------------------------------\n"
     ]
    },
    {
     "data": {
      "application/vnd.jupyter.widget-view+json": {
       "model_id": "1bc845271fa04c75b4b493a61a625d31",
       "version_major": 2,
       "version_minor": 0
      },
      "text/plain": [
       "Training of epoch 70/200:   0%|          | 0/1 [00:00<?, ?batch/s]"
      ]
     },
     "metadata": {},
     "output_type": "display_data"
    },
    {
     "data": {
      "application/vnd.jupyter.widget-view+json": {
       "model_id": "2b1c0086154e4813bcc33e7496d9678f",
       "version_major": 2,
       "version_minor": 0
      },
      "text/plain": [
       "Eval of epoch 70/200:   0%|          | 0/1 [00:00<?, ?batch/s]"
      ]
     },
     "metadata": {},
     "output_type": "display_data"
    },
    {
     "name": "stderr",
     "output_type": "stream",
     "text": [
      "--------------------------------------------------------------------------\n",
      "Train loss: 70.6069\n",
      "Eval loss: 72.2952\n",
      "--------------------------------------------------------------------------\n"
     ]
    },
    {
     "data": {
      "application/vnd.jupyter.widget-view+json": {
       "model_id": "6a0b215e975345048ccc4cc4b7d676cc",
       "version_major": 2,
       "version_minor": 0
      },
      "text/plain": [
       "Training of epoch 71/200:   0%|          | 0/1 [00:00<?, ?batch/s]"
      ]
     },
     "metadata": {},
     "output_type": "display_data"
    },
    {
     "data": {
      "application/vnd.jupyter.widget-view+json": {
       "model_id": "5c40ab68c8524f4ca89394cbc7219b76",
       "version_major": 2,
       "version_minor": 0
      },
      "text/plain": [
       "Eval of epoch 71/200:   0%|          | 0/1 [00:00<?, ?batch/s]"
      ]
     },
     "metadata": {},
     "output_type": "display_data"
    },
    {
     "name": "stderr",
     "output_type": "stream",
     "text": [
      "--------------------------------------------------------------------------\n",
      "Train loss: 68.1519\n",
      "Eval loss: 73.1593\n",
      "--------------------------------------------------------------------------\n"
     ]
    },
    {
     "data": {
      "application/vnd.jupyter.widget-view+json": {
       "model_id": "105758ac4e9e44cd91b9f82827163e63",
       "version_major": 2,
       "version_minor": 0
      },
      "text/plain": [
       "Training of epoch 72/200:   0%|          | 0/1 [00:00<?, ?batch/s]"
      ]
     },
     "metadata": {},
     "output_type": "display_data"
    },
    {
     "data": {
      "application/vnd.jupyter.widget-view+json": {
       "model_id": "2381702dd44f41aa9e6d7629113bdfe3",
       "version_major": 2,
       "version_minor": 0
      },
      "text/plain": [
       "Eval of epoch 72/200:   0%|          | 0/1 [00:00<?, ?batch/s]"
      ]
     },
     "metadata": {},
     "output_type": "display_data"
    },
    {
     "name": "stderr",
     "output_type": "stream",
     "text": [
      "--------------------------------------------------------------------------\n",
      "Train loss: 68.9379\n",
      "Eval loss: 73.8629\n",
      "--------------------------------------------------------------------------\n"
     ]
    },
    {
     "data": {
      "application/vnd.jupyter.widget-view+json": {
       "model_id": "380a41b85bf94f57abe08e5f242bedec",
       "version_major": 2,
       "version_minor": 0
      },
      "text/plain": [
       "Training of epoch 73/200:   0%|          | 0/1 [00:00<?, ?batch/s]"
      ]
     },
     "metadata": {},
     "output_type": "display_data"
    },
    {
     "data": {
      "application/vnd.jupyter.widget-view+json": {
       "model_id": "5a909e5a0899402ca809ac48ce066853",
       "version_major": 2,
       "version_minor": 0
      },
      "text/plain": [
       "Eval of epoch 73/200:   0%|          | 0/1 [00:00<?, ?batch/s]"
      ]
     },
     "metadata": {},
     "output_type": "display_data"
    },
    {
     "name": "stderr",
     "output_type": "stream",
     "text": [
      "--------------------------------------------------------------------------\n",
      "Train loss: 66.4675\n",
      "Eval loss: 69.9686\n",
      "--------------------------------------------------------------------------\n"
     ]
    },
    {
     "data": {
      "application/vnd.jupyter.widget-view+json": {
       "model_id": "2927f99d79ad46f6bcab6cb5cffe812b",
       "version_major": 2,
       "version_minor": 0
      },
      "text/plain": [
       "Training of epoch 74/200:   0%|          | 0/1 [00:00<?, ?batch/s]"
      ]
     },
     "metadata": {},
     "output_type": "display_data"
    },
    {
     "data": {
      "application/vnd.jupyter.widget-view+json": {
       "model_id": "597b1a8425f84485ae9aa5bd37a22099",
       "version_major": 2,
       "version_minor": 0
      },
      "text/plain": [
       "Eval of epoch 74/200:   0%|          | 0/1 [00:00<?, ?batch/s]"
      ]
     },
     "metadata": {},
     "output_type": "display_data"
    },
    {
     "name": "stderr",
     "output_type": "stream",
     "text": [
      "--------------------------------------------------------------------------\n",
      "Train loss: 67.3842\n",
      "Eval loss: 70.4187\n",
      "--------------------------------------------------------------------------\n"
     ]
    },
    {
     "data": {
      "application/vnd.jupyter.widget-view+json": {
       "model_id": "f864fac20e98499f86cc208039cda7e6",
       "version_major": 2,
       "version_minor": 0
      },
      "text/plain": [
       "Training of epoch 75/200:   0%|          | 0/1 [00:00<?, ?batch/s]"
      ]
     },
     "metadata": {},
     "output_type": "display_data"
    },
    {
     "data": {
      "application/vnd.jupyter.widget-view+json": {
       "model_id": "a925d9ade31f4282a4268176533d77e9",
       "version_major": 2,
       "version_minor": 0
      },
      "text/plain": [
       "Eval of epoch 75/200:   0%|          | 0/1 [00:00<?, ?batch/s]"
      ]
     },
     "metadata": {},
     "output_type": "display_data"
    },
    {
     "name": "stderr",
     "output_type": "stream",
     "text": [
      "--------------------------------------------------------------------------\n",
      "Train loss: 65.2506\n",
      "Eval loss: 67.7566\n",
      "--------------------------------------------------------------------------\n"
     ]
    },
    {
     "data": {
      "application/vnd.jupyter.widget-view+json": {
       "model_id": "1b7602a62fcf47c5895df0a0bd06f6f6",
       "version_major": 2,
       "version_minor": 0
      },
      "text/plain": [
       "Training of epoch 76/200:   0%|          | 0/1 [00:00<?, ?batch/s]"
      ]
     },
     "metadata": {},
     "output_type": "display_data"
    },
    {
     "data": {
      "application/vnd.jupyter.widget-view+json": {
       "model_id": "0b434ea297b140ca811c173ce3c8cc15",
       "version_major": 2,
       "version_minor": 0
      },
      "text/plain": [
       "Eval of epoch 76/200:   0%|          | 0/1 [00:00<?, ?batch/s]"
      ]
     },
     "metadata": {},
     "output_type": "display_data"
    },
    {
     "name": "stderr",
     "output_type": "stream",
     "text": [
      "--------------------------------------------------------------------------\n",
      "Train loss: 65.7147\n",
      "Eval loss: 67.2\n",
      "--------------------------------------------------------------------------\n"
     ]
    },
    {
     "data": {
      "application/vnd.jupyter.widget-view+json": {
       "model_id": "fe1317b3d6df473d82ad835d020cf62d",
       "version_major": 2,
       "version_minor": 0
      },
      "text/plain": [
       "Training of epoch 77/200:   0%|          | 0/1 [00:00<?, ?batch/s]"
      ]
     },
     "metadata": {},
     "output_type": "display_data"
    },
    {
     "data": {
      "application/vnd.jupyter.widget-view+json": {
       "model_id": "69ab7acc451f4e079c4adff0b277eae1",
       "version_major": 2,
       "version_minor": 0
      },
      "text/plain": [
       "Eval of epoch 77/200:   0%|          | 0/1 [00:00<?, ?batch/s]"
      ]
     },
     "metadata": {},
     "output_type": "display_data"
    },
    {
     "name": "stderr",
     "output_type": "stream",
     "text": [
      "--------------------------------------------------------------------------\n",
      "Train loss: 64.9543\n",
      "Eval loss: 65.9089\n",
      "--------------------------------------------------------------------------\n"
     ]
    },
    {
     "data": {
      "application/vnd.jupyter.widget-view+json": {
       "model_id": "7b444d5391da46fc83f2db4a97cfb8b8",
       "version_major": 2,
       "version_minor": 0
      },
      "text/plain": [
       "Training of epoch 78/200:   0%|          | 0/1 [00:00<?, ?batch/s]"
      ]
     },
     "metadata": {},
     "output_type": "display_data"
    },
    {
     "data": {
      "application/vnd.jupyter.widget-view+json": {
       "model_id": "ad9f3f3ec1374ab3846cb3c744a82686",
       "version_major": 2,
       "version_minor": 0
      },
      "text/plain": [
       "Eval of epoch 78/200:   0%|          | 0/1 [00:00<?, ?batch/s]"
      ]
     },
     "metadata": {},
     "output_type": "display_data"
    },
    {
     "name": "stderr",
     "output_type": "stream",
     "text": [
      "--------------------------------------------------------------------------\n",
      "Train loss: 64.9382\n",
      "Eval loss: 66.9009\n",
      "--------------------------------------------------------------------------\n"
     ]
    },
    {
     "data": {
      "application/vnd.jupyter.widget-view+json": {
       "model_id": "b07d58eee1b7493f90f324f4f8abc33a",
       "version_major": 2,
       "version_minor": 0
      },
      "text/plain": [
       "Training of epoch 79/200:   0%|          | 0/1 [00:00<?, ?batch/s]"
      ]
     },
     "metadata": {},
     "output_type": "display_data"
    },
    {
     "data": {
      "application/vnd.jupyter.widget-view+json": {
       "model_id": "fa8a0e347dbb47bd8c62bf5faa762b26",
       "version_major": 2,
       "version_minor": 0
      },
      "text/plain": [
       "Eval of epoch 79/200:   0%|          | 0/1 [00:00<?, ?batch/s]"
      ]
     },
     "metadata": {},
     "output_type": "display_data"
    },
    {
     "name": "stderr",
     "output_type": "stream",
     "text": [
      "--------------------------------------------------------------------------\n",
      "Train loss: 63.4918\n",
      "Eval loss: 66.4301\n",
      "--------------------------------------------------------------------------\n"
     ]
    },
    {
     "data": {
      "application/vnd.jupyter.widget-view+json": {
       "model_id": "db22627024b04efeb90f80251cf79fca",
       "version_major": 2,
       "version_minor": 0
      },
      "text/plain": [
       "Training of epoch 80/200:   0%|          | 0/1 [00:00<?, ?batch/s]"
      ]
     },
     "metadata": {},
     "output_type": "display_data"
    },
    {
     "data": {
      "application/vnd.jupyter.widget-view+json": {
       "model_id": "8aec06f469e0403cae77cc371ebe2410",
       "version_major": 2,
       "version_minor": 0
      },
      "text/plain": [
       "Eval of epoch 80/200:   0%|          | 0/1 [00:00<?, ?batch/s]"
      ]
     },
     "metadata": {},
     "output_type": "display_data"
    },
    {
     "name": "stderr",
     "output_type": "stream",
     "text": [
      "--------------------------------------------------------------------------\n",
      "Train loss: 63.742\n",
      "Eval loss: 65.7472\n",
      "--------------------------------------------------------------------------\n"
     ]
    },
    {
     "data": {
      "application/vnd.jupyter.widget-view+json": {
       "model_id": "bb079b68add94e5091bbc9d9b3ed603b",
       "version_major": 2,
       "version_minor": 0
      },
      "text/plain": [
       "Training of epoch 81/200:   0%|          | 0/1 [00:00<?, ?batch/s]"
      ]
     },
     "metadata": {},
     "output_type": "display_data"
    },
    {
     "data": {
      "application/vnd.jupyter.widget-view+json": {
       "model_id": "aabc77d0cfed446f81ebb87ad24b58de",
       "version_major": 2,
       "version_minor": 0
      },
      "text/plain": [
       "Eval of epoch 81/200:   0%|          | 0/1 [00:00<?, ?batch/s]"
      ]
     },
     "metadata": {},
     "output_type": "display_data"
    },
    {
     "name": "stderr",
     "output_type": "stream",
     "text": [
      "--------------------------------------------------------------------------\n",
      "Train loss: 62.8927\n",
      "Eval loss: 64.0013\n",
      "--------------------------------------------------------------------------\n"
     ]
    },
    {
     "data": {
      "application/vnd.jupyter.widget-view+json": {
       "model_id": "481b3df19b7c4b2e8262a96b32a66fcb",
       "version_major": 2,
       "version_minor": 0
      },
      "text/plain": [
       "Training of epoch 82/200:   0%|          | 0/1 [00:00<?, ?batch/s]"
      ]
     },
     "metadata": {},
     "output_type": "display_data"
    },
    {
     "data": {
      "application/vnd.jupyter.widget-view+json": {
       "model_id": "edc215644e6d45de86a7ebc5c1349e1d",
       "version_major": 2,
       "version_minor": 0
      },
      "text/plain": [
       "Eval of epoch 82/200:   0%|          | 0/1 [00:00<?, ?batch/s]"
      ]
     },
     "metadata": {},
     "output_type": "display_data"
    },
    {
     "name": "stderr",
     "output_type": "stream",
     "text": [
      "--------------------------------------------------------------------------\n",
      "Train loss: 63.2055\n",
      "Eval loss: 63.841\n",
      "--------------------------------------------------------------------------\n"
     ]
    },
    {
     "data": {
      "application/vnd.jupyter.widget-view+json": {
       "model_id": "77e7277856f348f2b999fdb65595955f",
       "version_major": 2,
       "version_minor": 0
      },
      "text/plain": [
       "Training of epoch 83/200:   0%|          | 0/1 [00:00<?, ?batch/s]"
      ]
     },
     "metadata": {},
     "output_type": "display_data"
    },
    {
     "data": {
      "application/vnd.jupyter.widget-view+json": {
       "model_id": "84f41dd512e145578ffd2b51ac9a38c1",
       "version_major": 2,
       "version_minor": 0
      },
      "text/plain": [
       "Eval of epoch 83/200:   0%|          | 0/1 [00:00<?, ?batch/s]"
      ]
     },
     "metadata": {},
     "output_type": "display_data"
    },
    {
     "name": "stderr",
     "output_type": "stream",
     "text": [
      "--------------------------------------------------------------------------\n",
      "Train loss: 61.463\n",
      "Eval loss: 66.4106\n",
      "--------------------------------------------------------------------------\n"
     ]
    },
    {
     "data": {
      "application/vnd.jupyter.widget-view+json": {
       "model_id": "f79433ec6e6747b7aa157076d7a09013",
       "version_major": 2,
       "version_minor": 0
      },
      "text/plain": [
       "Training of epoch 84/200:   0%|          | 0/1 [00:00<?, ?batch/s]"
      ]
     },
     "metadata": {},
     "output_type": "display_data"
    },
    {
     "data": {
      "application/vnd.jupyter.widget-view+json": {
       "model_id": "4a0615a3bbdd49cebadcf06090318e00",
       "version_major": 2,
       "version_minor": 0
      },
      "text/plain": [
       "Eval of epoch 84/200:   0%|          | 0/1 [00:00<?, ?batch/s]"
      ]
     },
     "metadata": {},
     "output_type": "display_data"
    },
    {
     "name": "stderr",
     "output_type": "stream",
     "text": [
      "--------------------------------------------------------------------------\n",
      "Train loss: 61.3384\n",
      "Eval loss: 63.363\n",
      "--------------------------------------------------------------------------\n"
     ]
    },
    {
     "data": {
      "application/vnd.jupyter.widget-view+json": {
       "model_id": "0b1cb6fd77b54eefafce13a7fac8dc2f",
       "version_major": 2,
       "version_minor": 0
      },
      "text/plain": [
       "Training of epoch 85/200:   0%|          | 0/1 [00:00<?, ?batch/s]"
      ]
     },
     "metadata": {},
     "output_type": "display_data"
    },
    {
     "data": {
      "application/vnd.jupyter.widget-view+json": {
       "model_id": "42b08cfd9c4a450d9cfa7e4d5b94ddcd",
       "version_major": 2,
       "version_minor": 0
      },
      "text/plain": [
       "Eval of epoch 85/200:   0%|          | 0/1 [00:00<?, ?batch/s]"
      ]
     },
     "metadata": {},
     "output_type": "display_data"
    },
    {
     "name": "stderr",
     "output_type": "stream",
     "text": [
      "--------------------------------------------------------------------------\n",
      "Train loss: 61.4499\n",
      "Eval loss: 60.7481\n",
      "--------------------------------------------------------------------------\n"
     ]
    },
    {
     "data": {
      "application/vnd.jupyter.widget-view+json": {
       "model_id": "8e319c2eb39b4dc7ae34550434f89ad3",
       "version_major": 2,
       "version_minor": 0
      },
      "text/plain": [
       "Training of epoch 86/200:   0%|          | 0/1 [00:00<?, ?batch/s]"
      ]
     },
     "metadata": {},
     "output_type": "display_data"
    },
    {
     "data": {
      "application/vnd.jupyter.widget-view+json": {
       "model_id": "7d8483a6d1454961b8913e23ca965d22",
       "version_major": 2,
       "version_minor": 0
      },
      "text/plain": [
       "Eval of epoch 86/200:   0%|          | 0/1 [00:00<?, ?batch/s]"
      ]
     },
     "metadata": {},
     "output_type": "display_data"
    },
    {
     "name": "stderr",
     "output_type": "stream",
     "text": [
      "--------------------------------------------------------------------------\n",
      "Train loss: 61.2032\n",
      "Eval loss: 62.2968\n",
      "--------------------------------------------------------------------------\n"
     ]
    },
    {
     "data": {
      "application/vnd.jupyter.widget-view+json": {
       "model_id": "78d1eb04494449d196f74bd170beca02",
       "version_major": 2,
       "version_minor": 0
      },
      "text/plain": [
       "Training of epoch 87/200:   0%|          | 0/1 [00:00<?, ?batch/s]"
      ]
     },
     "metadata": {},
     "output_type": "display_data"
    },
    {
     "data": {
      "application/vnd.jupyter.widget-view+json": {
       "model_id": "8724c2595e7a454ca6ce73b91729e766",
       "version_major": 2,
       "version_minor": 0
      },
      "text/plain": [
       "Eval of epoch 87/200:   0%|          | 0/1 [00:00<?, ?batch/s]"
      ]
     },
     "metadata": {},
     "output_type": "display_data"
    },
    {
     "name": "stderr",
     "output_type": "stream",
     "text": [
      "--------------------------------------------------------------------------\n",
      "Train loss: 60.1559\n",
      "Eval loss: 62.1195\n",
      "--------------------------------------------------------------------------\n"
     ]
    },
    {
     "data": {
      "application/vnd.jupyter.widget-view+json": {
       "model_id": "a1f91549a5c540a1ac10570d5560edc3",
       "version_major": 2,
       "version_minor": 0
      },
      "text/plain": [
       "Training of epoch 88/200:   0%|          | 0/1 [00:00<?, ?batch/s]"
      ]
     },
     "metadata": {},
     "output_type": "display_data"
    },
    {
     "data": {
      "application/vnd.jupyter.widget-view+json": {
       "model_id": "33632960f0564ae9a3a99badd3c1cff5",
       "version_major": 2,
       "version_minor": 0
      },
      "text/plain": [
       "Eval of epoch 88/200:   0%|          | 0/1 [00:00<?, ?batch/s]"
      ]
     },
     "metadata": {},
     "output_type": "display_data"
    },
    {
     "name": "stderr",
     "output_type": "stream",
     "text": [
      "--------------------------------------------------------------------------\n",
      "Train loss: 59.7243\n",
      "Eval loss: 60.8777\n",
      "--------------------------------------------------------------------------\n"
     ]
    },
    {
     "data": {
      "application/vnd.jupyter.widget-view+json": {
       "model_id": "1aaa6d1e01cb409c9e50c5109bf32a8c",
       "version_major": 2,
       "version_minor": 0
      },
      "text/plain": [
       "Training of epoch 89/200:   0%|          | 0/1 [00:00<?, ?batch/s]"
      ]
     },
     "metadata": {},
     "output_type": "display_data"
    },
    {
     "data": {
      "application/vnd.jupyter.widget-view+json": {
       "model_id": "a14fdbaa422c4e9aa44ae2f8a37a4e94",
       "version_major": 2,
       "version_minor": 0
      },
      "text/plain": [
       "Eval of epoch 89/200:   0%|          | 0/1 [00:00<?, ?batch/s]"
      ]
     },
     "metadata": {},
     "output_type": "display_data"
    },
    {
     "name": "stderr",
     "output_type": "stream",
     "text": [
      "--------------------------------------------------------------------------\n",
      "Train loss: 59.5472\n",
      "Eval loss: 59.3295\n",
      "--------------------------------------------------------------------------\n"
     ]
    },
    {
     "data": {
      "application/vnd.jupyter.widget-view+json": {
       "model_id": "0b88a6c119cd4de094de47d52183d83f",
       "version_major": 2,
       "version_minor": 0
      },
      "text/plain": [
       "Training of epoch 90/200:   0%|          | 0/1 [00:00<?, ?batch/s]"
      ]
     },
     "metadata": {},
     "output_type": "display_data"
    },
    {
     "data": {
      "application/vnd.jupyter.widget-view+json": {
       "model_id": "e7cfcb72ce77448aa001742108b20590",
       "version_major": 2,
       "version_minor": 0
      },
      "text/plain": [
       "Eval of epoch 90/200:   0%|          | 0/1 [00:00<?, ?batch/s]"
      ]
     },
     "metadata": {},
     "output_type": "display_data"
    },
    {
     "name": "stderr",
     "output_type": "stream",
     "text": [
      "--------------------------------------------------------------------------\n",
      "Train loss: 58.917\n",
      "Eval loss: 60.1714\n",
      "--------------------------------------------------------------------------\n"
     ]
    },
    {
     "data": {
      "application/vnd.jupyter.widget-view+json": {
       "model_id": "365bbe5816164695849b9bb11a8c4267",
       "version_major": 2,
       "version_minor": 0
      },
      "text/plain": [
       "Training of epoch 91/200:   0%|          | 0/1 [00:00<?, ?batch/s]"
      ]
     },
     "metadata": {},
     "output_type": "display_data"
    },
    {
     "data": {
      "application/vnd.jupyter.widget-view+json": {
       "model_id": "42d1f675743c451a8d53332dd3351bf2",
       "version_major": 2,
       "version_minor": 0
      },
      "text/plain": [
       "Eval of epoch 91/200:   0%|          | 0/1 [00:00<?, ?batch/s]"
      ]
     },
     "metadata": {},
     "output_type": "display_data"
    },
    {
     "name": "stderr",
     "output_type": "stream",
     "text": [
      "--------------------------------------------------------------------------\n",
      "Train loss: 58.6237\n",
      "Eval loss: 58.6207\n",
      "--------------------------------------------------------------------------\n"
     ]
    },
    {
     "data": {
      "application/vnd.jupyter.widget-view+json": {
       "model_id": "d0863653c1844f49bc15f1ddd973ab59",
       "version_major": 2,
       "version_minor": 0
      },
      "text/plain": [
       "Training of epoch 92/200:   0%|          | 0/1 [00:00<?, ?batch/s]"
      ]
     },
     "metadata": {},
     "output_type": "display_data"
    },
    {
     "data": {
      "application/vnd.jupyter.widget-view+json": {
       "model_id": "a7b658f62c3e4120a2521febdbbbe79d",
       "version_major": 2,
       "version_minor": 0
      },
      "text/plain": [
       "Eval of epoch 92/200:   0%|          | 0/1 [00:00<?, ?batch/s]"
      ]
     },
     "metadata": {},
     "output_type": "display_data"
    },
    {
     "name": "stderr",
     "output_type": "stream",
     "text": [
      "--------------------------------------------------------------------------\n",
      "Train loss: 59.2356\n",
      "Eval loss: 59.1792\n",
      "--------------------------------------------------------------------------\n"
     ]
    },
    {
     "data": {
      "application/vnd.jupyter.widget-view+json": {
       "model_id": "3f510da6adf847d8ac484fb59cde84fd",
       "version_major": 2,
       "version_minor": 0
      },
      "text/plain": [
       "Training of epoch 93/200:   0%|          | 0/1 [00:00<?, ?batch/s]"
      ]
     },
     "metadata": {},
     "output_type": "display_data"
    },
    {
     "data": {
      "application/vnd.jupyter.widget-view+json": {
       "model_id": "07c502751391411ea29b27a1d6921d26",
       "version_major": 2,
       "version_minor": 0
      },
      "text/plain": [
       "Eval of epoch 93/200:   0%|          | 0/1 [00:00<?, ?batch/s]"
      ]
     },
     "metadata": {},
     "output_type": "display_data"
    },
    {
     "name": "stderr",
     "output_type": "stream",
     "text": [
      "--------------------------------------------------------------------------\n",
      "Train loss: 58.0308\n",
      "Eval loss: 58.0678\n",
      "--------------------------------------------------------------------------\n"
     ]
    },
    {
     "data": {
      "application/vnd.jupyter.widget-view+json": {
       "model_id": "5b2602f2059743ffbf573f3e5a6307f7",
       "version_major": 2,
       "version_minor": 0
      },
      "text/plain": [
       "Training of epoch 94/200:   0%|          | 0/1 [00:00<?, ?batch/s]"
      ]
     },
     "metadata": {},
     "output_type": "display_data"
    },
    {
     "data": {
      "application/vnd.jupyter.widget-view+json": {
       "model_id": "d0ed241315be445bac9852bc1b8a8261",
       "version_major": 2,
       "version_minor": 0
      },
      "text/plain": [
       "Eval of epoch 94/200:   0%|          | 0/1 [00:00<?, ?batch/s]"
      ]
     },
     "metadata": {},
     "output_type": "display_data"
    },
    {
     "name": "stderr",
     "output_type": "stream",
     "text": [
      "--------------------------------------------------------------------------\n",
      "Train loss: 57.6188\n",
      "Eval loss: 57.7541\n",
      "--------------------------------------------------------------------------\n"
     ]
    },
    {
     "data": {
      "application/vnd.jupyter.widget-view+json": {
       "model_id": "deebcb0cd49043148893cce0f965e7e7",
       "version_major": 2,
       "version_minor": 0
      },
      "text/plain": [
       "Training of epoch 95/200:   0%|          | 0/1 [00:00<?, ?batch/s]"
      ]
     },
     "metadata": {},
     "output_type": "display_data"
    },
    {
     "data": {
      "application/vnd.jupyter.widget-view+json": {
       "model_id": "6e09792485bc4d918787741aa423586f",
       "version_major": 2,
       "version_minor": 0
      },
      "text/plain": [
       "Eval of epoch 95/200:   0%|          | 0/1 [00:00<?, ?batch/s]"
      ]
     },
     "metadata": {},
     "output_type": "display_data"
    },
    {
     "name": "stderr",
     "output_type": "stream",
     "text": [
      "--------------------------------------------------------------------------\n",
      "Train loss: 56.9267\n",
      "Eval loss: 58.4863\n",
      "--------------------------------------------------------------------------\n"
     ]
    },
    {
     "data": {
      "application/vnd.jupyter.widget-view+json": {
       "model_id": "a90238a03d984b62aced15de095baae6",
       "version_major": 2,
       "version_minor": 0
      },
      "text/plain": [
       "Training of epoch 96/200:   0%|          | 0/1 [00:00<?, ?batch/s]"
      ]
     },
     "metadata": {},
     "output_type": "display_data"
    },
    {
     "data": {
      "application/vnd.jupyter.widget-view+json": {
       "model_id": "1d5046e680784b9199a9da6e961c4815",
       "version_major": 2,
       "version_minor": 0
      },
      "text/plain": [
       "Eval of epoch 96/200:   0%|          | 0/1 [00:00<?, ?batch/s]"
      ]
     },
     "metadata": {},
     "output_type": "display_data"
    },
    {
     "name": "stderr",
     "output_type": "stream",
     "text": [
      "--------------------------------------------------------------------------\n",
      "Train loss: 57.1491\n",
      "Eval loss: 57.3263\n",
      "--------------------------------------------------------------------------\n"
     ]
    },
    {
     "data": {
      "application/vnd.jupyter.widget-view+json": {
       "model_id": "fc665b7acb71495389b5f3db6844ab5b",
       "version_major": 2,
       "version_minor": 0
      },
      "text/plain": [
       "Training of epoch 97/200:   0%|          | 0/1 [00:00<?, ?batch/s]"
      ]
     },
     "metadata": {},
     "output_type": "display_data"
    },
    {
     "data": {
      "application/vnd.jupyter.widget-view+json": {
       "model_id": "af2372e2568e4964889db7911cee22d6",
       "version_major": 2,
       "version_minor": 0
      },
      "text/plain": [
       "Eval of epoch 97/200:   0%|          | 0/1 [00:00<?, ?batch/s]"
      ]
     },
     "metadata": {},
     "output_type": "display_data"
    },
    {
     "name": "stderr",
     "output_type": "stream",
     "text": [
      "--------------------------------------------------------------------------\n",
      "Train loss: 57.0982\n",
      "Eval loss: 57.5645\n",
      "--------------------------------------------------------------------------\n"
     ]
    },
    {
     "data": {
      "application/vnd.jupyter.widget-view+json": {
       "model_id": "879580e405f046b18bd5f0d979cc721b",
       "version_major": 2,
       "version_minor": 0
      },
      "text/plain": [
       "Training of epoch 98/200:   0%|          | 0/1 [00:00<?, ?batch/s]"
      ]
     },
     "metadata": {},
     "output_type": "display_data"
    },
    {
     "data": {
      "application/vnd.jupyter.widget-view+json": {
       "model_id": "a6ac420e403e4568b63b4702872715eb",
       "version_major": 2,
       "version_minor": 0
      },
      "text/plain": [
       "Eval of epoch 98/200:   0%|          | 0/1 [00:00<?, ?batch/s]"
      ]
     },
     "metadata": {},
     "output_type": "display_data"
    },
    {
     "name": "stderr",
     "output_type": "stream",
     "text": [
      "--------------------------------------------------------------------------\n",
      "Train loss: 56.0169\n",
      "Eval loss: 55.7509\n",
      "--------------------------------------------------------------------------\n"
     ]
    },
    {
     "data": {
      "application/vnd.jupyter.widget-view+json": {
       "model_id": "d8ba36d8f4364830ba8cd739672031b0",
       "version_major": 2,
       "version_minor": 0
      },
      "text/plain": [
       "Training of epoch 99/200:   0%|          | 0/1 [00:00<?, ?batch/s]"
      ]
     },
     "metadata": {},
     "output_type": "display_data"
    },
    {
     "data": {
      "application/vnd.jupyter.widget-view+json": {
       "model_id": "9f3127df2fb944179bcb9d878ad313c0",
       "version_major": 2,
       "version_minor": 0
      },
      "text/plain": [
       "Eval of epoch 99/200:   0%|          | 0/1 [00:00<?, ?batch/s]"
      ]
     },
     "metadata": {},
     "output_type": "display_data"
    },
    {
     "name": "stderr",
     "output_type": "stream",
     "text": [
      "--------------------------------------------------------------------------\n",
      "Train loss: 55.282\n",
      "Eval loss: 55.9388\n",
      "--------------------------------------------------------------------------\n"
     ]
    },
    {
     "data": {
      "application/vnd.jupyter.widget-view+json": {
       "model_id": "cf1649fa0959428d859f8546633736a1",
       "version_major": 2,
       "version_minor": 0
      },
      "text/plain": [
       "Training of epoch 100/200:   0%|          | 0/1 [00:00<?, ?batch/s]"
      ]
     },
     "metadata": {},
     "output_type": "display_data"
    },
    {
     "data": {
      "application/vnd.jupyter.widget-view+json": {
       "model_id": "ca203bf77fc54761bd1a2d862466cd58",
       "version_major": 2,
       "version_minor": 0
      },
      "text/plain": [
       "Eval of epoch 100/200:   0%|          | 0/1 [00:00<?, ?batch/s]"
      ]
     },
     "metadata": {},
     "output_type": "display_data"
    },
    {
     "name": "stderr",
     "output_type": "stream",
     "text": [
      "--------------------------------------------------------------------------\n",
      "Train loss: 55.9773\n",
      "Eval loss: 55.8487\n",
      "--------------------------------------------------------------------------\n"
     ]
    },
    {
     "data": {
      "application/vnd.jupyter.widget-view+json": {
       "model_id": "0161ac239fa7435d9f8ed9f38169e9bd",
       "version_major": 2,
       "version_minor": 0
      },
      "text/plain": [
       "Training of epoch 101/200:   0%|          | 0/1 [00:00<?, ?batch/s]"
      ]
     },
     "metadata": {},
     "output_type": "display_data"
    },
    {
     "data": {
      "application/vnd.jupyter.widget-view+json": {
       "model_id": "3290cda4acef41af9b1e2c03355a9b4f",
       "version_major": 2,
       "version_minor": 0
      },
      "text/plain": [
       "Eval of epoch 101/200:   0%|          | 0/1 [00:00<?, ?batch/s]"
      ]
     },
     "metadata": {},
     "output_type": "display_data"
    },
    {
     "name": "stderr",
     "output_type": "stream",
     "text": [
      "--------------------------------------------------------------------------\n",
      "Train loss: 55.6106\n",
      "Eval loss: 55.3646\n",
      "--------------------------------------------------------------------------\n"
     ]
    },
    {
     "data": {
      "application/vnd.jupyter.widget-view+json": {
       "model_id": "8373f0c9df4744a9b8b346e88b5bc568",
       "version_major": 2,
       "version_minor": 0
      },
      "text/plain": [
       "Training of epoch 102/200:   0%|          | 0/1 [00:00<?, ?batch/s]"
      ]
     },
     "metadata": {},
     "output_type": "display_data"
    },
    {
     "data": {
      "application/vnd.jupyter.widget-view+json": {
       "model_id": "64f66b50f39044a9b38e04e188b1b002",
       "version_major": 2,
       "version_minor": 0
      },
      "text/plain": [
       "Eval of epoch 102/200:   0%|          | 0/1 [00:00<?, ?batch/s]"
      ]
     },
     "metadata": {},
     "output_type": "display_data"
    },
    {
     "name": "stderr",
     "output_type": "stream",
     "text": [
      "--------------------------------------------------------------------------\n",
      "Train loss: 54.6822\n",
      "Eval loss: 57.0135\n",
      "--------------------------------------------------------------------------\n"
     ]
    },
    {
     "data": {
      "application/vnd.jupyter.widget-view+json": {
       "model_id": "3fafe47cddab4f6d903be2a8934b2d1c",
       "version_major": 2,
       "version_minor": 0
      },
      "text/plain": [
       "Training of epoch 103/200:   0%|          | 0/1 [00:00<?, ?batch/s]"
      ]
     },
     "metadata": {},
     "output_type": "display_data"
    },
    {
     "data": {
      "application/vnd.jupyter.widget-view+json": {
       "model_id": "531d593404c1467782127b8a690ba1ac",
       "version_major": 2,
       "version_minor": 0
      },
      "text/plain": [
       "Eval of epoch 103/200:   0%|          | 0/1 [00:00<?, ?batch/s]"
      ]
     },
     "metadata": {},
     "output_type": "display_data"
    },
    {
     "name": "stderr",
     "output_type": "stream",
     "text": [
      "--------------------------------------------------------------------------\n",
      "Train loss: 54.7277\n",
      "Eval loss: 54.5594\n",
      "--------------------------------------------------------------------------\n"
     ]
    },
    {
     "data": {
      "application/vnd.jupyter.widget-view+json": {
       "model_id": "5a05f2082d704ab5b6d3dbc093766c99",
       "version_major": 2,
       "version_minor": 0
      },
      "text/plain": [
       "Training of epoch 104/200:   0%|          | 0/1 [00:00<?, ?batch/s]"
      ]
     },
     "metadata": {},
     "output_type": "display_data"
    },
    {
     "data": {
      "application/vnd.jupyter.widget-view+json": {
       "model_id": "4000cb0224ff4254a9243b975dc8f49c",
       "version_major": 2,
       "version_minor": 0
      },
      "text/plain": [
       "Eval of epoch 104/200:   0%|          | 0/1 [00:00<?, ?batch/s]"
      ]
     },
     "metadata": {},
     "output_type": "display_data"
    },
    {
     "name": "stderr",
     "output_type": "stream",
     "text": [
      "--------------------------------------------------------------------------\n",
      "Train loss: 54.2176\n",
      "Eval loss: 55.3349\n",
      "--------------------------------------------------------------------------\n"
     ]
    },
    {
     "data": {
      "application/vnd.jupyter.widget-view+json": {
       "model_id": "b8e34c8ff96f416fa3932fe93c96b767",
       "version_major": 2,
       "version_minor": 0
      },
      "text/plain": [
       "Training of epoch 105/200:   0%|          | 0/1 [00:00<?, ?batch/s]"
      ]
     },
     "metadata": {},
     "output_type": "display_data"
    },
    {
     "data": {
      "application/vnd.jupyter.widget-view+json": {
       "model_id": "70f5079e6f03480aa24fd3b60f72ab94",
       "version_major": 2,
       "version_minor": 0
      },
      "text/plain": [
       "Eval of epoch 105/200:   0%|          | 0/1 [00:00<?, ?batch/s]"
      ]
     },
     "metadata": {},
     "output_type": "display_data"
    },
    {
     "name": "stderr",
     "output_type": "stream",
     "text": [
      "--------------------------------------------------------------------------\n",
      "Train loss: 53.2534\n",
      "Eval loss: 54.1618\n",
      "--------------------------------------------------------------------------\n"
     ]
    },
    {
     "data": {
      "application/vnd.jupyter.widget-view+json": {
       "model_id": "dbe1d5f2ce104e79b2f0f082e9be32e7",
       "version_major": 2,
       "version_minor": 0
      },
      "text/plain": [
       "Training of epoch 106/200:   0%|          | 0/1 [00:00<?, ?batch/s]"
      ]
     },
     "metadata": {},
     "output_type": "display_data"
    },
    {
     "data": {
      "application/vnd.jupyter.widget-view+json": {
       "model_id": "4002380583584325842c3b6cd631386d",
       "version_major": 2,
       "version_minor": 0
      },
      "text/plain": [
       "Eval of epoch 106/200:   0%|          | 0/1 [00:00<?, ?batch/s]"
      ]
     },
     "metadata": {},
     "output_type": "display_data"
    },
    {
     "name": "stderr",
     "output_type": "stream",
     "text": [
      "--------------------------------------------------------------------------\n",
      "Train loss: 53.3433\n",
      "Eval loss: 54.3597\n",
      "--------------------------------------------------------------------------\n"
     ]
    },
    {
     "data": {
      "application/vnd.jupyter.widget-view+json": {
       "model_id": "1e61c56643664bccbb48c727cf890415",
       "version_major": 2,
       "version_minor": 0
      },
      "text/plain": [
       "Training of epoch 107/200:   0%|          | 0/1 [00:00<?, ?batch/s]"
      ]
     },
     "metadata": {},
     "output_type": "display_data"
    },
    {
     "data": {
      "application/vnd.jupyter.widget-view+json": {
       "model_id": "9243d6c5579f45baa1c10aed5532a0cc",
       "version_major": 2,
       "version_minor": 0
      },
      "text/plain": [
       "Eval of epoch 107/200:   0%|          | 0/1 [00:00<?, ?batch/s]"
      ]
     },
     "metadata": {},
     "output_type": "display_data"
    },
    {
     "name": "stderr",
     "output_type": "stream",
     "text": [
      "--------------------------------------------------------------------------\n",
      "Train loss: 53.2293\n",
      "Eval loss: 53.7052\n",
      "--------------------------------------------------------------------------\n"
     ]
    },
    {
     "data": {
      "application/vnd.jupyter.widget-view+json": {
       "model_id": "1ec1944d30714160b552d9fc6bebd766",
       "version_major": 2,
       "version_minor": 0
      },
      "text/plain": [
       "Training of epoch 108/200:   0%|          | 0/1 [00:00<?, ?batch/s]"
      ]
     },
     "metadata": {},
     "output_type": "display_data"
    },
    {
     "data": {
      "application/vnd.jupyter.widget-view+json": {
       "model_id": "42768c10627d40b0bd13a07f704a5210",
       "version_major": 2,
       "version_minor": 0
      },
      "text/plain": [
       "Eval of epoch 108/200:   0%|          | 0/1 [00:00<?, ?batch/s]"
      ]
     },
     "metadata": {},
     "output_type": "display_data"
    },
    {
     "name": "stderr",
     "output_type": "stream",
     "text": [
      "--------------------------------------------------------------------------\n",
      "Train loss: 54.0338\n",
      "Eval loss: 53.0884\n",
      "--------------------------------------------------------------------------\n"
     ]
    },
    {
     "data": {
      "application/vnd.jupyter.widget-view+json": {
       "model_id": "6396d7931d914b76acf6e42d855d34b6",
       "version_major": 2,
       "version_minor": 0
      },
      "text/plain": [
       "Training of epoch 109/200:   0%|          | 0/1 [00:00<?, ?batch/s]"
      ]
     },
     "metadata": {},
     "output_type": "display_data"
    },
    {
     "data": {
      "application/vnd.jupyter.widget-view+json": {
       "model_id": "fbf20ded7f5f4a4c80ce66afc3fd5b5c",
       "version_major": 2,
       "version_minor": 0
      },
      "text/plain": [
       "Eval of epoch 109/200:   0%|          | 0/1 [00:00<?, ?batch/s]"
      ]
     },
     "metadata": {},
     "output_type": "display_data"
    },
    {
     "name": "stderr",
     "output_type": "stream",
     "text": [
      "--------------------------------------------------------------------------\n",
      "Train loss: 52.9577\n",
      "Eval loss: 53.6875\n",
      "--------------------------------------------------------------------------\n"
     ]
    },
    {
     "data": {
      "application/vnd.jupyter.widget-view+json": {
       "model_id": "a107bcc211944256ad3f6bc10c70bf2c",
       "version_major": 2,
       "version_minor": 0
      },
      "text/plain": [
       "Training of epoch 110/200:   0%|          | 0/1 [00:00<?, ?batch/s]"
      ]
     },
     "metadata": {},
     "output_type": "display_data"
    },
    {
     "data": {
      "application/vnd.jupyter.widget-view+json": {
       "model_id": "cd49cea7f5f54f22a630028f1e4d6cbf",
       "version_major": 2,
       "version_minor": 0
      },
      "text/plain": [
       "Eval of epoch 110/200:   0%|          | 0/1 [00:00<?, ?batch/s]"
      ]
     },
     "metadata": {},
     "output_type": "display_data"
    },
    {
     "name": "stderr",
     "output_type": "stream",
     "text": [
      "--------------------------------------------------------------------------\n",
      "Train loss: 51.6948\n",
      "Eval loss: 53.1388\n",
      "--------------------------------------------------------------------------\n"
     ]
    },
    {
     "data": {
      "application/vnd.jupyter.widget-view+json": {
       "model_id": "e77ad9bc8091435fae3911b208bf5c0e",
       "version_major": 2,
       "version_minor": 0
      },
      "text/plain": [
       "Training of epoch 111/200:   0%|          | 0/1 [00:00<?, ?batch/s]"
      ]
     },
     "metadata": {},
     "output_type": "display_data"
    },
    {
     "data": {
      "application/vnd.jupyter.widget-view+json": {
       "model_id": "df0cd45425df4405ada280587c1e57fd",
       "version_major": 2,
       "version_minor": 0
      },
      "text/plain": [
       "Eval of epoch 111/200:   0%|          | 0/1 [00:00<?, ?batch/s]"
      ]
     },
     "metadata": {},
     "output_type": "display_data"
    },
    {
     "name": "stderr",
     "output_type": "stream",
     "text": [
      "--------------------------------------------------------------------------\n",
      "Train loss: 51.9057\n",
      "Eval loss: 52.2049\n",
      "--------------------------------------------------------------------------\n"
     ]
    },
    {
     "data": {
      "application/vnd.jupyter.widget-view+json": {
       "model_id": "7da334ab81124e97883bb4659f975d43",
       "version_major": 2,
       "version_minor": 0
      },
      "text/plain": [
       "Training of epoch 112/200:   0%|          | 0/1 [00:00<?, ?batch/s]"
      ]
     },
     "metadata": {},
     "output_type": "display_data"
    },
    {
     "data": {
      "application/vnd.jupyter.widget-view+json": {
       "model_id": "93eb097aece248bfabdd5d72b736bc52",
       "version_major": 2,
       "version_minor": 0
      },
      "text/plain": [
       "Eval of epoch 112/200:   0%|          | 0/1 [00:00<?, ?batch/s]"
      ]
     },
     "metadata": {},
     "output_type": "display_data"
    },
    {
     "name": "stderr",
     "output_type": "stream",
     "text": [
      "--------------------------------------------------------------------------\n",
      "Train loss: 51.89\n",
      "Eval loss: 52.9399\n",
      "--------------------------------------------------------------------------\n"
     ]
    },
    {
     "data": {
      "application/vnd.jupyter.widget-view+json": {
       "model_id": "8e1703c39a014036bd19a14dd0aafb22",
       "version_major": 2,
       "version_minor": 0
      },
      "text/plain": [
       "Training of epoch 113/200:   0%|          | 0/1 [00:00<?, ?batch/s]"
      ]
     },
     "metadata": {},
     "output_type": "display_data"
    },
    {
     "data": {
      "application/vnd.jupyter.widget-view+json": {
       "model_id": "b44f5bafff924a21abea0b544168b21f",
       "version_major": 2,
       "version_minor": 0
      },
      "text/plain": [
       "Eval of epoch 113/200:   0%|          | 0/1 [00:00<?, ?batch/s]"
      ]
     },
     "metadata": {},
     "output_type": "display_data"
    },
    {
     "name": "stderr",
     "output_type": "stream",
     "text": [
      "--------------------------------------------------------------------------\n",
      "Train loss: 51.1002\n",
      "Eval loss: 52.1524\n",
      "--------------------------------------------------------------------------\n"
     ]
    },
    {
     "data": {
      "application/vnd.jupyter.widget-view+json": {
       "model_id": "7588d32cc38d454fbf68bf8769e84e48",
       "version_major": 2,
       "version_minor": 0
      },
      "text/plain": [
       "Training of epoch 114/200:   0%|          | 0/1 [00:00<?, ?batch/s]"
      ]
     },
     "metadata": {},
     "output_type": "display_data"
    },
    {
     "data": {
      "application/vnd.jupyter.widget-view+json": {
       "model_id": "5596dc69f6ac42789c825fb8275f7f68",
       "version_major": 2,
       "version_minor": 0
      },
      "text/plain": [
       "Eval of epoch 114/200:   0%|          | 0/1 [00:00<?, ?batch/s]"
      ]
     },
     "metadata": {},
     "output_type": "display_data"
    },
    {
     "name": "stderr",
     "output_type": "stream",
     "text": [
      "--------------------------------------------------------------------------\n",
      "Train loss: 50.7762\n",
      "Eval loss: 50.7205\n",
      "--------------------------------------------------------------------------\n"
     ]
    },
    {
     "data": {
      "application/vnd.jupyter.widget-view+json": {
       "model_id": "017cbc7e88e84678910cf8f3f7c70e7b",
       "version_major": 2,
       "version_minor": 0
      },
      "text/plain": [
       "Training of epoch 115/200:   0%|          | 0/1 [00:00<?, ?batch/s]"
      ]
     },
     "metadata": {},
     "output_type": "display_data"
    },
    {
     "data": {
      "application/vnd.jupyter.widget-view+json": {
       "model_id": "9d3909eff4dc4bdba621f1b2ef5f2ec2",
       "version_major": 2,
       "version_minor": 0
      },
      "text/plain": [
       "Eval of epoch 115/200:   0%|          | 0/1 [00:00<?, ?batch/s]"
      ]
     },
     "metadata": {},
     "output_type": "display_data"
    },
    {
     "name": "stderr",
     "output_type": "stream",
     "text": [
      "--------------------------------------------------------------------------\n",
      "Train loss: 51.483\n",
      "Eval loss: 51.0846\n",
      "--------------------------------------------------------------------------\n"
     ]
    },
    {
     "data": {
      "application/vnd.jupyter.widget-view+json": {
       "model_id": "f6d3fc7fae5c40e2b951e4ba375390ee",
       "version_major": 2,
       "version_minor": 0
      },
      "text/plain": [
       "Training of epoch 116/200:   0%|          | 0/1 [00:00<?, ?batch/s]"
      ]
     },
     "metadata": {},
     "output_type": "display_data"
    },
    {
     "data": {
      "application/vnd.jupyter.widget-view+json": {
       "model_id": "d8690cb97a454753b7d37f2120d0c6a8",
       "version_major": 2,
       "version_minor": 0
      },
      "text/plain": [
       "Eval of epoch 116/200:   0%|          | 0/1 [00:00<?, ?batch/s]"
      ]
     },
     "metadata": {},
     "output_type": "display_data"
    },
    {
     "name": "stderr",
     "output_type": "stream",
     "text": [
      "--------------------------------------------------------------------------\n",
      "Train loss: 51.0431\n",
      "Eval loss: 50.3892\n",
      "--------------------------------------------------------------------------\n"
     ]
    },
    {
     "data": {
      "application/vnd.jupyter.widget-view+json": {
       "model_id": "552f7fcdce8041b09b4960e57061cbe9",
       "version_major": 2,
       "version_minor": 0
      },
      "text/plain": [
       "Training of epoch 117/200:   0%|          | 0/1 [00:00<?, ?batch/s]"
      ]
     },
     "metadata": {},
     "output_type": "display_data"
    },
    {
     "data": {
      "application/vnd.jupyter.widget-view+json": {
       "model_id": "f7ac7352763e47cdb9f952792d2888d0",
       "version_major": 2,
       "version_minor": 0
      },
      "text/plain": [
       "Eval of epoch 117/200:   0%|          | 0/1 [00:00<?, ?batch/s]"
      ]
     },
     "metadata": {},
     "output_type": "display_data"
    },
    {
     "name": "stderr",
     "output_type": "stream",
     "text": [
      "--------------------------------------------------------------------------\n",
      "Train loss: 49.9778\n",
      "Eval loss: 51.1356\n",
      "--------------------------------------------------------------------------\n"
     ]
    },
    {
     "data": {
      "application/vnd.jupyter.widget-view+json": {
       "model_id": "8e316473a7ea4b558cd6977661cc931f",
       "version_major": 2,
       "version_minor": 0
      },
      "text/plain": [
       "Training of epoch 118/200:   0%|          | 0/1 [00:00<?, ?batch/s]"
      ]
     },
     "metadata": {},
     "output_type": "display_data"
    },
    {
     "data": {
      "application/vnd.jupyter.widget-view+json": {
       "model_id": "d15ecc49f76b492eb93d11dc1f673b67",
       "version_major": 2,
       "version_minor": 0
      },
      "text/plain": [
       "Eval of epoch 118/200:   0%|          | 0/1 [00:00<?, ?batch/s]"
      ]
     },
     "metadata": {},
     "output_type": "display_data"
    },
    {
     "name": "stderr",
     "output_type": "stream",
     "text": [
      "--------------------------------------------------------------------------\n",
      "Train loss: 49.9494\n",
      "Eval loss: 49.1061\n",
      "--------------------------------------------------------------------------\n"
     ]
    },
    {
     "data": {
      "application/vnd.jupyter.widget-view+json": {
       "model_id": "dcef3b79dca6495e9262e4f694779216",
       "version_major": 2,
       "version_minor": 0
      },
      "text/plain": [
       "Training of epoch 119/200:   0%|          | 0/1 [00:00<?, ?batch/s]"
      ]
     },
     "metadata": {},
     "output_type": "display_data"
    },
    {
     "data": {
      "application/vnd.jupyter.widget-view+json": {
       "model_id": "a374544803de4b288a1f7b1318adf786",
       "version_major": 2,
       "version_minor": 0
      },
      "text/plain": [
       "Eval of epoch 119/200:   0%|          | 0/1 [00:00<?, ?batch/s]"
      ]
     },
     "metadata": {},
     "output_type": "display_data"
    },
    {
     "name": "stderr",
     "output_type": "stream",
     "text": [
      "--------------------------------------------------------------------------\n",
      "Train loss: 49.3539\n",
      "Eval loss: 49.9803\n",
      "--------------------------------------------------------------------------\n"
     ]
    },
    {
     "data": {
      "application/vnd.jupyter.widget-view+json": {
       "model_id": "22e650ed711748d5a596db676157ad8a",
       "version_major": 2,
       "version_minor": 0
      },
      "text/plain": [
       "Training of epoch 120/200:   0%|          | 0/1 [00:00<?, ?batch/s]"
      ]
     },
     "metadata": {},
     "output_type": "display_data"
    },
    {
     "data": {
      "application/vnd.jupyter.widget-view+json": {
       "model_id": "490b1219515240cc9fc1e982e996b616",
       "version_major": 2,
       "version_minor": 0
      },
      "text/plain": [
       "Eval of epoch 120/200:   0%|          | 0/1 [00:00<?, ?batch/s]"
      ]
     },
     "metadata": {},
     "output_type": "display_data"
    },
    {
     "name": "stderr",
     "output_type": "stream",
     "text": [
      "--------------------------------------------------------------------------\n",
      "Train loss: 49.6266\n",
      "Eval loss: 49.569\n",
      "--------------------------------------------------------------------------\n"
     ]
    },
    {
     "data": {
      "application/vnd.jupyter.widget-view+json": {
       "model_id": "ba5ee3c5d6ca47c1a1fe27d7b11e5f89",
       "version_major": 2,
       "version_minor": 0
      },
      "text/plain": [
       "Training of epoch 121/200:   0%|          | 0/1 [00:00<?, ?batch/s]"
      ]
     },
     "metadata": {},
     "output_type": "display_data"
    },
    {
     "data": {
      "application/vnd.jupyter.widget-view+json": {
       "model_id": "1f10ab9a18724f85aa7731e5f3aa5252",
       "version_major": 2,
       "version_minor": 0
      },
      "text/plain": [
       "Eval of epoch 121/200:   0%|          | 0/1 [00:00<?, ?batch/s]"
      ]
     },
     "metadata": {},
     "output_type": "display_data"
    },
    {
     "name": "stderr",
     "output_type": "stream",
     "text": [
      "--------------------------------------------------------------------------\n",
      "Train loss: 49.7993\n",
      "Eval loss: 48.869\n",
      "--------------------------------------------------------------------------\n"
     ]
    },
    {
     "data": {
      "application/vnd.jupyter.widget-view+json": {
       "model_id": "9408208ba361416abe9f64b443dd3b21",
       "version_major": 2,
       "version_minor": 0
      },
      "text/plain": [
       "Training of epoch 122/200:   0%|          | 0/1 [00:00<?, ?batch/s]"
      ]
     },
     "metadata": {},
     "output_type": "display_data"
    },
    {
     "data": {
      "application/vnd.jupyter.widget-view+json": {
       "model_id": "0b8a540e6b0c46f9ab5029d4ec076814",
       "version_major": 2,
       "version_minor": 0
      },
      "text/plain": [
       "Eval of epoch 122/200:   0%|          | 0/1 [00:00<?, ?batch/s]"
      ]
     },
     "metadata": {},
     "output_type": "display_data"
    },
    {
     "name": "stderr",
     "output_type": "stream",
     "text": [
      "--------------------------------------------------------------------------\n",
      "Train loss: 48.5398\n",
      "Eval loss: 49.1759\n",
      "--------------------------------------------------------------------------\n"
     ]
    },
    {
     "data": {
      "application/vnd.jupyter.widget-view+json": {
       "model_id": "ed3be38e1a954159a0255516d08a54f0",
       "version_major": 2,
       "version_minor": 0
      },
      "text/plain": [
       "Training of epoch 123/200:   0%|          | 0/1 [00:00<?, ?batch/s]"
      ]
     },
     "metadata": {},
     "output_type": "display_data"
    },
    {
     "data": {
      "application/vnd.jupyter.widget-view+json": {
       "model_id": "54e7ca9699374cb7918f87387d6743a3",
       "version_major": 2,
       "version_minor": 0
      },
      "text/plain": [
       "Eval of epoch 123/200:   0%|          | 0/1 [00:00<?, ?batch/s]"
      ]
     },
     "metadata": {},
     "output_type": "display_data"
    },
    {
     "name": "stderr",
     "output_type": "stream",
     "text": [
      "--------------------------------------------------------------------------\n",
      "Train loss: 49.032\n",
      "Eval loss: 49.405\n",
      "--------------------------------------------------------------------------\n"
     ]
    },
    {
     "data": {
      "application/vnd.jupyter.widget-view+json": {
       "model_id": "e003a6de9e674b258c0e2aaee6be04c6",
       "version_major": 2,
       "version_minor": 0
      },
      "text/plain": [
       "Training of epoch 124/200:   0%|          | 0/1 [00:00<?, ?batch/s]"
      ]
     },
     "metadata": {},
     "output_type": "display_data"
    },
    {
     "data": {
      "application/vnd.jupyter.widget-view+json": {
       "model_id": "686f3c19e5734b6183e1846e8e2a99d6",
       "version_major": 2,
       "version_minor": 0
      },
      "text/plain": [
       "Eval of epoch 124/200:   0%|          | 0/1 [00:00<?, ?batch/s]"
      ]
     },
     "metadata": {},
     "output_type": "display_data"
    },
    {
     "name": "stderr",
     "output_type": "stream",
     "text": [
      "--------------------------------------------------------------------------\n",
      "Train loss: 48.4119\n",
      "Eval loss: 48.1494\n",
      "--------------------------------------------------------------------------\n"
     ]
    },
    {
     "data": {
      "application/vnd.jupyter.widget-view+json": {
       "model_id": "83136711391a4707a21e393fb98fb695",
       "version_major": 2,
       "version_minor": 0
      },
      "text/plain": [
       "Training of epoch 125/200:   0%|          | 0/1 [00:00<?, ?batch/s]"
      ]
     },
     "metadata": {},
     "output_type": "display_data"
    },
    {
     "data": {
      "application/vnd.jupyter.widget-view+json": {
       "model_id": "280914e5f28e4d7d86a8e18a333939b0",
       "version_major": 2,
       "version_minor": 0
      },
      "text/plain": [
       "Eval of epoch 125/200:   0%|          | 0/1 [00:00<?, ?batch/s]"
      ]
     },
     "metadata": {},
     "output_type": "display_data"
    },
    {
     "name": "stderr",
     "output_type": "stream",
     "text": [
      "--------------------------------------------------------------------------\n",
      "Train loss: 47.352\n",
      "Eval loss: 48.352\n",
      "--------------------------------------------------------------------------\n"
     ]
    },
    {
     "data": {
      "application/vnd.jupyter.widget-view+json": {
       "model_id": "047d309db23d4d359eee941c24824e32",
       "version_major": 2,
       "version_minor": 0
      },
      "text/plain": [
       "Training of epoch 126/200:   0%|          | 0/1 [00:00<?, ?batch/s]"
      ]
     },
     "metadata": {},
     "output_type": "display_data"
    },
    {
     "data": {
      "application/vnd.jupyter.widget-view+json": {
       "model_id": "e8eaaf1d959e4582bf17c1a1e29f7112",
       "version_major": 2,
       "version_minor": 0
      },
      "text/plain": [
       "Eval of epoch 126/200:   0%|          | 0/1 [00:00<?, ?batch/s]"
      ]
     },
     "metadata": {},
     "output_type": "display_data"
    },
    {
     "name": "stderr",
     "output_type": "stream",
     "text": [
      "--------------------------------------------------------------------------\n",
      "Train loss: 48.0026\n",
      "Eval loss: 47.9207\n",
      "--------------------------------------------------------------------------\n"
     ]
    },
    {
     "data": {
      "application/vnd.jupyter.widget-view+json": {
       "model_id": "79c58f5978824dcfa5d4036b85ba18b9",
       "version_major": 2,
       "version_minor": 0
      },
      "text/plain": [
       "Training of epoch 127/200:   0%|          | 0/1 [00:00<?, ?batch/s]"
      ]
     },
     "metadata": {},
     "output_type": "display_data"
    },
    {
     "data": {
      "application/vnd.jupyter.widget-view+json": {
       "model_id": "59f63109136243aebcb5ac242ab292c1",
       "version_major": 2,
       "version_minor": 0
      },
      "text/plain": [
       "Eval of epoch 127/200:   0%|          | 0/1 [00:00<?, ?batch/s]"
      ]
     },
     "metadata": {},
     "output_type": "display_data"
    },
    {
     "name": "stderr",
     "output_type": "stream",
     "text": [
      "--------------------------------------------------------------------------\n",
      "Train loss: 47.6373\n",
      "Eval loss: 49.3601\n",
      "--------------------------------------------------------------------------\n"
     ]
    },
    {
     "data": {
      "application/vnd.jupyter.widget-view+json": {
       "model_id": "c6a52e9f887e410da18c7dcf9b403fa6",
       "version_major": 2,
       "version_minor": 0
      },
      "text/plain": [
       "Training of epoch 128/200:   0%|          | 0/1 [00:00<?, ?batch/s]"
      ]
     },
     "metadata": {},
     "output_type": "display_data"
    },
    {
     "data": {
      "application/vnd.jupyter.widget-view+json": {
       "model_id": "c5df88e8c3394805955a58f5248915c8",
       "version_major": 2,
       "version_minor": 0
      },
      "text/plain": [
       "Eval of epoch 128/200:   0%|          | 0/1 [00:00<?, ?batch/s]"
      ]
     },
     "metadata": {},
     "output_type": "display_data"
    },
    {
     "name": "stderr",
     "output_type": "stream",
     "text": [
      "--------------------------------------------------------------------------\n",
      "Train loss: 47.1863\n",
      "Eval loss: 46.8487\n",
      "--------------------------------------------------------------------------\n"
     ]
    },
    {
     "data": {
      "application/vnd.jupyter.widget-view+json": {
       "model_id": "b333b8acae3b4fdd8a86fef3b45df183",
       "version_major": 2,
       "version_minor": 0
      },
      "text/plain": [
       "Training of epoch 129/200:   0%|          | 0/1 [00:00<?, ?batch/s]"
      ]
     },
     "metadata": {},
     "output_type": "display_data"
    },
    {
     "data": {
      "application/vnd.jupyter.widget-view+json": {
       "model_id": "1098b4b687ad4473b20315312f806f7b",
       "version_major": 2,
       "version_minor": 0
      },
      "text/plain": [
       "Eval of epoch 129/200:   0%|          | 0/1 [00:00<?, ?batch/s]"
      ]
     },
     "metadata": {},
     "output_type": "display_data"
    },
    {
     "name": "stderr",
     "output_type": "stream",
     "text": [
      "--------------------------------------------------------------------------\n",
      "Train loss: 47.0637\n",
      "Eval loss: 46.6698\n",
      "--------------------------------------------------------------------------\n"
     ]
    },
    {
     "data": {
      "application/vnd.jupyter.widget-view+json": {
       "model_id": "585a7e0f5fa04fbbaaccadde1b3ec3ed",
       "version_major": 2,
       "version_minor": 0
      },
      "text/plain": [
       "Training of epoch 130/200:   0%|          | 0/1 [00:00<?, ?batch/s]"
      ]
     },
     "metadata": {},
     "output_type": "display_data"
    },
    {
     "data": {
      "application/vnd.jupyter.widget-view+json": {
       "model_id": "26b063c335284ee7ba0162f95ed4cb33",
       "version_major": 2,
       "version_minor": 0
      },
      "text/plain": [
       "Eval of epoch 130/200:   0%|          | 0/1 [00:00<?, ?batch/s]"
      ]
     },
     "metadata": {},
     "output_type": "display_data"
    },
    {
     "name": "stderr",
     "output_type": "stream",
     "text": [
      "--------------------------------------------------------------------------\n",
      "Train loss: 47.3499\n",
      "Eval loss: 48.2843\n",
      "--------------------------------------------------------------------------\n"
     ]
    },
    {
     "data": {
      "application/vnd.jupyter.widget-view+json": {
       "model_id": "3d4c21aa5c2244b38e8d663ae58f49e5",
       "version_major": 2,
       "version_minor": 0
      },
      "text/plain": [
       "Training of epoch 131/200:   0%|          | 0/1 [00:00<?, ?batch/s]"
      ]
     },
     "metadata": {},
     "output_type": "display_data"
    },
    {
     "data": {
      "application/vnd.jupyter.widget-view+json": {
       "model_id": "701bef4701f94ad5909ce37f9c043d93",
       "version_major": 2,
       "version_minor": 0
      },
      "text/plain": [
       "Eval of epoch 131/200:   0%|          | 0/1 [00:00<?, ?batch/s]"
      ]
     },
     "metadata": {},
     "output_type": "display_data"
    },
    {
     "name": "stderr",
     "output_type": "stream",
     "text": [
      "--------------------------------------------------------------------------\n",
      "Train loss: 46.3611\n",
      "Eval loss: 46.5597\n",
      "--------------------------------------------------------------------------\n"
     ]
    },
    {
     "data": {
      "application/vnd.jupyter.widget-view+json": {
       "model_id": "629a5d763c5e4c89a14c9de357cc90a5",
       "version_major": 2,
       "version_minor": 0
      },
      "text/plain": [
       "Training of epoch 132/200:   0%|          | 0/1 [00:00<?, ?batch/s]"
      ]
     },
     "metadata": {},
     "output_type": "display_data"
    },
    {
     "data": {
      "application/vnd.jupyter.widget-view+json": {
       "model_id": "114f67998c8f43e6bfb201208e7d252b",
       "version_major": 2,
       "version_minor": 0
      },
      "text/plain": [
       "Eval of epoch 132/200:   0%|          | 0/1 [00:00<?, ?batch/s]"
      ]
     },
     "metadata": {},
     "output_type": "display_data"
    },
    {
     "name": "stderr",
     "output_type": "stream",
     "text": [
      "--------------------------------------------------------------------------\n",
      "Train loss: 46.7988\n",
      "Eval loss: 46.4205\n",
      "--------------------------------------------------------------------------\n"
     ]
    },
    {
     "data": {
      "application/vnd.jupyter.widget-view+json": {
       "model_id": "b5e8d0f6b2364374b31d292f298681f6",
       "version_major": 2,
       "version_minor": 0
      },
      "text/plain": [
       "Training of epoch 133/200:   0%|          | 0/1 [00:00<?, ?batch/s]"
      ]
     },
     "metadata": {},
     "output_type": "display_data"
    },
    {
     "data": {
      "application/vnd.jupyter.widget-view+json": {
       "model_id": "dbdf3315079a4ab38fc2bd4331d5ffea",
       "version_major": 2,
       "version_minor": 0
      },
      "text/plain": [
       "Eval of epoch 133/200:   0%|          | 0/1 [00:00<?, ?batch/s]"
      ]
     },
     "metadata": {},
     "output_type": "display_data"
    },
    {
     "name": "stderr",
     "output_type": "stream",
     "text": [
      "--------------------------------------------------------------------------\n",
      "Train loss: 46.1008\n",
      "Eval loss: 46.7094\n",
      "--------------------------------------------------------------------------\n"
     ]
    },
    {
     "data": {
      "application/vnd.jupyter.widget-view+json": {
       "model_id": "e23d7409599c41d79742e8e5150118a9",
       "version_major": 2,
       "version_minor": 0
      },
      "text/plain": [
       "Training of epoch 134/200:   0%|          | 0/1 [00:00<?, ?batch/s]"
      ]
     },
     "metadata": {},
     "output_type": "display_data"
    },
    {
     "data": {
      "application/vnd.jupyter.widget-view+json": {
       "model_id": "f177927444a64fd5b5f2e5f5f4ca7145",
       "version_major": 2,
       "version_minor": 0
      },
      "text/plain": [
       "Eval of epoch 134/200:   0%|          | 0/1 [00:00<?, ?batch/s]"
      ]
     },
     "metadata": {},
     "output_type": "display_data"
    },
    {
     "name": "stderr",
     "output_type": "stream",
     "text": [
      "--------------------------------------------------------------------------\n",
      "Train loss: 45.2315\n",
      "Eval loss: 46.0049\n",
      "--------------------------------------------------------------------------\n"
     ]
    },
    {
     "data": {
      "application/vnd.jupyter.widget-view+json": {
       "model_id": "3ba99cc1f31b450f8376cd406fe4d3da",
       "version_major": 2,
       "version_minor": 0
      },
      "text/plain": [
       "Training of epoch 135/200:   0%|          | 0/1 [00:00<?, ?batch/s]"
      ]
     },
     "metadata": {},
     "output_type": "display_data"
    },
    {
     "data": {
      "application/vnd.jupyter.widget-view+json": {
       "model_id": "23ffff00d04c4f8b81d5ab98d4c17cbf",
       "version_major": 2,
       "version_minor": 0
      },
      "text/plain": [
       "Eval of epoch 135/200:   0%|          | 0/1 [00:00<?, ?batch/s]"
      ]
     },
     "metadata": {},
     "output_type": "display_data"
    },
    {
     "name": "stderr",
     "output_type": "stream",
     "text": [
      "--------------------------------------------------------------------------\n",
      "Train loss: 45.6365\n",
      "Eval loss: 45.7653\n",
      "--------------------------------------------------------------------------\n"
     ]
    },
    {
     "data": {
      "application/vnd.jupyter.widget-view+json": {
       "model_id": "43a28786e06245158a7f2de444a4c0b0",
       "version_major": 2,
       "version_minor": 0
      },
      "text/plain": [
       "Training of epoch 136/200:   0%|          | 0/1 [00:00<?, ?batch/s]"
      ]
     },
     "metadata": {},
     "output_type": "display_data"
    },
    {
     "data": {
      "application/vnd.jupyter.widget-view+json": {
       "model_id": "12134677613341629409b01852503e46",
       "version_major": 2,
       "version_minor": 0
      },
      "text/plain": [
       "Eval of epoch 136/200:   0%|          | 0/1 [00:00<?, ?batch/s]"
      ]
     },
     "metadata": {},
     "output_type": "display_data"
    },
    {
     "name": "stderr",
     "output_type": "stream",
     "text": [
      "--------------------------------------------------------------------------\n",
      "Train loss: 45.1967\n",
      "Eval loss: 44.8074\n",
      "--------------------------------------------------------------------------\n"
     ]
    },
    {
     "data": {
      "application/vnd.jupyter.widget-view+json": {
       "model_id": "b0865ab68e004b5c94e9678866bf5c20",
       "version_major": 2,
       "version_minor": 0
      },
      "text/plain": [
       "Training of epoch 137/200:   0%|          | 0/1 [00:00<?, ?batch/s]"
      ]
     },
     "metadata": {},
     "output_type": "display_data"
    },
    {
     "data": {
      "application/vnd.jupyter.widget-view+json": {
       "model_id": "970a3c531c9240c8b356ce32129f68a4",
       "version_major": 2,
       "version_minor": 0
      },
      "text/plain": [
       "Eval of epoch 137/200:   0%|          | 0/1 [00:00<?, ?batch/s]"
      ]
     },
     "metadata": {},
     "output_type": "display_data"
    },
    {
     "name": "stderr",
     "output_type": "stream",
     "text": [
      "--------------------------------------------------------------------------\n",
      "Train loss: 44.6169\n",
      "Eval loss: 45.5936\n",
      "--------------------------------------------------------------------------\n"
     ]
    },
    {
     "data": {
      "application/vnd.jupyter.widget-view+json": {
       "model_id": "15d1aa33bb524e09bc3953cc17043f90",
       "version_major": 2,
       "version_minor": 0
      },
      "text/plain": [
       "Training of epoch 138/200:   0%|          | 0/1 [00:00<?, ?batch/s]"
      ]
     },
     "metadata": {},
     "output_type": "display_data"
    },
    {
     "data": {
      "application/vnd.jupyter.widget-view+json": {
       "model_id": "b5eb9bb2d9924679b7614703b35e0e31",
       "version_major": 2,
       "version_minor": 0
      },
      "text/plain": [
       "Eval of epoch 138/200:   0%|          | 0/1 [00:00<?, ?batch/s]"
      ]
     },
     "metadata": {},
     "output_type": "display_data"
    },
    {
     "name": "stderr",
     "output_type": "stream",
     "text": [
      "--------------------------------------------------------------------------\n",
      "Train loss: 44.7913\n",
      "Eval loss: 46.3127\n",
      "--------------------------------------------------------------------------\n"
     ]
    },
    {
     "data": {
      "application/vnd.jupyter.widget-view+json": {
       "model_id": "6c108aaa132742cb8f1a2c33e9afd09f",
       "version_major": 2,
       "version_minor": 0
      },
      "text/plain": [
       "Training of epoch 139/200:   0%|          | 0/1 [00:00<?, ?batch/s]"
      ]
     },
     "metadata": {},
     "output_type": "display_data"
    },
    {
     "data": {
      "application/vnd.jupyter.widget-view+json": {
       "model_id": "27ac8e522bb74524bdd1c0047b355829",
       "version_major": 2,
       "version_minor": 0
      },
      "text/plain": [
       "Eval of epoch 139/200:   0%|          | 0/1 [00:00<?, ?batch/s]"
      ]
     },
     "metadata": {},
     "output_type": "display_data"
    },
    {
     "name": "stderr",
     "output_type": "stream",
     "text": [
      "--------------------------------------------------------------------------\n",
      "Train loss: 44.5982\n",
      "Eval loss: 46.6874\n",
      "--------------------------------------------------------------------------\n"
     ]
    },
    {
     "data": {
      "application/vnd.jupyter.widget-view+json": {
       "model_id": "f283c4faef704a01be278d76be182a7a",
       "version_major": 2,
       "version_minor": 0
      },
      "text/plain": [
       "Training of epoch 140/200:   0%|          | 0/1 [00:00<?, ?batch/s]"
      ]
     },
     "metadata": {},
     "output_type": "display_data"
    },
    {
     "data": {
      "application/vnd.jupyter.widget-view+json": {
       "model_id": "8b3af921584a4de39e0ca4c23f16d737",
       "version_major": 2,
       "version_minor": 0
      },
      "text/plain": [
       "Eval of epoch 140/200:   0%|          | 0/1 [00:00<?, ?batch/s]"
      ]
     },
     "metadata": {},
     "output_type": "display_data"
    },
    {
     "name": "stderr",
     "output_type": "stream",
     "text": [
      "--------------------------------------------------------------------------\n",
      "Train loss: 44.6764\n",
      "Eval loss: 44.0894\n",
      "--------------------------------------------------------------------------\n"
     ]
    },
    {
     "data": {
      "application/vnd.jupyter.widget-view+json": {
       "model_id": "f9b9843d4c94471d8c2837ac5a29ddbb",
       "version_major": 2,
       "version_minor": 0
      },
      "text/plain": [
       "Training of epoch 141/200:   0%|          | 0/1 [00:00<?, ?batch/s]"
      ]
     },
     "metadata": {},
     "output_type": "display_data"
    },
    {
     "data": {
      "application/vnd.jupyter.widget-view+json": {
       "model_id": "ebbc24f7372e42d2af571aca8ecf411d",
       "version_major": 2,
       "version_minor": 0
      },
      "text/plain": [
       "Eval of epoch 141/200:   0%|          | 0/1 [00:00<?, ?batch/s]"
      ]
     },
     "metadata": {},
     "output_type": "display_data"
    },
    {
     "name": "stderr",
     "output_type": "stream",
     "text": [
      "--------------------------------------------------------------------------\n",
      "Train loss: 44.3123\n",
      "Eval loss: 44.7999\n",
      "--------------------------------------------------------------------------\n"
     ]
    },
    {
     "data": {
      "application/vnd.jupyter.widget-view+json": {
       "model_id": "3dfa791e3b0640168a3b57ccfeec44f3",
       "version_major": 2,
       "version_minor": 0
      },
      "text/plain": [
       "Training of epoch 142/200:   0%|          | 0/1 [00:00<?, ?batch/s]"
      ]
     },
     "metadata": {},
     "output_type": "display_data"
    },
    {
     "data": {
      "application/vnd.jupyter.widget-view+json": {
       "model_id": "efc45c2c471646fc90182506f95c8926",
       "version_major": 2,
       "version_minor": 0
      },
      "text/plain": [
       "Eval of epoch 142/200:   0%|          | 0/1 [00:00<?, ?batch/s]"
      ]
     },
     "metadata": {},
     "output_type": "display_data"
    },
    {
     "name": "stderr",
     "output_type": "stream",
     "text": [
      "--------------------------------------------------------------------------\n",
      "Train loss: 43.7734\n",
      "Eval loss: 44.9991\n",
      "--------------------------------------------------------------------------\n"
     ]
    },
    {
     "data": {
      "application/vnd.jupyter.widget-view+json": {
       "model_id": "c453ac06c74a4009ba6d8f566ca5f511",
       "version_major": 2,
       "version_minor": 0
      },
      "text/plain": [
       "Training of epoch 143/200:   0%|          | 0/1 [00:00<?, ?batch/s]"
      ]
     },
     "metadata": {},
     "output_type": "display_data"
    },
    {
     "data": {
      "application/vnd.jupyter.widget-view+json": {
       "model_id": "907b1364b7834da0ac1e304baaf395c9",
       "version_major": 2,
       "version_minor": 0
      },
      "text/plain": [
       "Eval of epoch 143/200:   0%|          | 0/1 [00:00<?, ?batch/s]"
      ]
     },
     "metadata": {},
     "output_type": "display_data"
    },
    {
     "name": "stderr",
     "output_type": "stream",
     "text": [
      "--------------------------------------------------------------------------\n",
      "Train loss: 43.7663\n",
      "Eval loss: 44.5781\n",
      "--------------------------------------------------------------------------\n"
     ]
    },
    {
     "data": {
      "application/vnd.jupyter.widget-view+json": {
       "model_id": "cfc6bf2afdb542e782beebb6ade56ed2",
       "version_major": 2,
       "version_minor": 0
      },
      "text/plain": [
       "Training of epoch 144/200:   0%|          | 0/1 [00:00<?, ?batch/s]"
      ]
     },
     "metadata": {},
     "output_type": "display_data"
    },
    {
     "data": {
      "application/vnd.jupyter.widget-view+json": {
       "model_id": "325f10bb8be047a68bdd0001fbd8dcc6",
       "version_major": 2,
       "version_minor": 0
      },
      "text/plain": [
       "Eval of epoch 144/200:   0%|          | 0/1 [00:00<?, ?batch/s]"
      ]
     },
     "metadata": {},
     "output_type": "display_data"
    },
    {
     "name": "stderr",
     "output_type": "stream",
     "text": [
      "--------------------------------------------------------------------------\n",
      "Train loss: 44.8666\n",
      "Eval loss: 43.4406\n",
      "--------------------------------------------------------------------------\n"
     ]
    },
    {
     "data": {
      "application/vnd.jupyter.widget-view+json": {
       "model_id": "449062c346b649e7a0acf913f2a51c96",
       "version_major": 2,
       "version_minor": 0
      },
      "text/plain": [
       "Training of epoch 145/200:   0%|          | 0/1 [00:00<?, ?batch/s]"
      ]
     },
     "metadata": {},
     "output_type": "display_data"
    },
    {
     "data": {
      "application/vnd.jupyter.widget-view+json": {
       "model_id": "1c7b9b50b75b4495b84fc791eb25166b",
       "version_major": 2,
       "version_minor": 0
      },
      "text/plain": [
       "Eval of epoch 145/200:   0%|          | 0/1 [00:00<?, ?batch/s]"
      ]
     },
     "metadata": {},
     "output_type": "display_data"
    },
    {
     "name": "stderr",
     "output_type": "stream",
     "text": [
      "--------------------------------------------------------------------------\n",
      "Train loss: 43.6993\n",
      "Eval loss: 44.8242\n",
      "--------------------------------------------------------------------------\n"
     ]
    },
    {
     "data": {
      "application/vnd.jupyter.widget-view+json": {
       "model_id": "7e458b40fbf84fb782674cdf2f4fe208",
       "version_major": 2,
       "version_minor": 0
      },
      "text/plain": [
       "Training of epoch 146/200:   0%|          | 0/1 [00:00<?, ?batch/s]"
      ]
     },
     "metadata": {},
     "output_type": "display_data"
    },
    {
     "data": {
      "application/vnd.jupyter.widget-view+json": {
       "model_id": "eb1cd48e2ecd4c2f8de6e6461b1f207a",
       "version_major": 2,
       "version_minor": 0
      },
      "text/plain": [
       "Eval of epoch 146/200:   0%|          | 0/1 [00:00<?, ?batch/s]"
      ]
     },
     "metadata": {},
     "output_type": "display_data"
    },
    {
     "name": "stderr",
     "output_type": "stream",
     "text": [
      "--------------------------------------------------------------------------\n",
      "Train loss: 43.0987\n",
      "Eval loss: 44.2763\n",
      "--------------------------------------------------------------------------\n"
     ]
    },
    {
     "data": {
      "application/vnd.jupyter.widget-view+json": {
       "model_id": "ec5e0237367148268a3644468d0bcad5",
       "version_major": 2,
       "version_minor": 0
      },
      "text/plain": [
       "Training of epoch 147/200:   0%|          | 0/1 [00:00<?, ?batch/s]"
      ]
     },
     "metadata": {},
     "output_type": "display_data"
    },
    {
     "data": {
      "application/vnd.jupyter.widget-view+json": {
       "model_id": "c06522952ac94086bccc54f668375aca",
       "version_major": 2,
       "version_minor": 0
      },
      "text/plain": [
       "Eval of epoch 147/200:   0%|          | 0/1 [00:00<?, ?batch/s]"
      ]
     },
     "metadata": {},
     "output_type": "display_data"
    },
    {
     "name": "stderr",
     "output_type": "stream",
     "text": [
      "--------------------------------------------------------------------------\n",
      "Train loss: 43.0561\n",
      "Eval loss: 43.6082\n",
      "--------------------------------------------------------------------------\n"
     ]
    },
    {
     "data": {
      "application/vnd.jupyter.widget-view+json": {
       "model_id": "5f989a463ecc4003b4b6b927e27a68f3",
       "version_major": 2,
       "version_minor": 0
      },
      "text/plain": [
       "Training of epoch 148/200:   0%|          | 0/1 [00:00<?, ?batch/s]"
      ]
     },
     "metadata": {},
     "output_type": "display_data"
    },
    {
     "data": {
      "application/vnd.jupyter.widget-view+json": {
       "model_id": "6a1997d65dc144868dce7fd5599b1ed0",
       "version_major": 2,
       "version_minor": 0
      },
      "text/plain": [
       "Eval of epoch 148/200:   0%|          | 0/1 [00:00<?, ?batch/s]"
      ]
     },
     "metadata": {},
     "output_type": "display_data"
    },
    {
     "name": "stderr",
     "output_type": "stream",
     "text": [
      "--------------------------------------------------------------------------\n",
      "Train loss: 42.8544\n",
      "Eval loss: 43.3277\n",
      "--------------------------------------------------------------------------\n"
     ]
    },
    {
     "data": {
      "application/vnd.jupyter.widget-view+json": {
       "model_id": "fcf048698c5146c0895fcebef841dd58",
       "version_major": 2,
       "version_minor": 0
      },
      "text/plain": [
       "Training of epoch 149/200:   0%|          | 0/1 [00:00<?, ?batch/s]"
      ]
     },
     "metadata": {},
     "output_type": "display_data"
    },
    {
     "data": {
      "application/vnd.jupyter.widget-view+json": {
       "model_id": "5b600cce071e463c9c70c2222eff9594",
       "version_major": 2,
       "version_minor": 0
      },
      "text/plain": [
       "Eval of epoch 149/200:   0%|          | 0/1 [00:00<?, ?batch/s]"
      ]
     },
     "metadata": {},
     "output_type": "display_data"
    },
    {
     "name": "stderr",
     "output_type": "stream",
     "text": [
      "--------------------------------------------------------------------------\n",
      "Train loss: 42.6398\n",
      "Eval loss: 42.5438\n",
      "--------------------------------------------------------------------------\n"
     ]
    },
    {
     "data": {
      "application/vnd.jupyter.widget-view+json": {
       "model_id": "1948d8a5fdf34d98a4f1c410e8dd58ba",
       "version_major": 2,
       "version_minor": 0
      },
      "text/plain": [
       "Training of epoch 150/200:   0%|          | 0/1 [00:00<?, ?batch/s]"
      ]
     },
     "metadata": {},
     "output_type": "display_data"
    },
    {
     "data": {
      "application/vnd.jupyter.widget-view+json": {
       "model_id": "b520813f5d854db397ba718c058cab39",
       "version_major": 2,
       "version_minor": 0
      },
      "text/plain": [
       "Eval of epoch 150/200:   0%|          | 0/1 [00:00<?, ?batch/s]"
      ]
     },
     "metadata": {},
     "output_type": "display_data"
    },
    {
     "name": "stderr",
     "output_type": "stream",
     "text": [
      "--------------------------------------------------------------------------\n",
      "Train loss: 42.4124\n",
      "Eval loss: 42.6727\n",
      "--------------------------------------------------------------------------\n"
     ]
    },
    {
     "data": {
      "application/vnd.jupyter.widget-view+json": {
       "model_id": "9b5e2223353b4ba0931c14841d9f1a6c",
       "version_major": 2,
       "version_minor": 0
      },
      "text/plain": [
       "Training of epoch 151/200:   0%|          | 0/1 [00:00<?, ?batch/s]"
      ]
     },
     "metadata": {},
     "output_type": "display_data"
    },
    {
     "data": {
      "application/vnd.jupyter.widget-view+json": {
       "model_id": "6001bd12c62445d69cdcf8f911d4398e",
       "version_major": 2,
       "version_minor": 0
      },
      "text/plain": [
       "Eval of epoch 151/200:   0%|          | 0/1 [00:00<?, ?batch/s]"
      ]
     },
     "metadata": {},
     "output_type": "display_data"
    },
    {
     "name": "stderr",
     "output_type": "stream",
     "text": [
      "--------------------------------------------------------------------------\n",
      "Train loss: 42.1085\n",
      "Eval loss: 43.0586\n",
      "--------------------------------------------------------------------------\n"
     ]
    },
    {
     "data": {
      "application/vnd.jupyter.widget-view+json": {
       "model_id": "d93e0b8f45284ffa809879b1450f9e9a",
       "version_major": 2,
       "version_minor": 0
      },
      "text/plain": [
       "Training of epoch 152/200:   0%|          | 0/1 [00:00<?, ?batch/s]"
      ]
     },
     "metadata": {},
     "output_type": "display_data"
    },
    {
     "data": {
      "application/vnd.jupyter.widget-view+json": {
       "model_id": "f96add1565ac48978c2d7c5c2fd5ac91",
       "version_major": 2,
       "version_minor": 0
      },
      "text/plain": [
       "Eval of epoch 152/200:   0%|          | 0/1 [00:00<?, ?batch/s]"
      ]
     },
     "metadata": {},
     "output_type": "display_data"
    },
    {
     "name": "stderr",
     "output_type": "stream",
     "text": [
      "--------------------------------------------------------------------------\n",
      "Train loss: 42.3817\n",
      "Eval loss: 42.4131\n",
      "--------------------------------------------------------------------------\n"
     ]
    },
    {
     "data": {
      "application/vnd.jupyter.widget-view+json": {
       "model_id": "cdbf89b089bd440d98bfa27af61a11cf",
       "version_major": 2,
       "version_minor": 0
      },
      "text/plain": [
       "Training of epoch 153/200:   0%|          | 0/1 [00:00<?, ?batch/s]"
      ]
     },
     "metadata": {},
     "output_type": "display_data"
    },
    {
     "data": {
      "application/vnd.jupyter.widget-view+json": {
       "model_id": "d07917d1145d47c1bec038c9ca425710",
       "version_major": 2,
       "version_minor": 0
      },
      "text/plain": [
       "Eval of epoch 153/200:   0%|          | 0/1 [00:00<?, ?batch/s]"
      ]
     },
     "metadata": {},
     "output_type": "display_data"
    },
    {
     "name": "stderr",
     "output_type": "stream",
     "text": [
      "--------------------------------------------------------------------------\n",
      "Train loss: 41.4784\n",
      "Eval loss: 42.4161\n",
      "--------------------------------------------------------------------------\n"
     ]
    },
    {
     "data": {
      "application/vnd.jupyter.widget-view+json": {
       "model_id": "9a62d4f226834ef0be507da95a4a908a",
       "version_major": 2,
       "version_minor": 0
      },
      "text/plain": [
       "Training of epoch 154/200:   0%|          | 0/1 [00:00<?, ?batch/s]"
      ]
     },
     "metadata": {},
     "output_type": "display_data"
    },
    {
     "data": {
      "application/vnd.jupyter.widget-view+json": {
       "model_id": "a0ed3f9c76794dfd97a67d53fc78bcac",
       "version_major": 2,
       "version_minor": 0
      },
      "text/plain": [
       "Eval of epoch 154/200:   0%|          | 0/1 [00:00<?, ?batch/s]"
      ]
     },
     "metadata": {},
     "output_type": "display_data"
    },
    {
     "name": "stderr",
     "output_type": "stream",
     "text": [
      "--------------------------------------------------------------------------\n",
      "Train loss: 41.9368\n",
      "Eval loss: 42.8385\n",
      "--------------------------------------------------------------------------\n"
     ]
    },
    {
     "data": {
      "application/vnd.jupyter.widget-view+json": {
       "model_id": "b84892d6ac2e4ff087746b477415e565",
       "version_major": 2,
       "version_minor": 0
      },
      "text/plain": [
       "Training of epoch 155/200:   0%|          | 0/1 [00:00<?, ?batch/s]"
      ]
     },
     "metadata": {},
     "output_type": "display_data"
    },
    {
     "data": {
      "application/vnd.jupyter.widget-view+json": {
       "model_id": "688a4c89c5d644c9ab570166916fc418",
       "version_major": 2,
       "version_minor": 0
      },
      "text/plain": [
       "Eval of epoch 155/200:   0%|          | 0/1 [00:00<?, ?batch/s]"
      ]
     },
     "metadata": {},
     "output_type": "display_data"
    },
    {
     "name": "stderr",
     "output_type": "stream",
     "text": [
      "--------------------------------------------------------------------------\n",
      "Train loss: 41.7191\n",
      "Eval loss: 41.8006\n",
      "--------------------------------------------------------------------------\n"
     ]
    },
    {
     "data": {
      "application/vnd.jupyter.widget-view+json": {
       "model_id": "4aba51869b3e4f13a5a387d9563bc4e4",
       "version_major": 2,
       "version_minor": 0
      },
      "text/plain": [
       "Training of epoch 156/200:   0%|          | 0/1 [00:00<?, ?batch/s]"
      ]
     },
     "metadata": {},
     "output_type": "display_data"
    },
    {
     "data": {
      "application/vnd.jupyter.widget-view+json": {
       "model_id": "7303b4e0fb9542cb839d2635ba68911a",
       "version_major": 2,
       "version_minor": 0
      },
      "text/plain": [
       "Eval of epoch 156/200:   0%|          | 0/1 [00:00<?, ?batch/s]"
      ]
     },
     "metadata": {},
     "output_type": "display_data"
    },
    {
     "name": "stderr",
     "output_type": "stream",
     "text": [
      "--------------------------------------------------------------------------\n",
      "Train loss: 41.3012\n",
      "Eval loss: 41.7195\n",
      "--------------------------------------------------------------------------\n"
     ]
    },
    {
     "data": {
      "application/vnd.jupyter.widget-view+json": {
       "model_id": "caddb8152b8b4f62bd02457f555da786",
       "version_major": 2,
       "version_minor": 0
      },
      "text/plain": [
       "Training of epoch 157/200:   0%|          | 0/1 [00:00<?, ?batch/s]"
      ]
     },
     "metadata": {},
     "output_type": "display_data"
    },
    {
     "data": {
      "application/vnd.jupyter.widget-view+json": {
       "model_id": "a80ed4e969f7432a9d710c5d1a391122",
       "version_major": 2,
       "version_minor": 0
      },
      "text/plain": [
       "Eval of epoch 157/200:   0%|          | 0/1 [00:00<?, ?batch/s]"
      ]
     },
     "metadata": {},
     "output_type": "display_data"
    },
    {
     "name": "stderr",
     "output_type": "stream",
     "text": [
      "--------------------------------------------------------------------------\n",
      "Train loss: 41.2838\n",
      "Eval loss: 41.0238\n",
      "--------------------------------------------------------------------------\n"
     ]
    },
    {
     "data": {
      "application/vnd.jupyter.widget-view+json": {
       "model_id": "b9cf638b64fe4ebc9323910bdf7c5188",
       "version_major": 2,
       "version_minor": 0
      },
      "text/plain": [
       "Training of epoch 158/200:   0%|          | 0/1 [00:00<?, ?batch/s]"
      ]
     },
     "metadata": {},
     "output_type": "display_data"
    },
    {
     "data": {
      "application/vnd.jupyter.widget-view+json": {
       "model_id": "073d888caded4d40816fb842800b10b8",
       "version_major": 2,
       "version_minor": 0
      },
      "text/plain": [
       "Eval of epoch 158/200:   0%|          | 0/1 [00:00<?, ?batch/s]"
      ]
     },
     "metadata": {},
     "output_type": "display_data"
    },
    {
     "name": "stderr",
     "output_type": "stream",
     "text": [
      "--------------------------------------------------------------------------\n",
      "Train loss: 40.5333\n",
      "Eval loss: 41.892\n",
      "--------------------------------------------------------------------------\n"
     ]
    },
    {
     "data": {
      "application/vnd.jupyter.widget-view+json": {
       "model_id": "5ceffb9ad63c48559ace6f4cbdd03ee9",
       "version_major": 2,
       "version_minor": 0
      },
      "text/plain": [
       "Training of epoch 159/200:   0%|          | 0/1 [00:00<?, ?batch/s]"
      ]
     },
     "metadata": {},
     "output_type": "display_data"
    },
    {
     "data": {
      "application/vnd.jupyter.widget-view+json": {
       "model_id": "e94b94c059dd4c009b763b3c1b09366c",
       "version_major": 2,
       "version_minor": 0
      },
      "text/plain": [
       "Eval of epoch 159/200:   0%|          | 0/1 [00:00<?, ?batch/s]"
      ]
     },
     "metadata": {},
     "output_type": "display_data"
    },
    {
     "name": "stderr",
     "output_type": "stream",
     "text": [
      "--------------------------------------------------------------------------\n",
      "Train loss: 40.5168\n",
      "Eval loss: 41.6461\n",
      "--------------------------------------------------------------------------\n"
     ]
    },
    {
     "data": {
      "application/vnd.jupyter.widget-view+json": {
       "model_id": "032f3b4ba85645f1ba0ddcaaacd00a71",
       "version_major": 2,
       "version_minor": 0
      },
      "text/plain": [
       "Training of epoch 160/200:   0%|          | 0/1 [00:00<?, ?batch/s]"
      ]
     },
     "metadata": {},
     "output_type": "display_data"
    },
    {
     "data": {
      "application/vnd.jupyter.widget-view+json": {
       "model_id": "f5021fe57eb74dd899cbf8f1f5a828f5",
       "version_major": 2,
       "version_minor": 0
      },
      "text/plain": [
       "Eval of epoch 160/200:   0%|          | 0/1 [00:00<?, ?batch/s]"
      ]
     },
     "metadata": {},
     "output_type": "display_data"
    },
    {
     "name": "stderr",
     "output_type": "stream",
     "text": [
      "--------------------------------------------------------------------------\n",
      "Train loss: 40.0623\n",
      "Eval loss: 41.3862\n",
      "--------------------------------------------------------------------------\n"
     ]
    },
    {
     "data": {
      "application/vnd.jupyter.widget-view+json": {
       "model_id": "81e8250a6f5f4141ba0b33594e061a24",
       "version_major": 2,
       "version_minor": 0
      },
      "text/plain": [
       "Training of epoch 161/200:   0%|          | 0/1 [00:00<?, ?batch/s]"
      ]
     },
     "metadata": {},
     "output_type": "display_data"
    },
    {
     "data": {
      "application/vnd.jupyter.widget-view+json": {
       "model_id": "a22ed360b5ed43c4b93d5f78c65d9a68",
       "version_major": 2,
       "version_minor": 0
      },
      "text/plain": [
       "Eval of epoch 161/200:   0%|          | 0/1 [00:00<?, ?batch/s]"
      ]
     },
     "metadata": {},
     "output_type": "display_data"
    },
    {
     "name": "stderr",
     "output_type": "stream",
     "text": [
      "--------------------------------------------------------------------------\n",
      "Train loss: 40.1443\n",
      "Eval loss: 39.9391\n",
      "--------------------------------------------------------------------------\n"
     ]
    },
    {
     "data": {
      "application/vnd.jupyter.widget-view+json": {
       "model_id": "5350690250c14eac861403b6f791b86d",
       "version_major": 2,
       "version_minor": 0
      },
      "text/plain": [
       "Training of epoch 162/200:   0%|          | 0/1 [00:00<?, ?batch/s]"
      ]
     },
     "metadata": {},
     "output_type": "display_data"
    },
    {
     "data": {
      "application/vnd.jupyter.widget-view+json": {
       "model_id": "9d69e2bb0f084a66930c54e77ce9b011",
       "version_major": 2,
       "version_minor": 0
      },
      "text/plain": [
       "Eval of epoch 162/200:   0%|          | 0/1 [00:00<?, ?batch/s]"
      ]
     },
     "metadata": {},
     "output_type": "display_data"
    },
    {
     "name": "stderr",
     "output_type": "stream",
     "text": [
      "--------------------------------------------------------------------------\n",
      "Train loss: 40.1749\n",
      "Eval loss: 39.8747\n",
      "--------------------------------------------------------------------------\n"
     ]
    },
    {
     "data": {
      "application/vnd.jupyter.widget-view+json": {
       "model_id": "d44e4ee5d86d44c5ba550e67069629ba",
       "version_major": 2,
       "version_minor": 0
      },
      "text/plain": [
       "Training of epoch 163/200:   0%|          | 0/1 [00:00<?, ?batch/s]"
      ]
     },
     "metadata": {},
     "output_type": "display_data"
    },
    {
     "data": {
      "application/vnd.jupyter.widget-view+json": {
       "model_id": "75cd397b0af140808ebfd700012d5548",
       "version_major": 2,
       "version_minor": 0
      },
      "text/plain": [
       "Eval of epoch 163/200:   0%|          | 0/1 [00:00<?, ?batch/s]"
      ]
     },
     "metadata": {},
     "output_type": "display_data"
    },
    {
     "name": "stderr",
     "output_type": "stream",
     "text": [
      "--------------------------------------------------------------------------\n",
      "Train loss: 40.1304\n",
      "Eval loss: 40.5592\n",
      "--------------------------------------------------------------------------\n"
     ]
    },
    {
     "data": {
      "application/vnd.jupyter.widget-view+json": {
       "model_id": "8ff76224b1ff4050bb80779baf844117",
       "version_major": 2,
       "version_minor": 0
      },
      "text/plain": [
       "Training of epoch 164/200:   0%|          | 0/1 [00:00<?, ?batch/s]"
      ]
     },
     "metadata": {},
     "output_type": "display_data"
    },
    {
     "data": {
      "application/vnd.jupyter.widget-view+json": {
       "model_id": "3ef69fa1754a4647ba84ecb331c96eeb",
       "version_major": 2,
       "version_minor": 0
      },
      "text/plain": [
       "Eval of epoch 164/200:   0%|          | 0/1 [00:00<?, ?batch/s]"
      ]
     },
     "metadata": {},
     "output_type": "display_data"
    },
    {
     "name": "stderr",
     "output_type": "stream",
     "text": [
      "--------------------------------------------------------------------------\n",
      "Train loss: 39.6916\n",
      "Eval loss: 40.3265\n",
      "--------------------------------------------------------------------------\n"
     ]
    },
    {
     "data": {
      "application/vnd.jupyter.widget-view+json": {
       "model_id": "208790af7405488f8872d1a03c0addfc",
       "version_major": 2,
       "version_minor": 0
      },
      "text/plain": [
       "Training of epoch 165/200:   0%|          | 0/1 [00:00<?, ?batch/s]"
      ]
     },
     "metadata": {},
     "output_type": "display_data"
    },
    {
     "data": {
      "application/vnd.jupyter.widget-view+json": {
       "model_id": "9aff4e0addcc4eeca9b27baeeb9b9fe8",
       "version_major": 2,
       "version_minor": 0
      },
      "text/plain": [
       "Eval of epoch 165/200:   0%|          | 0/1 [00:00<?, ?batch/s]"
      ]
     },
     "metadata": {},
     "output_type": "display_data"
    },
    {
     "name": "stderr",
     "output_type": "stream",
     "text": [
      "--------------------------------------------------------------------------\n",
      "Train loss: 39.2405\n",
      "Eval loss: 39.4717\n",
      "--------------------------------------------------------------------------\n"
     ]
    },
    {
     "data": {
      "application/vnd.jupyter.widget-view+json": {
       "model_id": "b8a86720caf64f6b98c19a421aadadcc",
       "version_major": 2,
       "version_minor": 0
      },
      "text/plain": [
       "Training of epoch 166/200:   0%|          | 0/1 [00:00<?, ?batch/s]"
      ]
     },
     "metadata": {},
     "output_type": "display_data"
    },
    {
     "data": {
      "application/vnd.jupyter.widget-view+json": {
       "model_id": "c85cf52e111c49a49a9ca03d1bd917f5",
       "version_major": 2,
       "version_minor": 0
      },
      "text/plain": [
       "Eval of epoch 166/200:   0%|          | 0/1 [00:00<?, ?batch/s]"
      ]
     },
     "metadata": {},
     "output_type": "display_data"
    },
    {
     "name": "stderr",
     "output_type": "stream",
     "text": [
      "--------------------------------------------------------------------------\n",
      "Train loss: 39.4439\n",
      "Eval loss: 40.1115\n",
      "--------------------------------------------------------------------------\n"
     ]
    },
    {
     "data": {
      "application/vnd.jupyter.widget-view+json": {
       "model_id": "f1ad4bdce8184249bc724fe45e9e08d2",
       "version_major": 2,
       "version_minor": 0
      },
      "text/plain": [
       "Training of epoch 167/200:   0%|          | 0/1 [00:00<?, ?batch/s]"
      ]
     },
     "metadata": {},
     "output_type": "display_data"
    },
    {
     "data": {
      "application/vnd.jupyter.widget-view+json": {
       "model_id": "3341e24e61d646818eed6a0f42839d69",
       "version_major": 2,
       "version_minor": 0
      },
      "text/plain": [
       "Eval of epoch 167/200:   0%|          | 0/1 [00:00<?, ?batch/s]"
      ]
     },
     "metadata": {},
     "output_type": "display_data"
    },
    {
     "name": "stderr",
     "output_type": "stream",
     "text": [
      "--------------------------------------------------------------------------\n",
      "Train loss: 39.15\n",
      "Eval loss: 38.812\n",
      "--------------------------------------------------------------------------\n"
     ]
    },
    {
     "data": {
      "application/vnd.jupyter.widget-view+json": {
       "model_id": "4be99a84dc944da7a6278044ecfc38a2",
       "version_major": 2,
       "version_minor": 0
      },
      "text/plain": [
       "Training of epoch 168/200:   0%|          | 0/1 [00:00<?, ?batch/s]"
      ]
     },
     "metadata": {},
     "output_type": "display_data"
    },
    {
     "data": {
      "application/vnd.jupyter.widget-view+json": {
       "model_id": "1639e07ea41c4eef996de775407ab870",
       "version_major": 2,
       "version_minor": 0
      },
      "text/plain": [
       "Eval of epoch 168/200:   0%|          | 0/1 [00:00<?, ?batch/s]"
      ]
     },
     "metadata": {},
     "output_type": "display_data"
    },
    {
     "name": "stderr",
     "output_type": "stream",
     "text": [
      "--------------------------------------------------------------------------\n",
      "Train loss: 39.0298\n",
      "Eval loss: 38.7131\n",
      "--------------------------------------------------------------------------\n"
     ]
    },
    {
     "data": {
      "application/vnd.jupyter.widget-view+json": {
       "model_id": "14fb817f524e434589a27f0cdfba7dd0",
       "version_major": 2,
       "version_minor": 0
      },
      "text/plain": [
       "Training of epoch 169/200:   0%|          | 0/1 [00:00<?, ?batch/s]"
      ]
     },
     "metadata": {},
     "output_type": "display_data"
    },
    {
     "data": {
      "application/vnd.jupyter.widget-view+json": {
       "model_id": "56f3bddae1f14a329dcf53059115641b",
       "version_major": 2,
       "version_minor": 0
      },
      "text/plain": [
       "Eval of epoch 169/200:   0%|          | 0/1 [00:00<?, ?batch/s]"
      ]
     },
     "metadata": {},
     "output_type": "display_data"
    },
    {
     "name": "stderr",
     "output_type": "stream",
     "text": [
      "--------------------------------------------------------------------------\n",
      "Train loss: 38.6316\n",
      "Eval loss: 39.1608\n",
      "--------------------------------------------------------------------------\n"
     ]
    },
    {
     "data": {
      "application/vnd.jupyter.widget-view+json": {
       "model_id": "7c9c9682bd2f4dc9a5d13e0784830c2c",
       "version_major": 2,
       "version_minor": 0
      },
      "text/plain": [
       "Training of epoch 170/200:   0%|          | 0/1 [00:00<?, ?batch/s]"
      ]
     },
     "metadata": {},
     "output_type": "display_data"
    },
    {
     "data": {
      "application/vnd.jupyter.widget-view+json": {
       "model_id": "d864f28231d54f06877fc56b8a30b4f7",
       "version_major": 2,
       "version_minor": 0
      },
      "text/plain": [
       "Eval of epoch 170/200:   0%|          | 0/1 [00:00<?, ?batch/s]"
      ]
     },
     "metadata": {},
     "output_type": "display_data"
    },
    {
     "name": "stderr",
     "output_type": "stream",
     "text": [
      "--------------------------------------------------------------------------\n",
      "Train loss: 38.7634\n",
      "Eval loss: 38.8137\n",
      "--------------------------------------------------------------------------\n"
     ]
    },
    {
     "data": {
      "application/vnd.jupyter.widget-view+json": {
       "model_id": "3a82a1a95e1848299f9e6cfffb12055a",
       "version_major": 2,
       "version_minor": 0
      },
      "text/plain": [
       "Training of epoch 171/200:   0%|          | 0/1 [00:00<?, ?batch/s]"
      ]
     },
     "metadata": {},
     "output_type": "display_data"
    },
    {
     "data": {
      "application/vnd.jupyter.widget-view+json": {
       "model_id": "694d5a8c51a4499893373e81a5a1f30f",
       "version_major": 2,
       "version_minor": 0
      },
      "text/plain": [
       "Eval of epoch 171/200:   0%|          | 0/1 [00:00<?, ?batch/s]"
      ]
     },
     "metadata": {},
     "output_type": "display_data"
    },
    {
     "name": "stderr",
     "output_type": "stream",
     "text": [
      "--------------------------------------------------------------------------\n",
      "Train loss: 38.4515\n",
      "Eval loss: 38.3256\n",
      "--------------------------------------------------------------------------\n"
     ]
    },
    {
     "data": {
      "application/vnd.jupyter.widget-view+json": {
       "model_id": "14a7f618ee904e4ca2c58886695a0dee",
       "version_major": 2,
       "version_minor": 0
      },
      "text/plain": [
       "Training of epoch 172/200:   0%|          | 0/1 [00:00<?, ?batch/s]"
      ]
     },
     "metadata": {},
     "output_type": "display_data"
    },
    {
     "data": {
      "application/vnd.jupyter.widget-view+json": {
       "model_id": "c6c1a1f44e474250a0ca7b3a49678212",
       "version_major": 2,
       "version_minor": 0
      },
      "text/plain": [
       "Eval of epoch 172/200:   0%|          | 0/1 [00:00<?, ?batch/s]"
      ]
     },
     "metadata": {},
     "output_type": "display_data"
    },
    {
     "name": "stderr",
     "output_type": "stream",
     "text": [
      "--------------------------------------------------------------------------\n",
      "Train loss: 38.1125\n",
      "Eval loss: 38.1173\n",
      "--------------------------------------------------------------------------\n"
     ]
    },
    {
     "data": {
      "application/vnd.jupyter.widget-view+json": {
       "model_id": "c803f3e162bf4e42b40c70e9293a4a5b",
       "version_major": 2,
       "version_minor": 0
      },
      "text/plain": [
       "Training of epoch 173/200:   0%|          | 0/1 [00:00<?, ?batch/s]"
      ]
     },
     "metadata": {},
     "output_type": "display_data"
    },
    {
     "data": {
      "application/vnd.jupyter.widget-view+json": {
       "model_id": "9a1760cb44a043ccaedc6246136b5163",
       "version_major": 2,
       "version_minor": 0
      },
      "text/plain": [
       "Eval of epoch 173/200:   0%|          | 0/1 [00:00<?, ?batch/s]"
      ]
     },
     "metadata": {},
     "output_type": "display_data"
    },
    {
     "name": "stderr",
     "output_type": "stream",
     "text": [
      "--------------------------------------------------------------------------\n",
      "Train loss: 37.8641\n",
      "Eval loss: 38.0916\n",
      "--------------------------------------------------------------------------\n"
     ]
    },
    {
     "data": {
      "application/vnd.jupyter.widget-view+json": {
       "model_id": "f190c1261ee945539df482d22617b39a",
       "version_major": 2,
       "version_minor": 0
      },
      "text/plain": [
       "Training of epoch 174/200:   0%|          | 0/1 [00:00<?, ?batch/s]"
      ]
     },
     "metadata": {},
     "output_type": "display_data"
    },
    {
     "data": {
      "application/vnd.jupyter.widget-view+json": {
       "model_id": "5c653e6fce1b4739961ec392ffc82f8f",
       "version_major": 2,
       "version_minor": 0
      },
      "text/plain": [
       "Eval of epoch 174/200:   0%|          | 0/1 [00:00<?, ?batch/s]"
      ]
     },
     "metadata": {},
     "output_type": "display_data"
    },
    {
     "name": "stderr",
     "output_type": "stream",
     "text": [
      "--------------------------------------------------------------------------\n",
      "Train loss: 37.7944\n",
      "Eval loss: 38.0026\n",
      "--------------------------------------------------------------------------\n"
     ]
    },
    {
     "data": {
      "application/vnd.jupyter.widget-view+json": {
       "model_id": "6d07efed9b1d469db93578bacc443734",
       "version_major": 2,
       "version_minor": 0
      },
      "text/plain": [
       "Training of epoch 175/200:   0%|          | 0/1 [00:00<?, ?batch/s]"
      ]
     },
     "metadata": {},
     "output_type": "display_data"
    },
    {
     "data": {
      "application/vnd.jupyter.widget-view+json": {
       "model_id": "340568f8885e4590aeb715554f933f41",
       "version_major": 2,
       "version_minor": 0
      },
      "text/plain": [
       "Eval of epoch 175/200:   0%|          | 0/1 [00:00<?, ?batch/s]"
      ]
     },
     "metadata": {},
     "output_type": "display_data"
    },
    {
     "name": "stderr",
     "output_type": "stream",
     "text": [
      "--------------------------------------------------------------------------\n",
      "Train loss: 37.6095\n",
      "Eval loss: 37.8039\n",
      "--------------------------------------------------------------------------\n"
     ]
    },
    {
     "data": {
      "application/vnd.jupyter.widget-view+json": {
       "model_id": "02f89401e968432a87cfc85fc2f31ff2",
       "version_major": 2,
       "version_minor": 0
      },
      "text/plain": [
       "Training of epoch 176/200:   0%|          | 0/1 [00:00<?, ?batch/s]"
      ]
     },
     "metadata": {},
     "output_type": "display_data"
    },
    {
     "data": {
      "application/vnd.jupyter.widget-view+json": {
       "model_id": "a62524b3e3a34a9ca6d05334a2f6718e",
       "version_major": 2,
       "version_minor": 0
      },
      "text/plain": [
       "Eval of epoch 176/200:   0%|          | 0/1 [00:00<?, ?batch/s]"
      ]
     },
     "metadata": {},
     "output_type": "display_data"
    },
    {
     "name": "stderr",
     "output_type": "stream",
     "text": [
      "--------------------------------------------------------------------------\n",
      "Train loss: 37.3717\n",
      "Eval loss: 38.0731\n",
      "--------------------------------------------------------------------------\n"
     ]
    },
    {
     "data": {
      "application/vnd.jupyter.widget-view+json": {
       "model_id": "70487d337b754248a771f4e358d2a1f7",
       "version_major": 2,
       "version_minor": 0
      },
      "text/plain": [
       "Training of epoch 177/200:   0%|          | 0/1 [00:00<?, ?batch/s]"
      ]
     },
     "metadata": {},
     "output_type": "display_data"
    },
    {
     "data": {
      "application/vnd.jupyter.widget-view+json": {
       "model_id": "b2e3826aec6440eb9832ff7b3a785ec9",
       "version_major": 2,
       "version_minor": 0
      },
      "text/plain": [
       "Eval of epoch 177/200:   0%|          | 0/1 [00:00<?, ?batch/s]"
      ]
     },
     "metadata": {},
     "output_type": "display_data"
    },
    {
     "name": "stderr",
     "output_type": "stream",
     "text": [
      "--------------------------------------------------------------------------\n",
      "Train loss: 37.6144\n",
      "Eval loss: 37.768\n",
      "--------------------------------------------------------------------------\n"
     ]
    },
    {
     "data": {
      "application/vnd.jupyter.widget-view+json": {
       "model_id": "92f6422f366049548dc49afd76e017ee",
       "version_major": 2,
       "version_minor": 0
      },
      "text/plain": [
       "Training of epoch 178/200:   0%|          | 0/1 [00:00<?, ?batch/s]"
      ]
     },
     "metadata": {},
     "output_type": "display_data"
    },
    {
     "data": {
      "application/vnd.jupyter.widget-view+json": {
       "model_id": "6c2b3ad68a47485b8c115e1a9fdbece3",
       "version_major": 2,
       "version_minor": 0
      },
      "text/plain": [
       "Eval of epoch 178/200:   0%|          | 0/1 [00:00<?, ?batch/s]"
      ]
     },
     "metadata": {},
     "output_type": "display_data"
    },
    {
     "name": "stderr",
     "output_type": "stream",
     "text": [
      "--------------------------------------------------------------------------\n",
      "Train loss: 37.4578\n",
      "Eval loss: 37.4425\n",
      "--------------------------------------------------------------------------\n"
     ]
    },
    {
     "data": {
      "application/vnd.jupyter.widget-view+json": {
       "model_id": "0137a136d7b04ce79766079593ffdfbf",
       "version_major": 2,
       "version_minor": 0
      },
      "text/plain": [
       "Training of epoch 179/200:   0%|          | 0/1 [00:00<?, ?batch/s]"
      ]
     },
     "metadata": {},
     "output_type": "display_data"
    },
    {
     "data": {
      "application/vnd.jupyter.widget-view+json": {
       "model_id": "65957fc184dd42f5bdd39099c398071b",
       "version_major": 2,
       "version_minor": 0
      },
      "text/plain": [
       "Eval of epoch 179/200:   0%|          | 0/1 [00:00<?, ?batch/s]"
      ]
     },
     "metadata": {},
     "output_type": "display_data"
    },
    {
     "name": "stderr",
     "output_type": "stream",
     "text": [
      "--------------------------------------------------------------------------\n",
      "Train loss: 37.2137\n",
      "Eval loss: 37.3242\n",
      "--------------------------------------------------------------------------\n"
     ]
    },
    {
     "data": {
      "application/vnd.jupyter.widget-view+json": {
       "model_id": "c9226dec43b940fb98c52cd94b24f1fb",
       "version_major": 2,
       "version_minor": 0
      },
      "text/plain": [
       "Training of epoch 180/200:   0%|          | 0/1 [00:00<?, ?batch/s]"
      ]
     },
     "metadata": {},
     "output_type": "display_data"
    },
    {
     "data": {
      "application/vnd.jupyter.widget-view+json": {
       "model_id": "a67d4eb46e13483f8c24434fc41f9e98",
       "version_major": 2,
       "version_minor": 0
      },
      "text/plain": [
       "Eval of epoch 180/200:   0%|          | 0/1 [00:00<?, ?batch/s]"
      ]
     },
     "metadata": {},
     "output_type": "display_data"
    },
    {
     "name": "stderr",
     "output_type": "stream",
     "text": [
      "--------------------------------------------------------------------------\n",
      "Train loss: 36.8964\n",
      "Eval loss: 37.3285\n",
      "--------------------------------------------------------------------------\n"
     ]
    },
    {
     "data": {
      "application/vnd.jupyter.widget-view+json": {
       "model_id": "20aaa934393d42edbba44c0d24cf2b6a",
       "version_major": 2,
       "version_minor": 0
      },
      "text/plain": [
       "Training of epoch 181/200:   0%|          | 0/1 [00:00<?, ?batch/s]"
      ]
     },
     "metadata": {},
     "output_type": "display_data"
    },
    {
     "data": {
      "application/vnd.jupyter.widget-view+json": {
       "model_id": "e2902dd238934d6ca7d6fb7865fda00e",
       "version_major": 2,
       "version_minor": 0
      },
      "text/plain": [
       "Eval of epoch 181/200:   0%|          | 0/1 [00:00<?, ?batch/s]"
      ]
     },
     "metadata": {},
     "output_type": "display_data"
    },
    {
     "name": "stderr",
     "output_type": "stream",
     "text": [
      "--------------------------------------------------------------------------\n",
      "Train loss: 36.7158\n",
      "Eval loss: 37.4484\n",
      "--------------------------------------------------------------------------\n"
     ]
    },
    {
     "data": {
      "application/vnd.jupyter.widget-view+json": {
       "model_id": "cdaf6331e78c4382b64d3b77bf47f47a",
       "version_major": 2,
       "version_minor": 0
      },
      "text/plain": [
       "Training of epoch 182/200:   0%|          | 0/1 [00:00<?, ?batch/s]"
      ]
     },
     "metadata": {},
     "output_type": "display_data"
    },
    {
     "data": {
      "application/vnd.jupyter.widget-view+json": {
       "model_id": "14dcd1825e9f441db0d74565484d9539",
       "version_major": 2,
       "version_minor": 0
      },
      "text/plain": [
       "Eval of epoch 182/200:   0%|          | 0/1 [00:00<?, ?batch/s]"
      ]
     },
     "metadata": {},
     "output_type": "display_data"
    },
    {
     "name": "stderr",
     "output_type": "stream",
     "text": [
      "--------------------------------------------------------------------------\n",
      "Train loss: 36.4612\n",
      "Eval loss: 37.0255\n",
      "--------------------------------------------------------------------------\n"
     ]
    },
    {
     "data": {
      "application/vnd.jupyter.widget-view+json": {
       "model_id": "ac356d83313c4c98aefb6557416d6a43",
       "version_major": 2,
       "version_minor": 0
      },
      "text/plain": [
       "Training of epoch 183/200:   0%|          | 0/1 [00:00<?, ?batch/s]"
      ]
     },
     "metadata": {},
     "output_type": "display_data"
    },
    {
     "data": {
      "application/vnd.jupyter.widget-view+json": {
       "model_id": "3cbc5a77b11d4b5a9755c3bba4adae6d",
       "version_major": 2,
       "version_minor": 0
      },
      "text/plain": [
       "Eval of epoch 183/200:   0%|          | 0/1 [00:00<?, ?batch/s]"
      ]
     },
     "metadata": {},
     "output_type": "display_data"
    },
    {
     "name": "stderr",
     "output_type": "stream",
     "text": [
      "--------------------------------------------------------------------------\n",
      "Train loss: 36.3398\n",
      "Eval loss: 36.3375\n",
      "--------------------------------------------------------------------------\n"
     ]
    },
    {
     "data": {
      "application/vnd.jupyter.widget-view+json": {
       "model_id": "76902ef5cb9e4db798b2b086ef09aa81",
       "version_major": 2,
       "version_minor": 0
      },
      "text/plain": [
       "Training of epoch 184/200:   0%|          | 0/1 [00:00<?, ?batch/s]"
      ]
     },
     "metadata": {},
     "output_type": "display_data"
    },
    {
     "data": {
      "application/vnd.jupyter.widget-view+json": {
       "model_id": "9f1360c6233f44dd8d4a491422fa024b",
       "version_major": 2,
       "version_minor": 0
      },
      "text/plain": [
       "Eval of epoch 184/200:   0%|          | 0/1 [00:00<?, ?batch/s]"
      ]
     },
     "metadata": {},
     "output_type": "display_data"
    },
    {
     "name": "stderr",
     "output_type": "stream",
     "text": [
      "--------------------------------------------------------------------------\n",
      "Train loss: 36.6853\n",
      "Eval loss: 36.7074\n",
      "--------------------------------------------------------------------------\n"
     ]
    },
    {
     "data": {
      "application/vnd.jupyter.widget-view+json": {
       "model_id": "fef91a52d715419d856a7eb57437e22a",
       "version_major": 2,
       "version_minor": 0
      },
      "text/plain": [
       "Training of epoch 185/200:   0%|          | 0/1 [00:00<?, ?batch/s]"
      ]
     },
     "metadata": {},
     "output_type": "display_data"
    },
    {
     "data": {
      "application/vnd.jupyter.widget-view+json": {
       "model_id": "e57eecf0cfe64889816bdb135bd83948",
       "version_major": 2,
       "version_minor": 0
      },
      "text/plain": [
       "Eval of epoch 185/200:   0%|          | 0/1 [00:00<?, ?batch/s]"
      ]
     },
     "metadata": {},
     "output_type": "display_data"
    },
    {
     "name": "stderr",
     "output_type": "stream",
     "text": [
      "--------------------------------------------------------------------------\n",
      "Train loss: 36.4502\n",
      "Eval loss: 36.5332\n",
      "--------------------------------------------------------------------------\n"
     ]
    },
    {
     "data": {
      "application/vnd.jupyter.widget-view+json": {
       "model_id": "210fadb6f0f84b5eafb01cb67451692f",
       "version_major": 2,
       "version_minor": 0
      },
      "text/plain": [
       "Training of epoch 186/200:   0%|          | 0/1 [00:00<?, ?batch/s]"
      ]
     },
     "metadata": {},
     "output_type": "display_data"
    },
    {
     "data": {
      "application/vnd.jupyter.widget-view+json": {
       "model_id": "d9755d40599a419c92398da584387850",
       "version_major": 2,
       "version_minor": 0
      },
      "text/plain": [
       "Eval of epoch 186/200:   0%|          | 0/1 [00:00<?, ?batch/s]"
      ]
     },
     "metadata": {},
     "output_type": "display_data"
    },
    {
     "name": "stderr",
     "output_type": "stream",
     "text": [
      "--------------------------------------------------------------------------\n",
      "Train loss: 35.6816\n",
      "Eval loss: 36.3607\n",
      "--------------------------------------------------------------------------\n"
     ]
    },
    {
     "data": {
      "application/vnd.jupyter.widget-view+json": {
       "model_id": "cd094abb5b944a88861865ef48eee37f",
       "version_major": 2,
       "version_minor": 0
      },
      "text/plain": [
       "Training of epoch 187/200:   0%|          | 0/1 [00:00<?, ?batch/s]"
      ]
     },
     "metadata": {},
     "output_type": "display_data"
    },
    {
     "data": {
      "application/vnd.jupyter.widget-view+json": {
       "model_id": "935de2d4be41400cb02db77d13fb1951",
       "version_major": 2,
       "version_minor": 0
      },
      "text/plain": [
       "Eval of epoch 187/200:   0%|          | 0/1 [00:00<?, ?batch/s]"
      ]
     },
     "metadata": {},
     "output_type": "display_data"
    },
    {
     "name": "stderr",
     "output_type": "stream",
     "text": [
      "--------------------------------------------------------------------------\n",
      "Train loss: 35.7649\n",
      "Eval loss: 36.8582\n",
      "--------------------------------------------------------------------------\n"
     ]
    },
    {
     "data": {
      "application/vnd.jupyter.widget-view+json": {
       "model_id": "cefe2c1798fd44108279b776c325a947",
       "version_major": 2,
       "version_minor": 0
      },
      "text/plain": [
       "Training of epoch 188/200:   0%|          | 0/1 [00:00<?, ?batch/s]"
      ]
     },
     "metadata": {},
     "output_type": "display_data"
    },
    {
     "data": {
      "application/vnd.jupyter.widget-view+json": {
       "model_id": "02e0ff124a3d404cb18b36c77f082583",
       "version_major": 2,
       "version_minor": 0
      },
      "text/plain": [
       "Eval of epoch 188/200:   0%|          | 0/1 [00:00<?, ?batch/s]"
      ]
     },
     "metadata": {},
     "output_type": "display_data"
    },
    {
     "name": "stderr",
     "output_type": "stream",
     "text": [
      "--------------------------------------------------------------------------\n",
      "Train loss: 35.6077\n",
      "Eval loss: 35.7368\n",
      "--------------------------------------------------------------------------\n"
     ]
    },
    {
     "data": {
      "application/vnd.jupyter.widget-view+json": {
       "model_id": "d4425d8af3694a44ab18ebeb8aad8b20",
       "version_major": 2,
       "version_minor": 0
      },
      "text/plain": [
       "Training of epoch 189/200:   0%|          | 0/1 [00:00<?, ?batch/s]"
      ]
     },
     "metadata": {},
     "output_type": "display_data"
    },
    {
     "data": {
      "application/vnd.jupyter.widget-view+json": {
       "model_id": "c150d7dab8c1423795ef8655539eb700",
       "version_major": 2,
       "version_minor": 0
      },
      "text/plain": [
       "Eval of epoch 189/200:   0%|          | 0/1 [00:00<?, ?batch/s]"
      ]
     },
     "metadata": {},
     "output_type": "display_data"
    },
    {
     "name": "stderr",
     "output_type": "stream",
     "text": [
      "--------------------------------------------------------------------------\n",
      "Train loss: 35.6056\n",
      "Eval loss: 35.5764\n",
      "--------------------------------------------------------------------------\n"
     ]
    },
    {
     "data": {
      "application/vnd.jupyter.widget-view+json": {
       "model_id": "c03a70069ee842d4b7dacb6c745e3d3c",
       "version_major": 2,
       "version_minor": 0
      },
      "text/plain": [
       "Training of epoch 190/200:   0%|          | 0/1 [00:00<?, ?batch/s]"
      ]
     },
     "metadata": {},
     "output_type": "display_data"
    },
    {
     "data": {
      "application/vnd.jupyter.widget-view+json": {
       "model_id": "9915670b79eb4942ae2ae1ba58f09dbb",
       "version_major": 2,
       "version_minor": 0
      },
      "text/plain": [
       "Eval of epoch 190/200:   0%|          | 0/1 [00:00<?, ?batch/s]"
      ]
     },
     "metadata": {},
     "output_type": "display_data"
    },
    {
     "name": "stderr",
     "output_type": "stream",
     "text": [
      "--------------------------------------------------------------------------\n",
      "Train loss: 35.3918\n",
      "Eval loss: 35.6978\n",
      "--------------------------------------------------------------------------\n"
     ]
    },
    {
     "data": {
      "application/vnd.jupyter.widget-view+json": {
       "model_id": "e77210b0305242dba65832f7d3f7a2c6",
       "version_major": 2,
       "version_minor": 0
      },
      "text/plain": [
       "Training of epoch 191/200:   0%|          | 0/1 [00:00<?, ?batch/s]"
      ]
     },
     "metadata": {},
     "output_type": "display_data"
    },
    {
     "data": {
      "application/vnd.jupyter.widget-view+json": {
       "model_id": "6cb5dd6216a041d29fdcba039b073cb1",
       "version_major": 2,
       "version_minor": 0
      },
      "text/plain": [
       "Eval of epoch 191/200:   0%|          | 0/1 [00:00<?, ?batch/s]"
      ]
     },
     "metadata": {},
     "output_type": "display_data"
    },
    {
     "name": "stderr",
     "output_type": "stream",
     "text": [
      "--------------------------------------------------------------------------\n",
      "Train loss: 35.3565\n",
      "Eval loss: 36.105\n",
      "--------------------------------------------------------------------------\n"
     ]
    },
    {
     "data": {
      "application/vnd.jupyter.widget-view+json": {
       "model_id": "d35a29b8b43842a28009bba160f29e75",
       "version_major": 2,
       "version_minor": 0
      },
      "text/plain": [
       "Training of epoch 192/200:   0%|          | 0/1 [00:00<?, ?batch/s]"
      ]
     },
     "metadata": {},
     "output_type": "display_data"
    },
    {
     "data": {
      "application/vnd.jupyter.widget-view+json": {
       "model_id": "9d97da1f57e84eca9ee2eeb837ed293b",
       "version_major": 2,
       "version_minor": 0
      },
      "text/plain": [
       "Eval of epoch 192/200:   0%|          | 0/1 [00:00<?, ?batch/s]"
      ]
     },
     "metadata": {},
     "output_type": "display_data"
    },
    {
     "name": "stderr",
     "output_type": "stream",
     "text": [
      "--------------------------------------------------------------------------\n",
      "Train loss: 35.5076\n",
      "Eval loss: 35.6864\n",
      "--------------------------------------------------------------------------\n"
     ]
    },
    {
     "data": {
      "application/vnd.jupyter.widget-view+json": {
       "model_id": "7ead5001228443e0bb9d068b6b858a58",
       "version_major": 2,
       "version_minor": 0
      },
      "text/plain": [
       "Training of epoch 193/200:   0%|          | 0/1 [00:00<?, ?batch/s]"
      ]
     },
     "metadata": {},
     "output_type": "display_data"
    },
    {
     "data": {
      "application/vnd.jupyter.widget-view+json": {
       "model_id": "9b06f4eb995b4723b51b47c500849ab7",
       "version_major": 2,
       "version_minor": 0
      },
      "text/plain": [
       "Eval of epoch 193/200:   0%|          | 0/1 [00:00<?, ?batch/s]"
      ]
     },
     "metadata": {},
     "output_type": "display_data"
    },
    {
     "name": "stderr",
     "output_type": "stream",
     "text": [
      "--------------------------------------------------------------------------\n",
      "Train loss: 35.2212\n",
      "Eval loss: 35.7882\n",
      "--------------------------------------------------------------------------\n"
     ]
    },
    {
     "data": {
      "application/vnd.jupyter.widget-view+json": {
       "model_id": "4d195ded634948a6a974ca05a00a9475",
       "version_major": 2,
       "version_minor": 0
      },
      "text/plain": [
       "Training of epoch 194/200:   0%|          | 0/1 [00:00<?, ?batch/s]"
      ]
     },
     "metadata": {},
     "output_type": "display_data"
    },
    {
     "data": {
      "application/vnd.jupyter.widget-view+json": {
       "model_id": "414a5b06c5ce460c8f58259c5373c41b",
       "version_major": 2,
       "version_minor": 0
      },
      "text/plain": [
       "Eval of epoch 194/200:   0%|          | 0/1 [00:00<?, ?batch/s]"
      ]
     },
     "metadata": {},
     "output_type": "display_data"
    },
    {
     "name": "stderr",
     "output_type": "stream",
     "text": [
      "--------------------------------------------------------------------------\n",
      "Train loss: 35.5113\n",
      "Eval loss: 36.3522\n",
      "--------------------------------------------------------------------------\n"
     ]
    },
    {
     "data": {
      "application/vnd.jupyter.widget-view+json": {
       "model_id": "c14ae5b38d2645bf9604b69339dff617",
       "version_major": 2,
       "version_minor": 0
      },
      "text/plain": [
       "Training of epoch 195/200:   0%|          | 0/1 [00:00<?, ?batch/s]"
      ]
     },
     "metadata": {},
     "output_type": "display_data"
    },
    {
     "data": {
      "application/vnd.jupyter.widget-view+json": {
       "model_id": "cadfbb9274dc4bd28e0d9d4b9ee63c70",
       "version_major": 2,
       "version_minor": 0
      },
      "text/plain": [
       "Eval of epoch 195/200:   0%|          | 0/1 [00:00<?, ?batch/s]"
      ]
     },
     "metadata": {},
     "output_type": "display_data"
    },
    {
     "name": "stderr",
     "output_type": "stream",
     "text": [
      "--------------------------------------------------------------------------\n",
      "Train loss: 34.789\n",
      "Eval loss: 36.0024\n",
      "--------------------------------------------------------------------------\n"
     ]
    },
    {
     "data": {
      "application/vnd.jupyter.widget-view+json": {
       "model_id": "584b6eb7dd854f5fa32ed02b8b24a5cc",
       "version_major": 2,
       "version_minor": 0
      },
      "text/plain": [
       "Training of epoch 196/200:   0%|          | 0/1 [00:00<?, ?batch/s]"
      ]
     },
     "metadata": {},
     "output_type": "display_data"
    },
    {
     "data": {
      "application/vnd.jupyter.widget-view+json": {
       "model_id": "b4da2a23ea0345f7848c5035d8d414d5",
       "version_major": 2,
       "version_minor": 0
      },
      "text/plain": [
       "Eval of epoch 196/200:   0%|          | 0/1 [00:00<?, ?batch/s]"
      ]
     },
     "metadata": {},
     "output_type": "display_data"
    },
    {
     "name": "stderr",
     "output_type": "stream",
     "text": [
      "--------------------------------------------------------------------------\n",
      "Train loss: 34.8613\n",
      "Eval loss: 35.4418\n",
      "--------------------------------------------------------------------------\n"
     ]
    },
    {
     "data": {
      "application/vnd.jupyter.widget-view+json": {
       "model_id": "621ebb254b2a4609a6dbd1227a385729",
       "version_major": 2,
       "version_minor": 0
      },
      "text/plain": [
       "Training of epoch 197/200:   0%|          | 0/1 [00:00<?, ?batch/s]"
      ]
     },
     "metadata": {},
     "output_type": "display_data"
    },
    {
     "data": {
      "application/vnd.jupyter.widget-view+json": {
       "model_id": "4ba66efe150948b58e45918b93a9bf15",
       "version_major": 2,
       "version_minor": 0
      },
      "text/plain": [
       "Eval of epoch 197/200:   0%|          | 0/1 [00:00<?, ?batch/s]"
      ]
     },
     "metadata": {},
     "output_type": "display_data"
    },
    {
     "name": "stderr",
     "output_type": "stream",
     "text": [
      "--------------------------------------------------------------------------\n",
      "Train loss: 34.8975\n",
      "Eval loss: 36.3347\n",
      "--------------------------------------------------------------------------\n"
     ]
    },
    {
     "data": {
      "application/vnd.jupyter.widget-view+json": {
       "model_id": "b93768e981364f89968b943c5bb03e26",
       "version_major": 2,
       "version_minor": 0
      },
      "text/plain": [
       "Training of epoch 198/200:   0%|          | 0/1 [00:00<?, ?batch/s]"
      ]
     },
     "metadata": {},
     "output_type": "display_data"
    },
    {
     "data": {
      "application/vnd.jupyter.widget-view+json": {
       "model_id": "caf4531b2b104e46b7edc17c04d0b5dd",
       "version_major": 2,
       "version_minor": 0
      },
      "text/plain": [
       "Eval of epoch 198/200:   0%|          | 0/1 [00:00<?, ?batch/s]"
      ]
     },
     "metadata": {},
     "output_type": "display_data"
    },
    {
     "name": "stderr",
     "output_type": "stream",
     "text": [
      "--------------------------------------------------------------------------\n",
      "Train loss: 34.9529\n",
      "Eval loss: 34.8099\n",
      "--------------------------------------------------------------------------\n"
     ]
    },
    {
     "data": {
      "application/vnd.jupyter.widget-view+json": {
       "model_id": "a036d3cd941148a39feb760564f4aceb",
       "version_major": 2,
       "version_minor": 0
      },
      "text/plain": [
       "Training of epoch 199/200:   0%|          | 0/1 [00:00<?, ?batch/s]"
      ]
     },
     "metadata": {},
     "output_type": "display_data"
    },
    {
     "data": {
      "application/vnd.jupyter.widget-view+json": {
       "model_id": "e93c1056a6df4d4fad051544dd10977f",
       "version_major": 2,
       "version_minor": 0
      },
      "text/plain": [
       "Eval of epoch 199/200:   0%|          | 0/1 [00:00<?, ?batch/s]"
      ]
     },
     "metadata": {},
     "output_type": "display_data"
    },
    {
     "name": "stderr",
     "output_type": "stream",
     "text": [
      "--------------------------------------------------------------------------\n",
      "Train loss: 34.4901\n",
      "Eval loss: 35.0022\n",
      "--------------------------------------------------------------------------\n"
     ]
    },
    {
     "data": {
      "application/vnd.jupyter.widget-view+json": {
       "model_id": "dcd0a931b6a742ac812a7a43fb4d3b99",
       "version_major": 2,
       "version_minor": 0
      },
      "text/plain": [
       "Training of epoch 200/200:   0%|          | 0/1 [00:00<?, ?batch/s]"
      ]
     },
     "metadata": {},
     "output_type": "display_data"
    },
    {
     "data": {
      "application/vnd.jupyter.widget-view+json": {
       "model_id": "349c8cb3496045848d360146b65cfe96",
       "version_major": 2,
       "version_minor": 0
      },
      "text/plain": [
       "Eval of epoch 200/200:   0%|          | 0/1 [00:00<?, ?batch/s]"
      ]
     },
     "metadata": {},
     "output_type": "display_data"
    },
    {
     "name": "stderr",
     "output_type": "stream",
     "text": [
      "--------------------------------------------------------------------------\n",
      "Train loss: 34.1602\n",
      "Eval loss: 35.3921\n",
      "--------------------------------------------------------------------------\n",
      "Training ended!\n",
      "Saved final model in experiments/RHVAE_training_2024-06-10_13-46-11/final_model\n"
     ]
    },
    {
     "name": "stdout",
     "output_type": "stream",
     "text": [
      "CPU times: user 38.1 s, sys: 935 ms, total: 39 s\n",
      "Wall time: 40.4 s\n"
     ]
    }
   ],
   "source": [
    "%%time\n",
    "\n",
    "from pythae.trainers import BaseTrainerConfig, BaseTrainer\n",
    "from pythae.trainers.training_callbacks import TrainHistoryCallback\n",
    "from pythae.pipelines.training import TrainingPipeline\n",
    "\n",
    "training_config = BaseTrainerConfig(\n",
    "    output_dir='experiments',\n",
    "    num_epochs=200,\n",
    "    learning_rate=1e-3,\n",
    "    per_device_train_batch_size=len(train_dataset),\n",
    "    per_device_eval_batch_size=len(eval_dataset),\n",
    "    #optimizer_cls=\"AdamW\",\n",
    "    #optimizer_params={\"weight_decay\": 0.05, \"betas\": (0.91, 0.99)},\n",
    "    scheduler_cls=\"ReduceLROnPlateau\",\n",
    "    scheduler_params={\"patience\": 10, \"factor\": 0.5, \"verbose\": True}\n",
    ")\n",
    "\n",
    "pipeline = TrainingPipeline(\n",
    "        training_config=training_config,\n",
    "        model=model\n",
    ")\n",
    "\n",
    "callbacks = []\n",
    "history_cb = TrainHistoryCallback()\n",
    "callbacks.append(history_cb)\n",
    "\n",
    "if TRAIN_FLAG:\n",
    "    pipeline(\n",
    "        train_data=train_dataset,\n",
    "        eval_data=eval_dataset,\n",
    "        callbacks=callbacks\n",
    "    )\n",
    "else:\n",
    "    pass"
   ]
  },
  {
   "cell_type": "markdown",
   "metadata": {},
   "source": [
    "## Loss History"
   ]
  },
  {
   "cell_type": "code",
   "execution_count": 14,
   "metadata": {},
   "outputs": [
    {
     "data": {
      "image/png": "[encoded data removed]",
      "text/plain": [
       "<Figure size 1000x600 with 1 Axes>"
      ]
     },
     "metadata": {},
     "output_type": "display_data"
    }
   ],
   "source": [
    "# Create the plot\n",
    "plt.figure(figsize=(10, 6))\n",
    "plt.plot(history_cb.history['train_loss'], label='Training Loss', marker='o')\n",
    "plt.plot(history_cb.history['eval_loss'], label='Evaluation Loss', marker='x')\n",
    "\n",
    "# Add titles and labels\n",
    "plt.title('Training and Evaluation Loss Over Epochs')\n",
    "plt.xlabel('Epochs')\n",
    "plt.ylabel('Loss')\n",
    "#plt.yscale('log')\n",
    "plt.legend()\n",
    "\n",
    "# Show the plot\n",
    "plt.grid(True)\n",
    "plt.show()"
   ]
  },
  {
   "cell_type": "markdown",
   "metadata": {
    "editable": true,
    "jp-MarkdownHeadingCollapsed": true,
    "slideshow": {
     "slide_type": ""
    },
    "tags": []
   },
   "source": [
    "## Trained Model"
   ]
  },
  {
   "cell_type": "code",
   "execution_count": null,
   "metadata": {},
   "outputs": [],
   "source": [
    "from pythae.models import AutoModel\n",
    "\n",
    "if TRAIN_FLAG:\n",
    "    trained_model = model\n",
    "else:\n",
    "    trained_model = AutoModel.load_from_folder(glob.glob('experiments/*/final_model')[0])\n",
    "    #trained_model = AutoModel.load_from_hf_hub(hf_hub_path=\"clementchadebec/reproduced_vae\", allow_pickle=True)"
   ]
  },
  {
   "cell_type": "markdown",
   "metadata": {},
   "source": [
    "# LATENT SPACE"
   ]
  },
  {
   "cell_type": "code",
   "execution_count": null,
   "metadata": {},
   "outputs": [],
   "source": [
    "# latents = trained_model.encoder(eval_dataset.to(device)).embedding.detach().cpu().numpy()\n",
    "\n",
    "# plt.figure(figsize=(8, 6))\n",
    "# scatter = plt.scatter(latents[:, 0], latents[:, 1], c=eval_labels, cmap='viridis', marker='o')\n",
    "# legend = plt.legend(*scatter.legend_elements(), title=\"Classes\")\n"
   ]
  },
  {
   "cell_type": "code",
   "execution_count": null,
   "metadata": {},
   "outputs": [],
   "source": [
    "# Extract latent space representations\n",
    "z_mean = trained_model.encoder(eval_dataset.to(device)).embedding.detach().cpu().numpy()\n",
    "z_log_var = trained_model.encoder(eval_dataset.to(device)).log_covariance.detach().cpu().numpy()\n",
    "y_test = eval_labels\n",
    "\n",
    "# Plotting the latent space\n",
    "def plot_cov_ellipse(mean, cov, ax, color='gray', nstd=1.0, **kwargs):\n",
    "    \"\"\"Plots an ellipse representing the covariance matrix.\"\"\"\n",
    "    from matplotlib.patches import Ellipse\n",
    "    import matplotlib.transforms as transforms\n",
    "    \n",
    "    pearson = cov[0, 1] / np.sqrt(cov[0, 0] * cov[1, 1])\n",
    "    ell_radius_x = np.sqrt(1 + pearson)\n",
    "    ell_radius_y = np.sqrt(1 - pearson)\n",
    "    ellipse = Ellipse((0, 0), width=ell_radius_x * 2, height=ell_radius_y * 2, facecolor=color, edgecolor='none', **kwargs)\n",
    "    \n",
    "    scale_x = np.sqrt(cov[0, 0]) * nstd\n",
    "    scale_y = np.sqrt(cov[1, 1]) * nstd\n",
    "    transf = transforms.Affine2D().rotate_deg(45).scale(scale_x, scale_y).translate(mean[0], mean[1])\n",
    "    \n",
    "    ellipse.set_transform(transf + ax.transData)\n",
    "    ax.add_patch(ellipse)\n",
    "\n",
    "fig, ax = plt.subplots(figsize=(10, 8))\n",
    "\n",
    "# Plot covariance ellipses\n",
    "for i in range(len(z_mean)):\n",
    "    cov = np.diag(np.exp(z_log_var[i]))\n",
    "    plot_cov_ellipse(z_mean[i], cov, ax, color='gray', alpha=0.2)\n",
    "    \n",
    "scatter = ax.scatter(z_mean[:, 0], z_mean[:, 1], c=y_test, cmap='viridis', alpha=1)\n",
    "legend = plt.legend(*scatter.legend_elements(), title=\"Classes\")\n",
    "\n",
    "plt.colorbar(scatter, ax=ax)\n",
    "ax.set_xlabel('Latent Dimension 1')\n",
    "ax.set_ylabel('Latent Dimension 2')\n",
    "ax.set_title('Latent Space of VAE with Covariance Ellipses')\n",
    "plt.show()"
   ]
  },
  {
   "cell_type": "code",
   "execution_count": null,
   "metadata": {},
   "outputs": [],
   "source": [
    "trained_model\n",
    "# 'centroids',\n",
    " # 'centroids_tens', \n",
    " # 'metric', \n",
    " # 'G',\n",
    " # 'G_inv',\n",
    " # 'M',\n",
    " # 'M_tens',\n",
    " # 'T_destination',"
   ]
  },
  {
   "cell_type": "markdown",
   "metadata": {
    "editable": true,
    "slideshow": {
     "slide_type": ""
    },
    "tags": []
   },
   "source": [
    "# RECONSTRUCTIONS"
   ]
  },
  {
   "cell_type": "code",
   "execution_count": null,
   "metadata": {},
   "outputs": [],
   "source": [
    "reconstructions = trained_model.reconstruct(eval_dataset[:25].to(device)).detach().cpu()\n",
    "\n",
    "plot_grid(reconstructions)"
   ]
  },
  {
   "cell_type": "markdown",
   "metadata": {},
   "source": [
    "# INTERPOLATIONS"
   ]
  },
  {
   "cell_type": "code",
   "execution_count": null,
   "metadata": {},
   "outputs": [],
   "source": [
    "interpolations = trained_model.interpolate(eval_dataset[:5].to(device), eval_dataset[5:10].to(device), granularity=10).detach().cpu()\n",
    "\n",
    "fig, axes = plt.subplots(nrows=5, ncols=10, figsize=(10, 5))\n",
    "\n",
    "for i in range(5):\n",
    "    for j in range(10):\n",
    "        axes[i][j].imshow(interpolations[i, j].cpu().squeeze(0), cmap='gray')\n",
    "        axes[i][j].axis('off')\n",
    "plt.tight_layout(pad=0.)"
   ]
  },
  {
   "attachments": {},
   "cell_type": "markdown",
   "metadata": {},
   "source": [
    "# GENERATE"
   ]
  },
  {
   "cell_type": "markdown",
   "metadata": {},
   "source": [
    "### Metrics"
   ]
  },
  {
   "cell_type": "code",
   "execution_count": null,
   "metadata": {},
   "outputs": [],
   "source": [
    "from torchmetrics.image.fid import FrechetInceptionDistance\n",
    "from torchmetrics.image.inception import InceptionScore\n",
    "\n",
    "# FID score computation class\n",
    "fid_calculator = FrechetInceptionDistance(feature=64, reset_real_features=False, normalize=True)\n",
    "fid_calculator.update(train_dataset.expand(train_dataset.shape[0], 3, 28, 28)[:200,].to('cpu'), real=True)\n",
    "\n",
    "# IS score computation class\n",
    "is_calculator = InceptionScore(normalize=True)\n",
    "\n",
    "def compute_fid_score(gen_data):\n",
    "    # Lower is better\n",
    "    # greater sample variety\n",
    "    fid_calculator.update(gen_data.expand(gen_data.shape[0], 3, 28, 28).cpu(), real=False)\n",
    "    fid_score = fid_calculator.compute().item()\n",
    "    print(f\"FID = {fid_score:.4f}\")\n",
    "    return fid_score\n",
    "\n",
    "def compute_is_score(gen_data):\n",
    "    # Higher is better\n",
    "    # better quality within individual images\n",
    "    is_calculator.update(gen_data.expand(gen_data.shape[0], 3, 28, 28).cpu())\n",
    "    is_score = is_calculator.compute()\n",
    "    print(f\"IS [mean] = {is_score[0].item():.4f}\")\n",
    "    print(f\"IS [std] = {is_score[1].item():.4f}\")\n"
   ]
  },
  {
   "cell_type": "markdown",
   "metadata": {},
   "source": [
    "## Generators"
   ]
  },
  {
   "cell_type": "markdown",
   "metadata": {},
   "source": [
    "### Normal Sampler"
   ]
  },
  {
   "cell_type": "code",
   "execution_count": null,
   "metadata": {},
   "outputs": [],
   "source": [
    "from pythae.samplers import NormalSampler\n",
    "\n",
    "sampler = NormalSampler(\n",
    "    model=trained_model,\n",
    "    sampler_config=None\n",
    ")\n",
    "gen_data = sampler.sample(\n",
    "    num_samples=25,\n",
    ")"
   ]
  },
  {
   "cell_type": "code",
   "execution_count": null,
   "metadata": {},
   "outputs": [],
   "source": [
    "plot_grid(gen_data.data.cpu())\n",
    "compute_fid_score(gen_data)\n",
    "compute_is_score(gen_data)"
   ]
  },
  {
   "cell_type": "markdown",
   "metadata": {},
   "source": [
    "### Gaussian Mixture Model Sampler"
   ]
  },
  {
   "cell_type": "code",
   "execution_count": null,
   "metadata": {},
   "outputs": [],
   "source": [
    "from pythae.samplers import GaussianMixtureSampler, GaussianMixtureSamplerConfig\n",
    "\n",
    "\n",
    "gmm_sampler_config = GaussianMixtureSamplerConfig(\n",
    "    n_components=2\n",
    ")\n",
    "\n",
    "gmm_sampler = GaussianMixtureSampler(\n",
    "    sampler_config=gmm_sampler_config,\n",
    "    model=trained_model\n",
    ")\n",
    "\n",
    "gmm_sampler.fit(\n",
    "    train_data=train_dataset\n",
    ")\n",
    "\n",
    "gmm_gen_data = gmm_sampler.sample(\n",
    "   num_samples=25\n",
    ")"
   ]
  },
  {
   "cell_type": "code",
   "execution_count": null,
   "metadata": {},
   "outputs": [],
   "source": [
    "plot_grid(gmm_gen_data.data.cpu())\n",
    "compute_fid_score(gmm_gen_data)\n",
    "compute_is_score(gmm_gen_data)"
   ]
  },
  {
   "cell_type": "markdown",
   "metadata": {},
   "source": [
    "### RHVAE Sampler"
   ]
  },
  {
   "cell_type": "code",
   "execution_count": null,
   "metadata": {},
   "outputs": [],
   "source": [
    "from pythae.samplers import RHVAESampler, RHVAESamplerConfig\n",
    "\n",
    "rh_sampler_config = RHVAESamplerConfig(\n",
    "    mcmc_steps_nbr = 100,\n",
    "    n_lf = 15,\n",
    "    eps_lf = 1e-3,\n",
    "    beta_zero = 0.3\n",
    ")\n",
    "\n",
    "rh_sampler = RHVAESampler(\n",
    "    sampler_config=rh_sampler_config,\n",
    "    model=trained_model\n",
    ")\n",
    "\n",
    "rh_sampler.fit(\n",
    "    train_data=train_dataset\n",
    ")\n",
    "\n",
    "rh_gen_data = rh_sampler.sample(\n",
    "   num_samples=25\n",
    ")"
   ]
  },
  {
   "cell_type": "code",
   "execution_count": null,
   "metadata": {},
   "outputs": [],
   "source": [
    "plot_grid(rh_gen_data.cpu())\n",
    "compute_fid_score(rh_gen_data)\n",
    "compute_is_score(rh_gen_data)"
   ]
  },
  {
   "cell_type": "code",
   "execution_count": null,
   "metadata": {},
   "outputs": [],
   "source": []
  },
  {
   "cell_type": "code",
   "execution_count": null,
   "metadata": {},
   "outputs": [],
   "source": []
  },
  {
   "cell_type": "code",
   "execution_count": null,
   "metadata": {},
   "outputs": [],
   "source": []
  }
 ],
 "metadata": {
  "kernelspec": {
   "display_name": "Python 3 (ipykernel)",
   "language": "python",
   "name": "python3"
  },
  "language_info": {
   "codemirror_mode": {
    "name": "ipython",
    "version": 3
   },
   "file_extension": ".py",
   "mimetype": "text/x-python",
   "name": "python",
   "nbconvert_exporter": "python",
   "pygments_lexer": "ipython3",
   "version": "3.10.13"
  },
  "vscode": {
   "interpreter": {
    "hash": "ce8eda53abee1465fbe210c65d7898904902cb11262939320a138d6c4f1f5b5e"
   }
  }
 },
 "nbformat": 4,
 "nbformat_minor": 4
}
